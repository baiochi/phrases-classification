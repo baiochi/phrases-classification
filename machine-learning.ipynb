{
 "cells": [
  {
   "cell_type": "markdown",
   "id": "4dee9621",
   "metadata": {},
   "source": [
    "# NPL with Multilabel Classification\n",
    "--- "
   ]
  },
  {
   "cell_type": "markdown",
   "id": "a06b396d",
   "metadata": {},
   "source": [
    "Challenge for the Hand Talk [selective process](https://handtalk.notion.site/Classifica-o-de-frases-por-setor-18c80adbbf874c519c9efe19678ac4c1).  \n",
    "*author: [@baiochi](http://github.com/baiochi)*"
   ]
  },
  {
   "cell_type": "markdown",
   "id": "ebf48a0c",
   "metadata": {},
   "source": [
    "# Imports"
   ]
  },
  {
   "cell_type": "code",
   "execution_count": 35,
   "id": "fee9fa61",
   "metadata": {
    "ExecuteTime": {
     "end_time": "2022-09-26T02:05:11.524557Z",
     "start_time": "2022-09-26T02:05:04.152373Z"
    },
    "run_control": {
     "marked": true
    }
   },
   "outputs": [
    {
     "data": {
      "text/html": [
       "<details>\n",
       "<summary>Click to view session information</summary>\n",
       "<pre>\n",
       "-----\n",
       "hyperopt            0.2.7\n",
       "joblib              1.1.0\n",
       "matplotlib          3.5.1\n",
       "nltk                3.7\n",
       "numpy               1.21.5\n",
       "pandas              1.4.4\n",
       "plotly              5.9.0\n",
       "scipy               1.7.3\n",
       "seaborn             0.11.2\n",
       "session_info        1.0.0\n",
       "sklearn             1.1.1\n",
       "skmultilearn        NA\n",
       "streamlit           1.13.0\n",
       "tqdm                4.64.0\n",
       "unidecode           NA\n",
       "-----\n",
       "</pre>\n",
       "<details>\n",
       "<summary>Click to view modules imported as dependencies</summary>\n",
       "<pre>\n",
       "PIL                         9.2.0\n",
       "PyObjCTools                 NA\n",
       "altair                      4.2.0\n",
       "appnope                     0.1.2\n",
       "asttokens                   NA\n",
       "attr                        21.4.0\n",
       "backcall                    0.2.0\n",
       "beta_ufunc                  NA\n",
       "binom_ufunc                 NA\n",
       "blinker                     1.4\n",
       "bottleneck                  1.3.5\n",
       "brotli                      NA\n",
       "cachetools                  4.2.2\n",
       "cffi                        1.15.1\n",
       "click                       8.0.4\n",
       "cloudpickle                 2.0.0\n",
       "colorama                    0.4.5\n",
       "cycler                      0.10.0\n",
       "cython_runtime              NA\n",
       "cytoolz                     0.11.0\n",
       "dask                        2022.7.0\n",
       "dateutil                    2.8.2\n",
       "debugpy                     1.5.1\n",
       "decorator                   5.1.1\n",
       "defusedxml                  0.7.1\n",
       "distributed                 2022.7.0\n",
       "entrypoints                 0.4\n",
       "executing                   0.9.0\n",
       "fastjsonschema              NA\n",
       "fsspec                      2022.7.1\n",
       "future                      0.18.2\n",
       "google                      NA\n",
       "heapdict                    NA\n",
       "idna                        3.3\n",
       "importlib_metadata          NA\n",
       "ipykernel                   6.15.2\n",
       "ipython_genutils            0.2.0\n",
       "ipywidgets                  7.6.5\n",
       "jedi                        0.18.1\n",
       "jinja2                      2.11.3\n",
       "jsonschema                  4.5.1\n",
       "jupyter_server              1.18.1\n",
       "kiwisolver                  1.4.2\n",
       "locket                      NA\n",
       "lz4                         3.1.3\n",
       "markupsafe                  2.0.1\n",
       "matplotlib_inline           0.1.6\n",
       "mkl                         2.4.0\n",
       "mpl_toolkits                NA\n",
       "msgpack                     1.0.3\n",
       "nbformat                    5.5.0\n",
       "nbinom_ufunc                NA\n",
       "networkx                    2.8.4\n",
       "numexpr                     2.8.3\n",
       "orjson                      3.7.2\n",
       "packaging                   21.3\n",
       "parso                       0.8.3\n",
       "past                        0.18.2\n",
       "pexpect                     4.8.0\n",
       "pickle5                     NA\n",
       "pickleshare                 0.7.5\n",
       "pkg_resources               NA\n",
       "prompt_toolkit              3.0.20\n",
       "psutil                      5.9.0\n",
       "ptyprocess                  0.7.0\n",
       "pure_eval                   0.2.2\n",
       "pvectorc                    NA\n",
       "py4j                        0.10.9.3\n",
       "pyarrow                     7.0.0\n",
       "pydev_ipython               NA\n",
       "pydevconsole                NA\n",
       "pydevd                      2.6.0\n",
       "pydevd_concurrency_analyser NA\n",
       "pydevd_file_utils           NA\n",
       "pydevd_plugins              NA\n",
       "pydevd_tracing              NA\n",
       "pygments                    2.11.2\n",
       "pympler                     1.0.1\n",
       "pyparsing                   3.0.9\n",
       "pyrsistent                  NA\n",
       "pytz                        2022.1\n",
       "pytz_deprecation_shim       NA\n",
       "regex                       2.5.116\n",
       "setproctitle                1.2.3\n",
       "setuptools                  63.4.1\n",
       "six                         1.16.0\n",
       "snappy                      NA\n",
       "sortedcontainers            2.4.0\n",
       "sphinxcontrib               NA\n",
       "stack_data                  0.2.0\n",
       "statsmodels                 0.13.2\n",
       "tblib                       1.7.0\n",
       "tenacity                    NA\n",
       "threadpoolctl               2.2.0\n",
       "tlz                         0.11.0\n",
       "toml                        0.10.2\n",
       "toolz                       0.11.2\n",
       "tornado                     6.1\n",
       "traitlets                   5.1.1\n",
       "typing_extensions           NA\n",
       "tzlocal                     NA\n",
       "urllib3                     1.26.11\n",
       "validators                  0.18.2\n",
       "watchdog                    NA\n",
       "wcwidth                     0.2.5\n",
       "xarray                      0.20.1\n",
       "yaml                        6.0\n",
       "zict                        2.1.0\n",
       "zipp                        NA\n",
       "zmq                         23.2.0\n",
       "zoneinfo                    NA\n",
       "zope                        NA\n",
       "</pre>\n",
       "</details> <!-- seems like this ends pre, so might as well be explicit -->\n",
       "<pre>\n",
       "-----\n",
       "IPython             8.4.0\n",
       "jupyter_client      6.1.12\n",
       "jupyter_core        4.10.0\n",
       "jupyterlab          3.4.4\n",
       "notebook            6.4.12\n",
       "-----\n",
       "Python 3.9.12 (main, Apr  5 2022, 01:53:17) [Clang 12.0.0 ]\n",
       "macOS-10.15.7-x86_64-i386-64bit\n",
       "-----\n",
       "Session information updated at 2022-09-28 22:13\n",
       "</pre>\n",
       "</details>"
      ],
      "text/plain": [
       "<IPython.core.display.HTML object>"
      ]
     },
     "execution_count": 35,
     "metadata": {},
     "output_type": "execute_result"
    }
   ],
   "source": [
    "# Algebra and maths operations\n",
    "import numpy as np\n",
    "# Data manipulation\n",
    "import pandas as pd\n",
    "# NLP toolkit\n",
    "import nltk\n",
    "# ML tools\n",
    "import sklearn\n",
    "# Visualization tools\n",
    "import matplotlib.pyplot as plt\n",
    "import seaborn as sns; sns.set()\n",
    "import plotly.express as px\n",
    "import plotly.graph_objects as go\n",
    "# Progress bar\n",
    "from tqdm import tqdm\n",
    "tqdm.pandas()\n",
    "# Save models\n",
    "import joblib\n",
    "# Libraries version\n",
    "import session_info\n",
    "\n",
    "# Hide logs\n",
    "import logging\n",
    "loggers_to_shut_up = [\n",
    "    \"hyperopt.tpe\",\n",
    "    \"hyperopt.fmin\",\n",
    "    \"hyperopt.pyll.base\",\n",
    "]\n",
    "for logger in loggers_to_shut_up:\n",
    "    logging.getLogger(logger).setLevel(logging.ERROR)\n",
    "\n",
    "# Cutom plot colors\n",
    "URBAN_PALETTE_CATEGORICAL = pd.DataFrame({\n",
    "    'cyan'    : '#1696d2',\n",
    "    'gray'    : '#d2d2d2',\n",
    "    'magenta' : '#ec008b',\n",
    "    'yellow'  : '#fdbf11',\n",
    "    'dark'    : '#332d2f',\n",
    "    'ocean'   : '#0a4c6a',\n",
    "}, index=['hex_code'])\n",
    "\n",
    "# Colors for Cell output\n",
    "WHITE = '\\033[39m'\n",
    "CYAN = '\\033[36m'\n",
    "\n",
    "session_info.show()"
   ]
  },
  {
   "cell_type": "markdown",
   "id": "ae36385b",
   "metadata": {},
   "source": [
    "# First cycle: baseline model"
   ]
  },
  {
   "cell_type": "markdown",
   "id": "9aa6680e",
   "metadata": {},
   "source": [
    "The idea of creating a baseline model is to have a reference for the improved models.  \n",
    "It is a classifier with barely any transformation in the data(like feature engineering) or tunning hyper-parameters.  "
   ]
  },
  {
   "cell_type": "markdown",
   "id": "94989da4",
   "metadata": {
    "heading_collapsed": true
   },
   "source": [
    "### Select data and split into train/test"
   ]
  },
  {
   "cell_type": "markdown",
   "id": "1e6ef290",
   "metadata": {
    "hidden": true
   },
   "source": [
    "The first step of creating a model is to split data randomly into train and test datasets.  \n",
    "Train data will be used to fit the model, and in both will be computed metrics to evaluate model performance to check for underfitting or overfitting.\n",
    "In this example we will use 80% of data to train, and 20% to test.  \n",
    "\n",
    "> Note: for reproducibility reasons, we will run multi label binarize step again."
   ]
  },
  {
   "cell_type": "code",
   "execution_count": 2,
   "id": "81a5517a",
   "metadata": {
    "ExecuteTime": {
     "end_time": "2022-09-26T02:05:16.383549Z",
     "start_time": "2022-09-26T02:05:16.358782Z"
    },
    "hidden": true
   },
   "outputs": [
    {
     "name": "stdout",
     "output_type": "stream",
     "text": [
      "Data shape after splitting:\n",
      "X_train=(416,)\t\t X_test=(105,)\n",
      "y_train=(416, 5)\t y_test=(105, 5)\n"
     ]
    }
   ],
   "source": [
    "from sklearn.model_selection import train_test_split\n",
    "from sklearn.preprocessing import MultiLabelBinarizer\n",
    "\n",
    "# Read data\n",
    "df = pd.read_csv('data/dataset.csv')\n",
    "\n",
    "# Define features\n",
    "X = df['sentence']\n",
    "\n",
    "# Define target and binarize labels\n",
    "mlb = MultiLabelBinarizer()\n",
    "y = mlb.fit_transform(df['category'].apply(str.split, sep=','))\n",
    "labels = mlb.classes_\n",
    "\n",
    "# Apply train test split\n",
    "X_train, X_test, y_train, y_test = train_test_split(X, y, test_size=0.2, random_state=42)\n",
    "\n",
    "# Check data dimension\n",
    "print('Data shape after splitting:')\n",
    "print(f'X_train={X_train.shape}\\t\\t X_test={X_test.shape}\\ny_train={y_train.shape}\\t y_test={y_test.shape}')"
   ]
  },
  {
   "cell_type": "markdown",
   "id": "f52aa37c",
   "metadata": {
    "heading_collapsed": true
   },
   "source": [
    "### Build a `Pipeline` example with Logistic Regression"
   ]
  },
  {
   "cell_type": "markdown",
   "id": "5c325bed",
   "metadata": {
    "hidden": true
   },
   "source": [
    "One of the biggest advantage to use Sklearn `Pipeline` is to prevent data leakage.  \n",
    "\n",
    "> Data lakage can occour when using the test dataset in unwanted process, like scaling/vectorizing or when fitting the model. \n",
    "When this happens, the evaluation of train and test metrics to verify if the model is overfitted can be misleading.   \n",
    "  \n",
    " In order to build our pipeline, we must first:  \n",
    " - Instance our transformer, which in our case is `TfidfVectorizer`  \n",
    " - Instance the estimator, e.g. `Logisticregression`  \n",
    " - Select the meta classifier, we will begin with `MultiOutputClassifier`   \n",
    "   \n",
    "   \n",
    " > Note: `TfidfVectorizer` is equivalent to `CountVectorizer` followed by `TfidfTransformer`.  \n",
    "   \n",
    "     \n",
    " Then all of this objects will be grouped in a `list` and passed as a parameter to the `Pipeline` object.  \n",
    " Each element of the list repreentes a **step** of the piepline, consisting in a tuple of two values(a string describing the step, and the object itself).  \n",
    "   \n",
    " After fitting the data, the following metrics will be computed for the train and test datasets, in order to evaluate the model:     \n",
    "- **Mean accuracy score**: mean accuracy on the given test data and labels, ranging from 0% to 100%.  \n",
    "- **Hamming loss**: fraction of labels that are incorrectly predicted, ranging from 0 to 1, lower values means better score.  "
   ]
  },
  {
   "cell_type": "code",
   "execution_count": 3,
   "id": "d848fb2a",
   "metadata": {
    "ExecuteTime": {
     "end_time": "2022-09-26T02:05:16.604324Z",
     "start_time": "2022-09-26T02:05:16.391261Z"
    },
    "hidden": true
   },
   "outputs": [
    {
     "name": "stdout",
     "output_type": "stream",
     "text": [
      "Score for Logistic Regression\n",
      "\n",
      "\u001b[36mMean accuracy\u001b[39m\n",
      "Train dataset: 18.75%\n",
      "Test dataset:  11.43%\n",
      "\n",
      "\u001b[36mHamming loss average\u001b[39m\n",
      "Train dataset: 0.18\n",
      "Test datasets:  0.19\n",
      "\n",
      "\u001b[36mCross validation score\u001b[39m\n",
      "F1 weighted: 0.12\n"
     ]
    }
   ],
   "source": [
    "# Get portuguese stopwords\n",
    "from unidecode import unidecode\n",
    "pt_stopwords = [unidecode(word) for word in nltk.corpus.stopwords.words('portuguese')]\n",
    "\n",
    "# Instance the transformer\n",
    "from sklearn.feature_extraction.text import TfidfVectorizer\n",
    "# Convert a collection of raw documents to a matrix of TF-IDF features\n",
    "tfidf_vec = TfidfVectorizer(\n",
    "    strip_accents='unicode',\n",
    "    stop_words=pt_stopwords,\n",
    "    max_features=5000,\n",
    "    max_df=0.85,)\n",
    "\n",
    "# Instance estimator with default hyper-parameters\n",
    "from sklearn.linear_model import LogisticRegression\n",
    "lr = LogisticRegression()\n",
    "\n",
    "# Import meta classifier\n",
    "from sklearn.multioutput import MultiOutputClassifier\n",
    "\n",
    "# Create Pipeline\n",
    "from sklearn.pipeline import Pipeline\n",
    "lr_pipeline = Pipeline([\n",
    "    # Step 1, transform features\n",
    "    ('tfidf', tfidf_vec),\n",
    "    # Step 2, estimator wrapped in the meta classifier \n",
    "    ('clf_moc', MultiOutputClassifier(lr)),\n",
    "])\n",
    "\n",
    "# Fit model with train data\n",
    "lr_pipeline.fit(X_train, y_train)\n",
    "\n",
    "\n",
    "from sklearn.metrics import accuracy_score, hamming_loss\n",
    "\n",
    "# Compute metrics for the model\n",
    "print('Score for Logistic Regression')\n",
    "print(f'\\n{CYAN}Mean accuracy{WHITE}')\n",
    "print(f'Train dataset: {lr_pipeline.score(X_train, y_train)*100:.2f}%')\n",
    "print(f'Test dataset:  {lr_pipeline.score(X_test, y_test)*100:.2f}%')\n",
    "# Hamming Loss metrics\n",
    "print(f'\\n{CYAN}Hamming loss average{WHITE}')\n",
    "print(f'Train dataset: {hamming_loss(y_train, lr_pipeline.predict(X_train)):.2f}')\n",
    "print(f'Test datasets:  {hamming_loss(y_test, lr_pipeline.predict(X_test)):.2f}')\n",
    "\n",
    "# Cross validation score with F1 weighted\n",
    "from sklearn.model_selection import cross_val_score\n",
    "X_transf = tfidf_vec.transform(X)\n",
    "print(f'\\n{CYAN}Cross validation score{WHITE}\\nF1 weighted: {cross_val_score(lr_pipeline[1], X_transf, y, cv=5, scoring=\"f1_weighted\").mean():.2f}')"
   ]
  },
  {
   "cell_type": "markdown",
   "id": "9a020865",
   "metadata": {
    "hidden": true
   },
   "source": [
    "As we can see, the model performed very poorly.   \n",
    "Despite Logistic Regression being able to adapt in this multi label case, there are other algorithms more suitable to address this type of problem.  \n",
    "\n",
    "Some of them are:\n",
    "- Naive Bayes;\n",
    "- Decision tress;\n",
    "- Ensemble methods, e.g. Random Forest, Gradient Boosting.  \n",
    "\n",
    "For now, let's create a custom function to easly try between different estimators."
   ]
  },
  {
   "cell_type": "markdown",
   "id": "7943ebe0",
   "metadata": {
    "heading_collapsed": true
   },
   "source": [
    "### Custom function for the next estimators"
   ]
  },
  {
   "cell_type": "markdown",
   "id": "118570eb",
   "metadata": {
    "hidden": true
   },
   "source": [
    "This function will receive all the splitted data, transformer object, estimator object and meta classifier object."
   ]
  },
  {
   "cell_type": "code",
   "execution_count": 4,
   "id": "c2e162c2",
   "metadata": {
    "ExecuteTime": {
     "end_time": "2022-09-26T02:05:16.621121Z",
     "start_time": "2022-09-26T02:05:16.607716Z"
    },
    "hidden": true
   },
   "outputs": [],
   "source": [
    "# Function to run the pipeline for a given classifier and estimator\n",
    "def run_pipeline(X, y, transformer, estimator, multiclass_strategy=None, show_metrics=True):\n",
    "    \n",
    "    # Get name from variable type\n",
    "    var_name = lambda x : str(type(x)).split('.')[-1][:-2]\n",
    "    transformer_name = var_name(transformer)\n",
    "    estimator_name = var_name(estimator)\n",
    "\n",
    "    # Apply train test split\n",
    "    X_train, X_test, y_train, y_test = train_test_split(X, y, test_size=0.2, random_state=42)\n",
    "\n",
    "    if multiclass_strategy:\n",
    "        print(f'Multiclass strategy: {str(multiclass_strategy).split(\".\")[-1][:-2]}')\n",
    "        estimator = multiclass_strategy(estimator)\n",
    "    print(f'Estimator: {estimator_name}')\n",
    "\n",
    "     # Create Pipeline\n",
    "    pipeline = Pipeline([\n",
    "        (transformer_name,        transformer),\n",
    "        ('clf_' + estimator_name, estimator),\n",
    "    ])\n",
    "    \n",
    "    # Fit model\n",
    "    try:\n",
    "        pipeline.fit(X_train, y_train)\n",
    "    except ValueError:\n",
    "        print(f'\\nError: y should be a 1d array, got an array of shape {y_train.shape} instead.')\n",
    "        print('Try wrapping the estimator in a meta classifier.')\n",
    "        return None\n",
    "\n",
    "    if show_metrics:\n",
    "        # Model score (average accuracy)\n",
    "        print(f'\\n{CYAN}Average accuracy score{WHITE}')\n",
    "        print(f'Train dataset: {pipeline.score(X_train, y_train)*100:.2f}%')\n",
    "        print(f'Test dataset:  {pipeline.score(X_test, y_test)*100:.2f}%')\n",
    "        # Hamming Loss metrics\n",
    "        print(f'\\n{CYAN}Hamming loss average{WHITE}')\n",
    "        print(f'Train dataset: {hamming_loss(y_train, pipeline.predict(X_train)):.2f}')\n",
    "        print(f'Test datasets:  {hamming_loss(y_test, pipeline.predict(X_test)):.2f}')\n",
    "        # Cross validation score with F1 weighted\n",
    "        X_transf = tfidf_vec.transform(X)\n",
    "        print(f'\\n{CYAN}Cross validation score{WHITE}\\nF1 weighted: {cross_val_score(pipeline[1], X_transf, y, cv=5, scoring=\"f1_weighted\").mean():.2f}')\n",
    "    \n",
    "    return pipeline"
   ]
  },
  {
   "cell_type": "code",
   "execution_count": 5,
   "id": "7600c0f5",
   "metadata": {
    "ExecuteTime": {
     "end_time": "2022-09-26T02:05:16.819581Z",
     "start_time": "2022-09-26T02:05:16.627286Z"
    },
    "hidden": true
   },
   "outputs": [
    {
     "name": "stdout",
     "output_type": "stream",
     "text": [
      "Multiclass strategy: MultiOutputClassifier\n",
      "Estimator: LogisticRegression\n",
      "\n",
      "\u001b[36mAverage accuracy score\u001b[39m\n",
      "Train dataset: 18.75%\n",
      "Test dataset:  11.43%\n",
      "\n",
      "\u001b[36mHamming loss average\u001b[39m\n",
      "Train dataset: 0.18\n",
      "Test datasets:  0.19\n",
      "\n",
      "\u001b[36mCross validation score\u001b[39m\n",
      "F1 weighted: 0.12\n"
     ]
    }
   ],
   "source": [
    "# Testing with LogisticRegression\n",
    "lr_pipeline = run_pipeline(X, y , tfidf_vec, LogisticRegression(), MultiOutputClassifier)"
   ]
  },
  {
   "cell_type": "code",
   "execution_count": 6,
   "id": "0c86f7d3",
   "metadata": {},
   "outputs": [
    {
     "data": {
      "text/plain": [
       "['models/logistic_regression.joblib']"
      ]
     },
     "execution_count": 6,
     "metadata": {},
     "output_type": "execute_result"
    }
   ],
   "source": [
    "# Save LogisticRegression model\n",
    "joblib.dump(lr_pipeline, 'models/logistic_regression.joblib')"
   ]
  },
  {
   "cell_type": "markdown",
   "id": "ef29c37d",
   "metadata": {},
   "source": [
    "### Multinomial Naive Bayes"
   ]
  },
  {
   "cell_type": "markdown",
   "id": "bf2de6cc",
   "metadata": {},
   "source": [
    "This classifier is suitable and recommended for classification with discrete features, like word counts in our case."
   ]
  },
  {
   "cell_type": "markdown",
   "id": "f9236248",
   "metadata": {
    "heading_collapsed": true
   },
   "source": [
    "#### Binary Relevance"
   ]
  },
  {
   "cell_type": "markdown",
   "id": "13967168",
   "metadata": {
    "hidden": true
   },
   "source": [
    "**MultiOutputClassifier** uses binary relevance method to convert our multi-label problem in multi-class, which involves training one binary classifier independently for each label.  \n",
    "\n",
    "PROS: estimates single-label classifiers and can generalize beyond avialable label combinations.  \n",
    "  \n",
    "CONS: not suitable for large number of labels and ignores label relations.  \n",
    "\n",
    "\n",
    "Reference: [scikit-learn.org](https://scikit-learn.org/stable/modules/generated/sklearn.multioutput.MultiOutputClassifier)"
   ]
  },
  {
   "cell_type": "code",
   "execution_count": 7,
   "id": "0d2e6574",
   "metadata": {
    "ExecuteTime": {
     "end_time": "2022-09-26T02:05:16.921384Z",
     "start_time": "2022-09-26T02:05:16.823119Z"
    },
    "hidden": true
   },
   "outputs": [
    {
     "name": "stdout",
     "output_type": "stream",
     "text": [
      "Multiclass strategy: MultiOutputClassifier\n",
      "Estimator: MultinomialNB\n",
      "\n",
      "\u001b[36mAverage accuracy score\u001b[39m\n",
      "Train dataset: 69.95%\n",
      "Test dataset:  26.67%\n",
      "\n",
      "\u001b[36mHamming loss average\u001b[39m\n",
      "Train dataset: 0.06\n",
      "Test datasets:  0.16\n",
      "\n",
      "\u001b[36mCross validation score\u001b[39m\n",
      "F1 weighted: 0.34\n"
     ]
    }
   ],
   "source": [
    "from sklearn.naive_bayes import MultinomialNB\n",
    "\n",
    "# Instance estimator\n",
    "mnb = MultinomialNB(\n",
    "    fit_prior=True, \n",
    "    class_prior=None)\n",
    "\n",
    "mnb_moc_pipeline = run_pipeline(X, y, tfidf_vec, mnb, MultiOutputClassifier)"
   ]
  },
  {
   "cell_type": "code",
   "execution_count": 8,
   "id": "9eff7e2b",
   "metadata": {},
   "outputs": [
    {
     "data": {
      "text/plain": [
       "['models/multinomial_nb_moc.joblib']"
      ]
     },
     "execution_count": 8,
     "metadata": {},
     "output_type": "execute_result"
    }
   ],
   "source": [
    "# Save MultinomialNB model with MultiOutputClassifier\n",
    "joblib.dump(mnb_moc_pipeline, 'models/multinomial_nb_moc.joblib')"
   ]
  },
  {
   "cell_type": "markdown",
   "id": "ef8dfd50",
   "metadata": {
    "heading_collapsed": true
   },
   "source": [
    "#### Classifier Chain"
   ]
  },
  {
   "cell_type": "markdown",
   "id": "d074d3fd",
   "metadata": {
    "hidden": true
   },
   "source": [
    "This method combines a bumber of binary classifiers into a single multi-label model, beeing capable of exploring the labels correlations.\n",
    "\n",
    "PROS: estimates single-label classifiers and can generalize beyond avialable label combinations, also takes label relations into account.  \n",
    "\n",
    "CONS: not suitable for large number of labels and quality strongly depends on the label ordering in chain.  \n",
    "\n",
    "Reference: [scikit-learn.org](https://scikit-learn.org/stable/modules/multiclass.html#classifierchain)"
   ]
  },
  {
   "cell_type": "code",
   "execution_count": 9,
   "id": "7f18fd68",
   "metadata": {
    "ExecuteTime": {
     "end_time": "2022-09-26T02:05:17.045316Z",
     "start_time": "2022-09-26T02:05:16.925342Z"
    },
    "hidden": true,
    "scrolled": true
   },
   "outputs": [
    {
     "name": "stdout",
     "output_type": "stream",
     "text": [
      "Multiclass strategy: ClassifierChain\n",
      "Estimator: MultinomialNB\n",
      "\n",
      "\u001b[36mAverage accuracy score\u001b[39m\n",
      "Train dataset: 73.80%\n",
      "Test dataset:  30.48%\n",
      "\n",
      "\u001b[36mHamming loss average\u001b[39m\n",
      "Train dataset: 0.05\n",
      "Test datasets:  0.16\n",
      "\n",
      "\u001b[36mCross validation score\u001b[39m\n",
      "F1 weighted: 0.43\n"
     ]
    }
   ],
   "source": [
    "from sklearn.multioutput import ClassifierChain\n",
    "\n",
    "mnb_cc_pipeline = run_pipeline(X, y, tfidf_vec, mnb, ClassifierChain)"
   ]
  },
  {
   "cell_type": "code",
   "execution_count": 10,
   "id": "2ddd814d",
   "metadata": {},
   "outputs": [
    {
     "data": {
      "text/plain": [
       "['models/multinomial_nb_cc.joblib']"
      ]
     },
     "execution_count": 10,
     "metadata": {},
     "output_type": "execute_result"
    }
   ],
   "source": [
    "# Save MultinomialNB model with ClassifierChain\n",
    "joblib.dump(mnb_cc_pipeline, 'models/multinomial_nb_cc.joblib')"
   ]
  },
  {
   "cell_type": "markdown",
   "id": "24b2f2fa",
   "metadata": {
    "heading_collapsed": true
   },
   "source": [
    "#### Label Powerset"
   ]
  },
  {
   "cell_type": "markdown",
   "id": "774aaea4",
   "metadata": {
    "hidden": true
   },
   "source": [
    "Gives a unique class to every possible label combination.  \n",
    "\n",
    "The method maps each combination to a unique combination id number, and performs multi-class classification\n",
    "using the `classifier` as multi-class classifier and combination ids as classes.  \n",
    "\n",
    "PROS: estimates label dependencies, with only one classifier. Often is the best solution for subset accuracy if training data contains all relevant label combinations.  \n",
    "\n",
    "CONS: requires all label combinations predictable by the classifier to be present in the training data, and are very prone to underfitting with large label spaces.  "
   ]
  },
  {
   "cell_type": "code",
   "execution_count": 11,
   "id": "f83e021d",
   "metadata": {
    "ExecuteTime": {
     "end_time": "2022-09-26T02:05:17.300999Z",
     "start_time": "2022-09-26T02:05:17.050004Z"
    },
    "hidden": true
   },
   "outputs": [
    {
     "name": "stdout",
     "output_type": "stream",
     "text": [
      "Multiclass strategy: LabelPowerset\n",
      "Estimator: MultinomialNB\n",
      "\n",
      "\u001b[36mAverage accuracy score\u001b[39m\n",
      "Train dataset: 88.94%\n",
      "Test dataset:  60.00%\n",
      "\n",
      "\u001b[36mHamming loss average\u001b[39m\n",
      "Train dataset: 0.04\n",
      "Test datasets:  0.15\n",
      "\n",
      "\u001b[36mCross validation score\u001b[39m\n",
      "F1 weighted: 0.61\n"
     ]
    }
   ],
   "source": [
    "from skmultilearn.problem_transform import LabelPowerset\n",
    "\n",
    "mnb_lp_pipeline = run_pipeline(X, y, tfidf_vec,mnb, LabelPowerset)"
   ]
  },
  {
   "cell_type": "code",
   "execution_count": 12,
   "id": "0d893351",
   "metadata": {},
   "outputs": [
    {
     "data": {
      "text/plain": [
       "['models/multinomial_nb_lp.joblib']"
      ]
     },
     "execution_count": 12,
     "metadata": {},
     "output_type": "execute_result"
    }
   ],
   "source": [
    "# Save MultinomialNB model with LabelPowerset\n",
    "joblib.dump(mnb_lp_pipeline, 'models/multinomial_nb_lp.joblib')"
   ]
  },
  {
   "cell_type": "markdown",
   "id": "64a91f2f",
   "metadata": {
    "heading_collapsed": true
   },
   "source": [
    "### Model performance"
   ]
  },
  {
   "cell_type": "markdown",
   "id": "3a5211e7",
   "metadata": {
    "ExecuteTime": {
     "end_time": "2022-09-23T02:29:22.092207Z",
     "start_time": "2022-09-23T02:29:22.080434Z"
    },
    "hidden": true
   },
   "source": [
    "Among all the different strategies, *Label Powerset* had a better score.   \n",
    "  \n",
    "\n",
    "| Strategy \t| Binary Relevance \t| Classifier Chain \t| Label powerset \t|\n",
    "|---\t|---\t|---\t|---\t|\n",
    "| Train acc \t| 70.19% \t| 73.80% \t| 88.94% \t|\n",
    "| Test acc \t| 27.62% \t| 30.48% \t| 60.00% \t|\n",
    "| Train hamming-loss \t| 0.06 \t| 0.05 \t| 0.04 \t|\n",
    "| Test hamming-loss \t| 0.16 \t| 0.16 \t| 0.15 \t|\n",
    "| CV score F1 weighted\t| 0.30 \t| 0.37 \t| 0.57 \t|  \n",
    "  \n",
    "We will use this meta classifier with Multinomial Naive Bayes to calculate the metrics.  "
   ]
  },
  {
   "cell_type": "code",
   "execution_count": 13,
   "id": "32efab58",
   "metadata": {},
   "outputs": [
    {
     "name": "stdout",
     "output_type": "stream",
     "text": [
      "Multiclass strategy: LabelPowerset\n",
      "Estimator: MultinomialNB\n"
     ]
    }
   ],
   "source": [
    "# Define baseline pipeline based on the best score\n",
    "baseline_pipeline = run_pipeline(X, y, tfidf_vec, mnb, LabelPowerset, show_metrics=False)"
   ]
  },
  {
   "cell_type": "code",
   "execution_count": 14,
   "id": "1eef0baf",
   "metadata": {
    "ExecuteTime": {
     "end_time": "2022-09-26T02:05:17.563313Z",
     "start_time": "2022-09-26T02:05:17.305887Z"
    },
    "hidden": true
   },
   "outputs": [],
   "source": [
    "# Make predictions\n",
    "y_pred_train = baseline_pipeline.predict(X_train).toarray()\n",
    "y_pred_test = baseline_pipeline.predict(X_test).toarray()\n",
    "y_proba_train = baseline_pipeline.predict_proba(X_train).toarray()\n",
    "y_proba_test = baseline_pipeline.predict_proba(X_test).toarray()"
   ]
  },
  {
   "cell_type": "markdown",
   "id": "cd64be1f",
   "metadata": {
    "heading_collapsed": true,
    "hidden": true
   },
   "source": [
    "#### ROC AUC for Multilabel problem"
   ]
  },
  {
   "cell_type": "markdown",
   "id": "8bde35ba",
   "metadata": {
    "heading_collapsed": true,
    "hidden": true
   },
   "source": [
    "##### Compute values "
   ]
  },
  {
   "cell_type": "code",
   "execution_count": 15,
   "id": "db955317",
   "metadata": {
    "ExecuteTime": {
     "end_time": "2022-09-26T02:05:17.584461Z",
     "start_time": "2022-09-26T02:05:17.566704Z"
    },
    "hidden": true
   },
   "outputs": [],
   "source": [
    "from sklearn.metrics import auc, roc_curve, roc_auc_score\n",
    "\n",
    "def multiclass_rouc_auc(y_true, y_score, n_classes):\n",
    "    \n",
    "    # Get FP/TP and ROC AUC Score for each class\n",
    "    fpr = dict(); tpr = dict(); roc_auc = dict();\n",
    "    for i in range(y_score.shape[1]):\n",
    "        # false positives and true positives\n",
    "        fpr[i], tpr[i], _ = roc_curve(y_true[:, i], y_score[:, i])\n",
    "        # roc auc score\n",
    "        roc_auc[i] = roc_auc_score(y_true[:, i], y_score[:, i])\n",
    "    \n",
    "    # Compute micro-average ROC curve and ROC area from prediction scores\n",
    "    fpr['micro'], tpr['micro'], _ = roc_curve(y_true.ravel(), y_score.ravel())\n",
    "    roc_auc['micro'] = auc(fpr['micro'], tpr['micro'])\n",
    "    \n",
    "    # Aggregate all false positive rates\n",
    "    all_fpr = np.unique(np.concatenate([fpr[i] for i in range(n_classes)]))\n",
    "    \n",
    "    # Interpolate all ROC curves at this points\n",
    "    mean_tpr = np.zeros_like(all_fpr)\n",
    "    for i in range(n_classes):\n",
    "        mean_tpr += np.interp(all_fpr, fpr[i], tpr[i])\n",
    "    \n",
    "    # Average it and compute AUC\n",
    "    mean_tpr /= n_classes\n",
    "    fpr['macro'] = all_fpr\n",
    "    tpr['macro'] = mean_tpr\n",
    "    roc_auc['macro'] = auc(fpr['macro'], tpr['macro'])\n",
    "    \n",
    "    return fpr, tpr, roc_auc"
   ]
  },
  {
   "cell_type": "code",
   "execution_count": 16,
   "id": "0a345dc5",
   "metadata": {
    "ExecuteTime": {
     "end_time": "2022-09-26T02:05:17.632746Z",
     "start_time": "2022-09-26T02:05:17.592238Z"
    },
    "hidden": true
   },
   "outputs": [],
   "source": [
    "# Calculate metrics for train and test\n",
    "fpr_train, trp_train, roc_auc_train = multiclass_rouc_auc(y_train, y_proba_train, len(labels))\n",
    "fpr_test, trp_test, roc_auc_test = multiclass_rouc_auc(y_test, y_proba_test, len(labels))"
   ]
  },
  {
   "cell_type": "markdown",
   "id": "4a21348b",
   "metadata": {
    "heading_collapsed": true,
    "hidden": true
   },
   "source": [
    "##### Plot figure "
   ]
  },
  {
   "cell_type": "code",
   "execution_count": 17,
   "id": "89e6b6d3",
   "metadata": {
    "ExecuteTime": {
     "end_time": "2022-09-26T02:05:17.652802Z",
     "start_time": "2022-09-26T02:05:17.635570Z"
    },
    "hidden": true
   },
   "outputs": [],
   "source": [
    "def plot_multiclass_roc_auc(fpr, tpr, roc_auc, labels, title=None):\n",
    "    \n",
    "    fig = go.Figure()\n",
    "\n",
    "    # Baseline roc curve\n",
    "    fig.add_shape(type='line', line=dict(dash='dash'),\n",
    "                x0=0, x1=1, y0=0, y1=1)\n",
    "    # Plot curve for each clas\n",
    "    for index, label in enumerate(labels):\n",
    "        name = f'{label} (area = {roc_auc[index]:.3f})'\n",
    "        fig.add_trace(go.Scatter(x=fpr[index], y=tpr[index], name=name, mode='lines'))\n",
    "\n",
    "    # Plot micro and macro average\n",
    "    fig.add_trace(go.Scatter(x=fpr['macro'], y=tpr['macro'], name=f'macro-average (area = {roc_auc[\"macro\"]:.2f})', mode='lines', line_dash='dot'))\n",
    "    fig.add_trace(go.Scatter(x=fpr['micro'], y=tpr['micro'], name=f'micro-average (area = {roc_auc[\"micro\"]:.2f})', mode='lines', line_dash='dot'))\n",
    "\n",
    "    fig.update_layout(\n",
    "        title_text = title + ' ROC curves',\n",
    "        xaxis_title='False Positive Rate',\n",
    "        yaxis_title='True Positive Rate',\n",
    "        yaxis=dict(scaleanchor='x', scaleratio=1),\n",
    "        xaxis=dict(constrain='domain'),\n",
    "        legend=dict(\n",
    "            yanchor=\"bottom\",\n",
    "            y=0.02,\n",
    "            xanchor=\"left\",\n",
    "            x=0.55\n",
    "        ),\n",
    "        autosize=False,\n",
    "        width=600, height=500,\n",
    "    )\n",
    "    \n",
    "    return fig"
   ]
  },
  {
   "cell_type": "code",
   "execution_count": 18,
   "id": "152c69c8",
   "metadata": {
    "ExecuteTime": {
     "end_time": "2022-09-26T02:05:17.766698Z",
     "start_time": "2022-09-26T02:05:17.655744Z"
    },
    "hidden": true
   },
   "outputs": [
    {
     "data": {
      "application/vnd.plotly.v1+json": {
       "config": {
        "plotlyServerURL": "https://plot.ly"
       },
       "data": [
        {
         "mode": "lines",
         "name": "educação (area = 1.000)",
         "type": "scatter",
         "x": [
          0,
          0,
          0,
          0,
          0,
          0,
          0,
          0.006172839506172839,
          0.006172839506172839,
          0.30246913580246915,
          0.3117283950617284,
          0.8487654320987654,
          0.8549382716049383,
          0.8888888888888888,
          0.8950617283950617,
          0.904320987654321,
          0.9104938271604939,
          0.9629629629629629,
          0.9691358024691358,
          0.9938271604938271,
          1
         ],
         "y": [
          0,
          0.010869565217391304,
          0.06521739130434782,
          0.08695652173913043,
          0.7391304347826086,
          0.7608695652173914,
          0.9891304347826086,
          0.9891304347826086,
          1,
          1,
          1,
          1,
          1,
          1,
          1,
          1,
          1,
          1,
          1,
          1,
          1
         ]
        },
        {
         "mode": "lines",
         "name": "finanças (area = 0.987)",
         "type": "scatter",
         "x": [
          0,
          0,
          0,
          0.0028328611898017,
          0.0028328611898017,
          0.0084985835694051,
          0.0084985835694051,
          0.0113314447592068,
          0.0113314447592068,
          0.014164305949008499,
          0.014164305949008499,
          0.0169971671388102,
          0.0169971671388102,
          0.025495750708215296,
          0.025495750708215296,
          0.141643059490085,
          0.141643059490085,
          0.16997167138810199,
          0.17563739376770537,
          0.20396600566572237,
          0.20396600566572237,
          0.2747875354107649,
          0.2747875354107649,
          0.3342776203966006,
          0.34277620396600567,
          0.8016997167138811,
          0.8073654390934845,
          0.8243626062322946,
          0.830028328611898,
          0.8923512747875354,
          0.8980169971671388,
          0.9688385269121813,
          0.9745042492917847,
          0.9886685552407932,
          0.9943342776203966,
          1
         ],
         "y": [
          0,
          0.015873015873015872,
          0.4603174603174603,
          0.4603174603174603,
          0.8253968253968254,
          0.8253968253968254,
          0.8571428571428571,
          0.8571428571428571,
          0.873015873015873,
          0.873015873015873,
          0.8888888888888888,
          0.8888888888888888,
          0.9365079365079365,
          0.9365079365079365,
          0.9523809523809523,
          0.9523809523809523,
          0.9682539682539683,
          0.9682539682539683,
          0.9682539682539683,
          0.9682539682539683,
          0.9841269841269841,
          0.9841269841269841,
          1,
          1,
          1,
          1,
          1,
          1,
          1,
          1,
          1,
          1,
          1,
          1,
          1,
          1
         ]
        },
        {
         "mode": "lines",
         "name": "indústrias (area = 0.994)",
         "type": "scatter",
         "x": [
          0,
          0,
          0,
          0,
          0,
          0.00303951367781155,
          0.00303951367781155,
          0.00911854103343465,
          0.00911854103343465,
          0.0121580547112462,
          0.0121580547112462,
          0.0182370820668693,
          0.0182370820668693,
          0.02127659574468085,
          0.02127659574468085,
          0.03343465045592705,
          0.03343465045592705,
          0.06990881458966565,
          0.06990881458966565,
          0.18541033434650456,
          0.19148936170212766,
          0.331306990881459,
          0.3404255319148936,
          0.3404255319148936,
          0.8389057750759878,
          0.8449848024316109,
          0.8571428571428571,
          0.8632218844984803,
          0.8905775075987842,
          0.8966565349544073,
          0.9635258358662614,
          0.9696048632218845,
          0.993920972644377,
          1
         ],
         "y": [
          0,
          0.011494252873563218,
          0.22988505747126436,
          0.25287356321839083,
          0.8390804597701149,
          0.8390804597701149,
          0.8850574712643678,
          0.8850574712643678,
          0.896551724137931,
          0.896551724137931,
          0.9310344827586207,
          0.9310344827586207,
          0.9425287356321839,
          0.9425287356321839,
          0.9655172413793104,
          0.9655172413793104,
          0.9770114942528736,
          0.9770114942528736,
          0.9885057471264368,
          0.9885057471264368,
          0.9885057471264368,
          0.9885057471264368,
          0.9885057471264368,
          1,
          1,
          1,
          1,
          1,
          1,
          1,
          1,
          1,
          1,
          1
         ]
        },
        {
         "mode": "lines",
         "name": "orgão público (area = 0.999)",
         "type": "scatter",
         "x": [
          0,
          0,
          0,
          0,
          0,
          0,
          0,
          0,
          0,
          0.0035087719298245615,
          0.0035087719298245615,
          0.007017543859649123,
          0.007017543859649123,
          0.028070175438596492,
          0.028070175438596492,
          0.2,
          0.20701754385964913,
          0.3157894736842105,
          0.32280701754385965,
          0.9298245614035088,
          0.9368421052631579,
          0.9403508771929825,
          0.9473684210526315,
          1
         ],
         "y": [
          0,
          0.015267175572519083,
          0.03816793893129771,
          0.05343511450381679,
          0.16793893129770993,
          0.183206106870229,
          0.8244274809160306,
          0.8473282442748091,
          0.9007633587786259,
          0.9007633587786259,
          0.9236641221374046,
          0.9236641221374046,
          0.9923664122137404,
          0.9923664122137404,
          1,
          1,
          1,
          1,
          1,
          1,
          1,
          1,
          1,
          1
         ]
        },
        {
         "mode": "lines",
         "name": "varejo (area = 0.999)",
         "type": "scatter",
         "x": [
          0,
          0,
          0,
          0,
          0,
          0.002967359050445104,
          0.002967359050445104,
          0.005934718100890208,
          0.005934718100890208,
          0.008902077151335312,
          0.008902077151335312,
          0.011869436201780416,
          0.011869436201780416,
          0.017804154302670624,
          0.017804154302670624,
          0.18397626112759644,
          0.18991097922848665,
          0.33827893175074186,
          0.34718100890207715,
          0.8249258160237388,
          0.8308605341246291,
          0.8427299703264095,
          0.8486646884272997,
          0.887240356083086,
          0.8931750741839762,
          0.9762611275964391,
          0.9821958456973294,
          0.9881305637982196,
          0.9940652818991098,
          1
         ],
         "y": [
          0,
          0.012658227848101266,
          0.08860759493670886,
          0.11392405063291139,
          0.8987341772151899,
          0.8987341772151899,
          0.9113924050632911,
          0.9113924050632911,
          0.9367088607594937,
          0.9367088607594937,
          0.9493670886075949,
          0.9493670886075949,
          0.9746835443037974,
          0.9746835443037974,
          1,
          1,
          1,
          1,
          1,
          1,
          1,
          1,
          1,
          1,
          1,
          1,
          1,
          1,
          1,
          1
         ]
        },
        {
         "line": {
          "dash": "dot"
         },
         "mode": "lines",
         "name": "macro-average (area = 1.00)",
         "type": "scatter",
         "x": [
          0,
          0.0028328611898017,
          0.002967359050445104,
          0.00303951367781155,
          0.0035087719298245615,
          0.005934718100890208,
          0.006172839506172839,
          0.007017543859649123,
          0.0084985835694051,
          0.008902077151335312,
          0.00911854103343465,
          0.0113314447592068,
          0.011869436201780416,
          0.0121580547112462,
          0.014164305949008499,
          0.0169971671388102,
          0.017804154302670624,
          0.0182370820668693,
          0.02127659574468085,
          0.025495750708215296,
          0.028070175438596492,
          0.03343465045592705,
          0.06990881458966565,
          0.141643059490085,
          0.16997167138810199,
          0.17563739376770537,
          0.18397626112759644,
          0.18541033434650456,
          0.18991097922848665,
          0.19148936170212766,
          0.2,
          0.20396600566572237,
          0.20701754385964913,
          0.2747875354107649,
          0.30246913580246915,
          0.3117283950617284,
          0.3157894736842105,
          0.32280701754385965,
          0.331306990881459,
          0.3342776203966006,
          0.33827893175074186,
          0.3404255319148936,
          0.34277620396600567,
          0.34718100890207715,
          0.8016997167138811,
          0.8073654390934845,
          0.8243626062322946,
          0.8249258160237388,
          0.830028328611898,
          0.8308605341246291,
          0.8389057750759878,
          0.8427299703264095,
          0.8449848024316109,
          0.8486646884272997,
          0.8487654320987654,
          0.8549382716049383,
          0.8571428571428571,
          0.8632218844984803,
          0.887240356083086,
          0.8888888888888888,
          0.8905775075987842,
          0.8923512747875354,
          0.8931750741839762,
          0.8950617283950617,
          0.8966565349544073,
          0.8980169971671388,
          0.904320987654321,
          0.9104938271604939,
          0.9298245614035088,
          0.9368421052631579,
          0.9403508771929825,
          0.9473684210526315,
          0.9629629629629629,
          0.9635258358662614,
          0.9688385269121813,
          0.9691358024691358,
          0.9696048632218845,
          0.9745042492917847,
          0.9762611275964391,
          0.9821958456973294,
          0.9881305637982196,
          0.9886685552407932,
          0.9938271604938271,
          0.993920972644377,
          0.9940652818991098,
          0.9943342776203966,
          1
         ],
         "y": [
          0.8176051781727999,
          0.890621051188673,
          0.8931526967582932,
          0.9023480990571437,
          0.9069282517288995,
          0.91199154286814,
          0.9141654559116184,
          0.9279059139268855,
          0.9342551202760918,
          0.9367867658457121,
          0.9390856164204248,
          0.9422602195950279,
          0.9473235107342685,
          0.9542200624584064,
          0.9573946656330096,
          0.9669184751568191,
          0.9719817662960596,
          0.9742806168707723,
          0.9788783180201974,
          0.9820529211948006,
          0.9835796387520525,
          0.9858784893267651,
          0.9881773399014779,
          0.9913519430760811,
          0.9913519430760811,
          0.9913519430760811,
          0.9913519430760811,
          0.9913519430760811,
          0.9913519430760811,
          0.9913519430760811,
          0.9913519430760811,
          0.9945265462506843,
          0.9945265462506843,
          0.9977011494252874,
          0.9977011494252874,
          0.9977011494252874,
          0.9977011494252874,
          0.9977011494252874,
          0.9977011494252874,
          0.9977011494252874,
          0.9977011494252874,
          1,
          1,
          1,
          1,
          1,
          1,
          1,
          1,
          1,
          1,
          1,
          1,
          1,
          1,
          1,
          1,
          1,
          1,
          1,
          1,
          1,
          1,
          1,
          1,
          1,
          1,
          1,
          1,
          1,
          1,
          1,
          1,
          1,
          1,
          1,
          1,
          1,
          1,
          1,
          1,
          1,
          1,
          1,
          1,
          1,
          1
         ]
        },
        {
         "line": {
          "dash": "dot"
         },
         "mode": "lines",
         "name": "micro-average (area = 0.98)",
         "type": "scatter",
         "x": [
          0,
          0,
          0,
          0,
          0,
          0,
          0,
          0,
          0,
          0,
          0,
          0,
          0,
          0,
          0,
          0.0006142506142506142,
          0.0006142506142506142,
          0.0012285012285012285,
          0.0012285012285012285,
          0.0012285012285012285,
          0.0012285012285012285,
          0.002457002457002457,
          0.002457002457002457,
          0.003071253071253071,
          0.003071253071253071,
          0.0042997542997543,
          0.0042997542997543,
          0.004914004914004914,
          0.004914004914004914,
          0.006142506142506142,
          0.006142506142506142,
          0.006756756756756757,
          0.006756756756756757,
          0.007371007371007371,
          0.007371007371007371,
          0.0085995085995086,
          0.0085995085995086,
          0.009828009828009828,
          0.009828009828009828,
          0.010442260442260442,
          0.010442260442260442,
          0.011056511056511056,
          0.011056511056511056,
          0.012285012285012284,
          0.012285012285012284,
          0.012899262899262898,
          0.012899262899262898,
          0.014127764127764128,
          0.014127764127764128,
          0.014742014742014743,
          0.014742014742014743,
          0.015356265356265357,
          0.015356265356265357,
          0.017813267813267815,
          0.017813267813267815,
          0.018427518427518427,
          0.018427518427518427,
          0.02334152334152334,
          0.02334152334152334,
          0.02457002457002457,
          0.02457002457002457,
          0.02764127764127764,
          0.02764127764127764,
          0.028255528255528257,
          0.028255528255528257,
          0.029484029484029485,
          0.029484029484029485,
          0.030098280098280097,
          0.030098280098280097,
          0.030712530712530713,
          0.030712530712530713,
          0.033783783783783786,
          0.033783783783783786,
          0.03624078624078624,
          0.03624078624078624,
          0.0386977886977887,
          0.0386977886977887,
          0.03931203931203931,
          0.03931203931203931,
          0.04054054054054054,
          0.04176904176904177,
          0.04668304668304668,
          0.04668304668304668,
          0.048525798525798525,
          0.048525798525798525,
          0.052825552825552825,
          0.052825552825552825,
          0.05405405405405406,
          0.05405405405405406,
          0.05896805896805897,
          0.05896805896805897,
          0.06388206388206388,
          0.06511056511056511,
          0.06572481572481573,
          0.06572481572481573,
          0.0687960687960688,
          0.0687960687960688,
          0.07985257985257985,
          0.07985257985257985,
          0.09336609336609336,
          0.09336609336609336,
          0.0952088452088452,
          0.0952088452088452,
          0.10687960687960688,
          0.10687960687960688,
          0.13882063882063883,
          0.13882063882063883,
          0.17383292383292384,
          0.17383292383292384,
          0.17751842751842753,
          0.17751842751842753,
          0.18120393120393122,
          0.18120393120393122,
          0.18304668304668303,
          0.18304668304668303,
          0.23034398034398035,
          0.23157248157248156,
          0.25061425061425063,
          0.25061425061425063,
          0.2641277641277641,
          0.26535626535626533,
          0.2757985257985258,
          0.2757985257985258,
          0.2893120393120393,
          0.29115479115479115,
          0.2942260442260442,
          0.2942260442260442,
          0.3034398034398034,
          0.3034398034398034,
          0.33845208845208846,
          0.33845208845208846,
          0.3402948402948403,
          0.34213759213759215,
          0.343980343980344,
          0.343980343980344,
          0.35872235872235875,
          0.35872235872235875,
          0.35995085995085996,
          0.36117936117936117,
          0.37776412776412777,
          0.37776412776412777,
          0.3857493857493858,
          0.386977886977887,
          0.4146191646191646,
          0.41584766584766586,
          0.43734643734643736,
          0.43734643734643736,
          0.46744471744471744,
          0.4692874692874693,
          0.6130221130221131,
          0.6130221130221131,
          0.6302211302211302,
          0.6314496314496314,
          0.6517199017199017,
          0.6517199017199017,
          0.699017199017199,
          0.699017199017199,
          0.7303439803439803,
          0.7321867321867321,
          0.7334152334152334,
          0.7512285012285013,
          0.7524570024570024,
          0.7764127764127764,
          0.7776412776412777,
          0.8101965601965602,
          0.8114250614250614,
          0.8230958230958231,
          0.8243243243243243,
          0.831081081081081,
          0.8323095823095823,
          0.8366093366093366,
          0.8378378378378378,
          0.8384520884520884,
          0.8396805896805897,
          0.8906633906633906,
          0.8918918918918919,
          0.9183046683046683,
          0.9195331695331695,
          0.9305896805896806,
          0.9318181818181818,
          0.9348894348894349,
          0.9361179361179361,
          0.9428746928746928,
          0.9441031941031941,
          0.964987714987715,
          0.9662162162162162,
          0.9778869778869779,
          0.9791154791154791,
          0.9803439803439803,
          0.9815724815724816,
          0.9877149877149877,
          0.9901719901719902,
          0.9926289926289926,
          0.9938574938574939,
          0.9969287469287469,
          0.9981572481572482,
          1
         ],
         "y": [
          0,
          0.004424778761061947,
          0.01327433628318584,
          0.017699115044247787,
          0.059734513274336286,
          0.06415929203539823,
          0.12831858407079647,
          0.13274336283185842,
          0.28982300884955753,
          0.2942477876106195,
          0.3252212389380531,
          0.32964601769911506,
          0.3915929203539823,
          0.39823008849557523,
          0.49557522123893805,
          0.49557522123893805,
          0.5619469026548672,
          0.5619469026548672,
          0.672566371681416,
          0.6769911504424779,
          0.7787610619469026,
          0.7787610619469026,
          0.7853982300884956,
          0.7853982300884956,
          0.8008849557522124,
          0.8008849557522124,
          0.8030973451327433,
          0.8030973451327433,
          0.8097345132743363,
          0.8097345132743363,
          0.8163716814159292,
          0.8163716814159292,
          0.827433628318584,
          0.827433628318584,
          0.8407079646017699,
          0.8407079646017699,
          0.8473451327433629,
          0.8473451327433629,
          0.8495575221238938,
          0.8495575221238938,
          0.8561946902654868,
          0.8561946902654868,
          0.8694690265486725,
          0.8694690265486725,
          0.8738938053097345,
          0.8738938053097345,
          0.8805309734513275,
          0.8805309734513275,
          0.8827433628318584,
          0.8827433628318584,
          0.8849557522123894,
          0.8849557522123894,
          0.8871681415929203,
          0.8871681415929203,
          0.8915929203539823,
          0.8915929203539823,
          0.9092920353982301,
          0.9092920353982301,
          0.911504424778761,
          0.911504424778761,
          0.9137168141592921,
          0.9137168141592921,
          0.915929203539823,
          0.915929203539823,
          0.918141592920354,
          0.918141592920354,
          0.9203539823008849,
          0.9203539823008849,
          0.922566371681416,
          0.922566371681416,
          0.9247787610619469,
          0.9247787610619469,
          0.9292035398230089,
          0.9292035398230089,
          0.9314159292035398,
          0.9314159292035398,
          0.9336283185840708,
          0.9336283185840708,
          0.9358407079646017,
          0.9358407079646017,
          0.9358407079646017,
          0.9358407079646017,
          0.9380530973451328,
          0.9380530973451328,
          0.9424778761061947,
          0.9424778761061947,
          0.9446902654867256,
          0.9446902654867256,
          0.9469026548672567,
          0.9469026548672567,
          0.9491150442477876,
          0.9491150442477876,
          0.9491150442477876,
          0.9491150442477876,
          0.9513274336283186,
          0.9513274336283186,
          0.9535398230088495,
          0.9535398230088495,
          0.9557522123893806,
          0.9557522123893806,
          0.9579646017699115,
          0.9579646017699115,
          0.9601769911504425,
          0.9601769911504425,
          0.9623893805309734,
          0.9623893805309734,
          0.9646017699115044,
          0.9646017699115044,
          0.9668141592920354,
          0.9668141592920354,
          0.9690265486725663,
          0.9690265486725663,
          0.9712389380530974,
          0.9712389380530974,
          0.9734513274336283,
          0.9734513274336283,
          0.9734513274336283,
          0.9734513274336283,
          0.9756637168141593,
          0.9756637168141593,
          0.9756637168141593,
          0.9756637168141593,
          0.9778761061946902,
          0.9778761061946902,
          0.9778761061946902,
          0.9778761061946902,
          0.9800884955752213,
          0.9800884955752213,
          0.9823008849557522,
          0.9823008849557522,
          0.9845132743362832,
          0.9845132743362832,
          0.9845132743362832,
          0.9845132743362832,
          0.9867256637168141,
          0.9867256637168141,
          0.9889380530973452,
          0.9889380530973452,
          0.9889380530973452,
          0.9889380530973452,
          0.9911504424778761,
          0.9911504424778761,
          0.9911504424778761,
          0.9911504424778761,
          0.9911504424778761,
          0.9911504424778761,
          0.9933628318584071,
          0.9933628318584071,
          0.9933628318584071,
          0.9933628318584071,
          0.995575221238938,
          0.995575221238938,
          0.995575221238938,
          0.995575221238938,
          0.9977876106194691,
          0.9977876106194691,
          1,
          1,
          1,
          1,
          1,
          1,
          1,
          1,
          1,
          1,
          1,
          1,
          1,
          1,
          1,
          1,
          1,
          1,
          1,
          1,
          1,
          1,
          1,
          1,
          1,
          1,
          1,
          1,
          1,
          1,
          1,
          1,
          1,
          1,
          1,
          1,
          1,
          1,
          1,
          1,
          1
         ]
        }
       ],
       "layout": {
        "autosize": false,
        "height": 500,
        "legend": {
         "x": 0.55,
         "xanchor": "left",
         "y": 0.02,
         "yanchor": "bottom"
        },
        "shapes": [
         {
          "line": {
           "dash": "dash"
          },
          "type": "line",
          "x0": 0,
          "x1": 1,
          "y0": 0,
          "y1": 1
         }
        ],
        "template": {
         "data": {
          "bar": [
           {
            "error_x": {
             "color": "#2a3f5f"
            },
            "error_y": {
             "color": "#2a3f5f"
            },
            "marker": {
             "line": {
              "color": "#E5ECF6",
              "width": 0.5
             },
             "pattern": {
              "fillmode": "overlay",
              "size": 10,
              "solidity": 0.2
             }
            },
            "type": "bar"
           }
          ],
          "barpolar": [
           {
            "marker": {
             "line": {
              "color": "#E5ECF6",
              "width": 0.5
             },
             "pattern": {
              "fillmode": "overlay",
              "size": 10,
              "solidity": 0.2
             }
            },
            "type": "barpolar"
           }
          ],
          "carpet": [
           {
            "aaxis": {
             "endlinecolor": "#2a3f5f",
             "gridcolor": "white",
             "linecolor": "white",
             "minorgridcolor": "white",
             "startlinecolor": "#2a3f5f"
            },
            "baxis": {
             "endlinecolor": "#2a3f5f",
             "gridcolor": "white",
             "linecolor": "white",
             "minorgridcolor": "white",
             "startlinecolor": "#2a3f5f"
            },
            "type": "carpet"
           }
          ],
          "choropleth": [
           {
            "colorbar": {
             "outlinewidth": 0,
             "ticks": ""
            },
            "type": "choropleth"
           }
          ],
          "contour": [
           {
            "colorbar": {
             "outlinewidth": 0,
             "ticks": ""
            },
            "colorscale": [
             [
              0,
              "#0d0887"
             ],
             [
              0.1111111111111111,
              "#46039f"
             ],
             [
              0.2222222222222222,
              "#7201a8"
             ],
             [
              0.3333333333333333,
              "#9c179e"
             ],
             [
              0.4444444444444444,
              "#bd3786"
             ],
             [
              0.5555555555555556,
              "#d8576b"
             ],
             [
              0.6666666666666666,
              "#ed7953"
             ],
             [
              0.7777777777777778,
              "#fb9f3a"
             ],
             [
              0.8888888888888888,
              "#fdca26"
             ],
             [
              1,
              "#f0f921"
             ]
            ],
            "type": "contour"
           }
          ],
          "contourcarpet": [
           {
            "colorbar": {
             "outlinewidth": 0,
             "ticks": ""
            },
            "type": "contourcarpet"
           }
          ],
          "heatmap": [
           {
            "colorbar": {
             "outlinewidth": 0,
             "ticks": ""
            },
            "colorscale": [
             [
              0,
              "#0d0887"
             ],
             [
              0.1111111111111111,
              "#46039f"
             ],
             [
              0.2222222222222222,
              "#7201a8"
             ],
             [
              0.3333333333333333,
              "#9c179e"
             ],
             [
              0.4444444444444444,
              "#bd3786"
             ],
             [
              0.5555555555555556,
              "#d8576b"
             ],
             [
              0.6666666666666666,
              "#ed7953"
             ],
             [
              0.7777777777777778,
              "#fb9f3a"
             ],
             [
              0.8888888888888888,
              "#fdca26"
             ],
             [
              1,
              "#f0f921"
             ]
            ],
            "type": "heatmap"
           }
          ],
          "heatmapgl": [
           {
            "colorbar": {
             "outlinewidth": 0,
             "ticks": ""
            },
            "colorscale": [
             [
              0,
              "#0d0887"
             ],
             [
              0.1111111111111111,
              "#46039f"
             ],
             [
              0.2222222222222222,
              "#7201a8"
             ],
             [
              0.3333333333333333,
              "#9c179e"
             ],
             [
              0.4444444444444444,
              "#bd3786"
             ],
             [
              0.5555555555555556,
              "#d8576b"
             ],
             [
              0.6666666666666666,
              "#ed7953"
             ],
             [
              0.7777777777777778,
              "#fb9f3a"
             ],
             [
              0.8888888888888888,
              "#fdca26"
             ],
             [
              1,
              "#f0f921"
             ]
            ],
            "type": "heatmapgl"
           }
          ],
          "histogram": [
           {
            "marker": {
             "pattern": {
              "fillmode": "overlay",
              "size": 10,
              "solidity": 0.2
             }
            },
            "type": "histogram"
           }
          ],
          "histogram2d": [
           {
            "colorbar": {
             "outlinewidth": 0,
             "ticks": ""
            },
            "colorscale": [
             [
              0,
              "#0d0887"
             ],
             [
              0.1111111111111111,
              "#46039f"
             ],
             [
              0.2222222222222222,
              "#7201a8"
             ],
             [
              0.3333333333333333,
              "#9c179e"
             ],
             [
              0.4444444444444444,
              "#bd3786"
             ],
             [
              0.5555555555555556,
              "#d8576b"
             ],
             [
              0.6666666666666666,
              "#ed7953"
             ],
             [
              0.7777777777777778,
              "#fb9f3a"
             ],
             [
              0.8888888888888888,
              "#fdca26"
             ],
             [
              1,
              "#f0f921"
             ]
            ],
            "type": "histogram2d"
           }
          ],
          "histogram2dcontour": [
           {
            "colorbar": {
             "outlinewidth": 0,
             "ticks": ""
            },
            "colorscale": [
             [
              0,
              "#0d0887"
             ],
             [
              0.1111111111111111,
              "#46039f"
             ],
             [
              0.2222222222222222,
              "#7201a8"
             ],
             [
              0.3333333333333333,
              "#9c179e"
             ],
             [
              0.4444444444444444,
              "#bd3786"
             ],
             [
              0.5555555555555556,
              "#d8576b"
             ],
             [
              0.6666666666666666,
              "#ed7953"
             ],
             [
              0.7777777777777778,
              "#fb9f3a"
             ],
             [
              0.8888888888888888,
              "#fdca26"
             ],
             [
              1,
              "#f0f921"
             ]
            ],
            "type": "histogram2dcontour"
           }
          ],
          "mesh3d": [
           {
            "colorbar": {
             "outlinewidth": 0,
             "ticks": ""
            },
            "type": "mesh3d"
           }
          ],
          "parcoords": [
           {
            "line": {
             "colorbar": {
              "outlinewidth": 0,
              "ticks": ""
             }
            },
            "type": "parcoords"
           }
          ],
          "pie": [
           {
            "automargin": true,
            "type": "pie"
           }
          ],
          "scatter": [
           {
            "fillpattern": {
             "fillmode": "overlay",
             "size": 10,
             "solidity": 0.2
            },
            "type": "scatter"
           }
          ],
          "scatter3d": [
           {
            "line": {
             "colorbar": {
              "outlinewidth": 0,
              "ticks": ""
             }
            },
            "marker": {
             "colorbar": {
              "outlinewidth": 0,
              "ticks": ""
             }
            },
            "type": "scatter3d"
           }
          ],
          "scattercarpet": [
           {
            "marker": {
             "colorbar": {
              "outlinewidth": 0,
              "ticks": ""
             }
            },
            "type": "scattercarpet"
           }
          ],
          "scattergeo": [
           {
            "marker": {
             "colorbar": {
              "outlinewidth": 0,
              "ticks": ""
             }
            },
            "type": "scattergeo"
           }
          ],
          "scattergl": [
           {
            "marker": {
             "colorbar": {
              "outlinewidth": 0,
              "ticks": ""
             }
            },
            "type": "scattergl"
           }
          ],
          "scattermapbox": [
           {
            "marker": {
             "colorbar": {
              "outlinewidth": 0,
              "ticks": ""
             }
            },
            "type": "scattermapbox"
           }
          ],
          "scatterpolar": [
           {
            "marker": {
             "colorbar": {
              "outlinewidth": 0,
              "ticks": ""
             }
            },
            "type": "scatterpolar"
           }
          ],
          "scatterpolargl": [
           {
            "marker": {
             "colorbar": {
              "outlinewidth": 0,
              "ticks": ""
             }
            },
            "type": "scatterpolargl"
           }
          ],
          "scatterternary": [
           {
            "marker": {
             "colorbar": {
              "outlinewidth": 0,
              "ticks": ""
             }
            },
            "type": "scatterternary"
           }
          ],
          "surface": [
           {
            "colorbar": {
             "outlinewidth": 0,
             "ticks": ""
            },
            "colorscale": [
             [
              0,
              "#0d0887"
             ],
             [
              0.1111111111111111,
              "#46039f"
             ],
             [
              0.2222222222222222,
              "#7201a8"
             ],
             [
              0.3333333333333333,
              "#9c179e"
             ],
             [
              0.4444444444444444,
              "#bd3786"
             ],
             [
              0.5555555555555556,
              "#d8576b"
             ],
             [
              0.6666666666666666,
              "#ed7953"
             ],
             [
              0.7777777777777778,
              "#fb9f3a"
             ],
             [
              0.8888888888888888,
              "#fdca26"
             ],
             [
              1,
              "#f0f921"
             ]
            ],
            "type": "surface"
           }
          ],
          "table": [
           {
            "cells": {
             "fill": {
              "color": "#EBF0F8"
             },
             "line": {
              "color": "white"
             }
            },
            "header": {
             "fill": {
              "color": "#C8D4E3"
             },
             "line": {
              "color": "white"
             }
            },
            "type": "table"
           }
          ]
         },
         "layout": {
          "annotationdefaults": {
           "arrowcolor": "#2a3f5f",
           "arrowhead": 0,
           "arrowwidth": 1
          },
          "autotypenumbers": "strict",
          "coloraxis": {
           "colorbar": {
            "outlinewidth": 0,
            "ticks": ""
           }
          },
          "colorscale": {
           "diverging": [
            [
             0,
             "#8e0152"
            ],
            [
             0.1,
             "#c51b7d"
            ],
            [
             0.2,
             "#de77ae"
            ],
            [
             0.3,
             "#f1b6da"
            ],
            [
             0.4,
             "#fde0ef"
            ],
            [
             0.5,
             "#f7f7f7"
            ],
            [
             0.6,
             "#e6f5d0"
            ],
            [
             0.7,
             "#b8e186"
            ],
            [
             0.8,
             "#7fbc41"
            ],
            [
             0.9,
             "#4d9221"
            ],
            [
             1,
             "#276419"
            ]
           ],
           "sequential": [
            [
             0,
             "#0d0887"
            ],
            [
             0.1111111111111111,
             "#46039f"
            ],
            [
             0.2222222222222222,
             "#7201a8"
            ],
            [
             0.3333333333333333,
             "#9c179e"
            ],
            [
             0.4444444444444444,
             "#bd3786"
            ],
            [
             0.5555555555555556,
             "#d8576b"
            ],
            [
             0.6666666666666666,
             "#ed7953"
            ],
            [
             0.7777777777777778,
             "#fb9f3a"
            ],
            [
             0.8888888888888888,
             "#fdca26"
            ],
            [
             1,
             "#f0f921"
            ]
           ],
           "sequentialminus": [
            [
             0,
             "#0d0887"
            ],
            [
             0.1111111111111111,
             "#46039f"
            ],
            [
             0.2222222222222222,
             "#7201a8"
            ],
            [
             0.3333333333333333,
             "#9c179e"
            ],
            [
             0.4444444444444444,
             "#bd3786"
            ],
            [
             0.5555555555555556,
             "#d8576b"
            ],
            [
             0.6666666666666666,
             "#ed7953"
            ],
            [
             0.7777777777777778,
             "#fb9f3a"
            ],
            [
             0.8888888888888888,
             "#fdca26"
            ],
            [
             1,
             "#f0f921"
            ]
           ]
          },
          "colorway": [
           "#636efa",
           "#EF553B",
           "#00cc96",
           "#ab63fa",
           "#FFA15A",
           "#19d3f3",
           "#FF6692",
           "#B6E880",
           "#FF97FF",
           "#FECB52"
          ],
          "font": {
           "color": "#2a3f5f"
          },
          "geo": {
           "bgcolor": "white",
           "lakecolor": "white",
           "landcolor": "#E5ECF6",
           "showlakes": true,
           "showland": true,
           "subunitcolor": "white"
          },
          "hoverlabel": {
           "align": "left"
          },
          "hovermode": "closest",
          "mapbox": {
           "style": "light"
          },
          "paper_bgcolor": "white",
          "plot_bgcolor": "#E5ECF6",
          "polar": {
           "angularaxis": {
            "gridcolor": "white",
            "linecolor": "white",
            "ticks": ""
           },
           "bgcolor": "#E5ECF6",
           "radialaxis": {
            "gridcolor": "white",
            "linecolor": "white",
            "ticks": ""
           }
          },
          "scene": {
           "xaxis": {
            "backgroundcolor": "#E5ECF6",
            "gridcolor": "white",
            "gridwidth": 2,
            "linecolor": "white",
            "showbackground": true,
            "ticks": "",
            "zerolinecolor": "white"
           },
           "yaxis": {
            "backgroundcolor": "#E5ECF6",
            "gridcolor": "white",
            "gridwidth": 2,
            "linecolor": "white",
            "showbackground": true,
            "ticks": "",
            "zerolinecolor": "white"
           },
           "zaxis": {
            "backgroundcolor": "#E5ECF6",
            "gridcolor": "white",
            "gridwidth": 2,
            "linecolor": "white",
            "showbackground": true,
            "ticks": "",
            "zerolinecolor": "white"
           }
          },
          "shapedefaults": {
           "line": {
            "color": "#2a3f5f"
           }
          },
          "ternary": {
           "aaxis": {
            "gridcolor": "white",
            "linecolor": "white",
            "ticks": ""
           },
           "baxis": {
            "gridcolor": "white",
            "linecolor": "white",
            "ticks": ""
           },
           "bgcolor": "#E5ECF6",
           "caxis": {
            "gridcolor": "white",
            "linecolor": "white",
            "ticks": ""
           }
          },
          "title": {
           "x": 0.05
          },
          "xaxis": {
           "automargin": true,
           "gridcolor": "white",
           "linecolor": "white",
           "ticks": "",
           "title": {
            "standoff": 15
           },
           "zerolinecolor": "white",
           "zerolinewidth": 2
          },
          "yaxis": {
           "automargin": true,
           "gridcolor": "white",
           "linecolor": "white",
           "ticks": "",
           "title": {
            "standoff": 15
           },
           "zerolinecolor": "white",
           "zerolinewidth": 2
          }
         }
        },
        "title": {
         "text": "Train dataset ROC curves"
        },
        "width": 600,
        "xaxis": {
         "constrain": "domain",
         "title": {
          "text": "False Positive Rate"
         }
        },
        "yaxis": {
         "scaleanchor": "x",
         "scaleratio": 1,
         "title": {
          "text": "True Positive Rate"
         }
        }
       }
      }
     },
     "metadata": {},
     "output_type": "display_data"
    },
    {
     "data": {
      "application/vnd.plotly.v1+json": {
       "config": {
        "plotlyServerURL": "https://plot.ly"
       },
       "data": [
        {
         "mode": "lines",
         "name": "educação (area = 0.976)",
         "type": "scatter",
         "x": [
          0,
          0,
          0,
          0.04054054054054054,
          0.04054054054054054,
          0.08108108108108109,
          0.08108108108108109,
          0.0945945945945946,
          0.12162162162162163,
          0.5,
          0.5,
          1
         ],
         "y": [
          0,
          0.03225806451612903,
          0.8387096774193549,
          0.8387096774193549,
          0.9032258064516129,
          0.9032258064516129,
          0.967741935483871,
          0.967741935483871,
          0.967741935483871,
          0.967741935483871,
          1,
          1
         ]
        },
        {
         "mode": "lines",
         "name": "finanças (area = 0.901)",
         "type": "scatter",
         "x": [
          0,
          0,
          0,
          0.010869565217391304,
          0.010869565217391304,
          0.03260869565217391,
          0.03260869565217391,
          0.17391304347826086,
          0.1956521739130435,
          0.22826086956521738,
          0.22826086956521738,
          0.32608695652173914,
          0.32608695652173914,
          0.33695652173913043,
          0.33695652173913043,
          1
         ],
         "y": [
          0,
          0.07692307692307693,
          0.46153846153846156,
          0.46153846153846156,
          0.6153846153846154,
          0.6153846153846154,
          0.6923076923076923,
          0.6923076923076923,
          0.6923076923076923,
          0.6923076923076923,
          0.7692307692307693,
          0.7692307692307693,
          0.8461538461538461,
          0.8461538461538461,
          1,
          1
         ]
        },
        {
         "mode": "lines",
         "name": "indústrias (area = 0.978)",
         "type": "scatter",
         "x": [
          0,
          0,
          0,
          0.011764705882352941,
          0.011764705882352941,
          0.047058823529411764,
          0.047058823529411764,
          0.08235294117647059,
          0.08235294117647059,
          0.10588235294117647,
          0.10588235294117647,
          0.17647058823529413,
          0.2,
          1
         ],
         "y": [
          0,
          0.05,
          0.45,
          0.45,
          0.7,
          0.7,
          0.9,
          0.9,
          0.95,
          0.95,
          1,
          1,
          1,
          1
         ]
        },
        {
         "mode": "lines",
         "name": "orgão público (area = 0.954)",
         "type": "scatter",
         "x": [
          0,
          0,
          0,
          0.024691358024691357,
          0.024691358024691357,
          0.037037037037037035,
          0.037037037037037035,
          0.06172839506172839,
          0.06172839506172839,
          0.07407407407407407,
          0.07407407407407407,
          0.08641975308641975,
          0.09876543209876543,
          0.19753086419753085,
          0.19753086419753085,
          0.41975308641975306,
          0.41975308641975306,
          1
         ],
         "y": [
          0,
          0.041666666666666664,
          0.5833333333333334,
          0.5833333333333334,
          0.625,
          0.625,
          0.6666666666666666,
          0.6666666666666666,
          0.7916666666666666,
          0.7916666666666666,
          0.875,
          0.875,
          0.9166666666666666,
          0.9166666666666666,
          0.9583333333333334,
          0.9583333333333334,
          1,
          1
         ]
        },
        {
         "mode": "lines",
         "name": "varejo (area = 0.872)",
         "type": "scatter",
         "x": [
          0,
          0,
          0,
          0.01282051282051282,
          0.01282051282051282,
          0.02564102564102564,
          0.02564102564102564,
          0.038461538461538464,
          0.038461538461538464,
          0.05128205128205128,
          0.05128205128205128,
          0.0641025641025641,
          0.0641025641025641,
          0.08974358974358974,
          0.08974358974358974,
          0.10256410256410256,
          0.10256410256410256,
          0.11538461538461539,
          0.11538461538461539,
          0.15384615384615385,
          0.16666666666666666,
          0.6153846153846154,
          0.6153846153846154,
          0.6794871794871795,
          0.6794871794871795,
          0.9358974358974359,
          0.9358974358974359,
          1
         ],
         "y": [
          0,
          0.037037037037037035,
          0.14814814814814814,
          0.14814814814814814,
          0.2222222222222222,
          0.2222222222222222,
          0.25925925925925924,
          0.25925925925925924,
          0.5185185185185185,
          0.5185185185185185,
          0.5555555555555556,
          0.5555555555555556,
          0.6666666666666666,
          0.6666666666666666,
          0.7037037037037037,
          0.7037037037037037,
          0.8148148148148148,
          0.8148148148148148,
          0.8518518518518519,
          0.8518518518518519,
          0.8888888888888888,
          0.8888888888888888,
          0.9259259259259259,
          0.9259259259259259,
          0.9629629629629629,
          0.9629629629629629,
          1,
          1
         ]
        },
        {
         "line": {
          "dash": "dot"
         },
         "mode": "lines",
         "name": "macro-average (area = 0.94)",
         "type": "scatter",
         "x": [
          0,
          0.010869565217391304,
          0.011764705882352941,
          0.01282051282051282,
          0.024691358024691357,
          0.02564102564102564,
          0.03260869565217391,
          0.037037037037037035,
          0.038461538461538464,
          0.04054054054054054,
          0.047058823529411764,
          0.05128205128205128,
          0.06172839506172839,
          0.0641025641025641,
          0.07407407407407407,
          0.08108108108108109,
          0.08235294117647059,
          0.08641975308641975,
          0.08974358974358974,
          0.0945945945945946,
          0.09876543209876543,
          0.10256410256410256,
          0.10588235294117647,
          0.11538461538461539,
          0.12162162162162163,
          0.15384615384615385,
          0.16666666666666666,
          0.17391304347826086,
          0.17647058823529413,
          0.1956521739130435,
          0.19753086419753085,
          0.2,
          0.22826086956521738,
          0.32608695652173914,
          0.33695652173913043,
          0.41975308641975306,
          0.5,
          0.6153846153846154,
          0.6794871794871795,
          0.9358974358974359,
          1
         ],
         "y": [
          0.49634592408785955,
          0.5271151548570904,
          0.5771151548570904,
          0.5919299696719051,
          0.6002633030052384,
          0.6076707104126459,
          0.6230553257972612,
          0.6313886591305945,
          0.6832405109824464,
          0.696143736788898,
          0.736143736788898,
          0.7435511441963054,
          0.7685511441963054,
          0.7907733664185276,
          0.8074400330851944,
          0.8203432588916459,
          0.830343258891646,
          0.830343258891646,
          0.8399942560426432,
          0.8432686843170714,
          0.8460839996323866,
          0.8683062218546089,
          0.8783062218546089,
          0.8857136292620164,
          0.8857136292620164,
          0.8857136292620164,
          0.8931210366694238,
          0.8931210366694238,
          0.8931210366694238,
          0.8931210366694238,
          0.9014543700027572,
          0.9014543700027572,
          0.9168389853873725,
          0.932223600771988,
          0.9629928315412186,
          0.9713261648745519,
          0.9777777777777779,
          0.9851851851851852,
          0.9925925925925926,
          1,
          1
         ]
        },
        {
         "line": {
          "dash": "dot"
         },
         "mode": "lines",
         "name": "micro-average (area = 0.89)",
         "type": "scatter",
         "x": [
          0,
          0,
          0,
          0.004878048780487805,
          0.004878048780487805,
          0.00975609756097561,
          0.00975609756097561,
          0.014634146341463415,
          0.014634146341463415,
          0.01951219512195122,
          0.01951219512195122,
          0.02195121951219512,
          0.02195121951219512,
          0.024390243902439025,
          0.026829268292682926,
          0.026829268292682926,
          0.02926829268292683,
          0.02926829268292683,
          0.03170731707317073,
          0.03170731707317073,
          0.036585365853658534,
          0.036585365853658534,
          0.03902439024390244,
          0.03902439024390244,
          0.046341463414634146,
          0.046341463414634146,
          0.05853658536585366,
          0.05853658536585366,
          0.06097560975609756,
          0.06097560975609756,
          0.06341463414634146,
          0.06341463414634146,
          0.07073170731707316,
          0.07073170731707316,
          0.07560975609756097,
          0.07560975609756097,
          0.08048780487804878,
          0.08048780487804878,
          0.1,
          0.1,
          0.1024390243902439,
          0.1024390243902439,
          0.11219512195121951,
          0.11219512195121951,
          0.11707317073170732,
          0.11707317073170732,
          0.12439024390243902,
          0.12439024390243902,
          0.13658536585365855,
          0.13658536585365855,
          0.13902439024390245,
          0.13902439024390245,
          0.14878048780487804,
          0.14878048780487804,
          0.15365853658536585,
          0.15365853658536585,
          0.15853658536585366,
          0.15853658536585366,
          0.17560975609756097,
          0.17560975609756097,
          0.1878048780487805,
          0.1878048780487805,
          0.1951219512195122,
          0.1951219512195122,
          0.2,
          0.2,
          0.2073170731707317,
          0.2073170731707317,
          0.2146341463414634,
          0.21951219512195122,
          0.22682926829268293,
          0.22682926829268293,
          0.24390243902439024,
          0.24390243902439024,
          0.26097560975609757,
          0.2658536585365854,
          0.28292682926829266,
          0.28292682926829266,
          0.3146341463414634,
          0.3146341463414634,
          0.37073170731707317,
          0.37317073170731707,
          0.44878048780487806,
          0.44878048780487806,
          0.4682926829268293,
          0.4682926829268293,
          0.6487804878048781,
          0.6536585365853659,
          0.6634146341463415,
          0.6634146341463415,
          0.6780487804878049,
          0.6780487804878049,
          0.7170731707317073,
          0.7170731707317073,
          0.7195121951219512,
          0.7195121951219512,
          0.7317073170731707,
          0.7317073170731707,
          0.7341463414634146,
          0.7341463414634146,
          0.9609756097560975,
          0.9609756097560975,
          1
         ],
         "y": [
          0,
          0.008695652173913044,
          0.24347826086956523,
          0.24347826086956523,
          0.3217391304347826,
          0.3217391304347826,
          0.3391304347826087,
          0.3391304347826087,
          0.4,
          0.4,
          0.4608695652173913,
          0.4608695652173913,
          0.4956521739130435,
          0.5043478260869565,
          0.5043478260869565,
          0.5130434782608696,
          0.5130434782608696,
          0.5304347826086957,
          0.5304347826086957,
          0.5391304347826087,
          0.5391304347826087,
          0.5478260869565217,
          0.5478260869565217,
          0.5565217391304348,
          0.5565217391304348,
          0.5826086956521739,
          0.5826086956521739,
          0.6,
          0.6,
          0.6086956521739131,
          0.6086956521739131,
          0.6260869565217392,
          0.6260869565217392,
          0.6347826086956522,
          0.6347826086956522,
          0.6608695652173913,
          0.6608695652173913,
          0.6782608695652174,
          0.6782608695652174,
          0.6869565217391305,
          0.6869565217391305,
          0.7130434782608696,
          0.7130434782608696,
          0.7304347826086957,
          0.7304347826086957,
          0.7391304347826086,
          0.7391304347826086,
          0.7478260869565218,
          0.7478260869565218,
          0.7652173913043478,
          0.7652173913043478,
          0.7913043478260869,
          0.7913043478260869,
          0.8,
          0.8,
          0.808695652173913,
          0.808695652173913,
          0.8173913043478261,
          0.8173913043478261,
          0.8260869565217391,
          0.8260869565217391,
          0.8347826086956521,
          0.8347826086956521,
          0.8521739130434782,
          0.8521739130434782,
          0.8608695652173913,
          0.8608695652173913,
          0.8695652173913043,
          0.8695652173913043,
          0.8695652173913043,
          0.8695652173913043,
          0.8869565217391304,
          0.8869565217391304,
          0.8956521739130435,
          0.8956521739130435,
          0.8956521739130435,
          0.8956521739130435,
          0.9043478260869565,
          0.9043478260869565,
          0.9130434782608695,
          0.9130434782608695,
          0.9217391304347826,
          0.9217391304347826,
          0.9304347826086956,
          0.9304347826086956,
          0.9391304347826087,
          0.9391304347826087,
          0.9391304347826087,
          0.9391304347826087,
          0.9478260869565217,
          0.9478260869565217,
          0.9565217391304348,
          0.9565217391304348,
          0.9652173913043478,
          0.9652173913043478,
          0.9739130434782609,
          0.9739130434782609,
          0.9826086956521739,
          0.9826086956521739,
          0.991304347826087,
          0.991304347826087,
          1,
          1
         ]
        }
       ],
       "layout": {
        "autosize": false,
        "height": 500,
        "legend": {
         "x": 0.55,
         "xanchor": "left",
         "y": 0.02,
         "yanchor": "bottom"
        },
        "shapes": [
         {
          "line": {
           "dash": "dash"
          },
          "type": "line",
          "x0": 0,
          "x1": 1,
          "y0": 0,
          "y1": 1
         }
        ],
        "template": {
         "data": {
          "bar": [
           {
            "error_x": {
             "color": "#2a3f5f"
            },
            "error_y": {
             "color": "#2a3f5f"
            },
            "marker": {
             "line": {
              "color": "#E5ECF6",
              "width": 0.5
             },
             "pattern": {
              "fillmode": "overlay",
              "size": 10,
              "solidity": 0.2
             }
            },
            "type": "bar"
           }
          ],
          "barpolar": [
           {
            "marker": {
             "line": {
              "color": "#E5ECF6",
              "width": 0.5
             },
             "pattern": {
              "fillmode": "overlay",
              "size": 10,
              "solidity": 0.2
             }
            },
            "type": "barpolar"
           }
          ],
          "carpet": [
           {
            "aaxis": {
             "endlinecolor": "#2a3f5f",
             "gridcolor": "white",
             "linecolor": "white",
             "minorgridcolor": "white",
             "startlinecolor": "#2a3f5f"
            },
            "baxis": {
             "endlinecolor": "#2a3f5f",
             "gridcolor": "white",
             "linecolor": "white",
             "minorgridcolor": "white",
             "startlinecolor": "#2a3f5f"
            },
            "type": "carpet"
           }
          ],
          "choropleth": [
           {
            "colorbar": {
             "outlinewidth": 0,
             "ticks": ""
            },
            "type": "choropleth"
           }
          ],
          "contour": [
           {
            "colorbar": {
             "outlinewidth": 0,
             "ticks": ""
            },
            "colorscale": [
             [
              0,
              "#0d0887"
             ],
             [
              0.1111111111111111,
              "#46039f"
             ],
             [
              0.2222222222222222,
              "#7201a8"
             ],
             [
              0.3333333333333333,
              "#9c179e"
             ],
             [
              0.4444444444444444,
              "#bd3786"
             ],
             [
              0.5555555555555556,
              "#d8576b"
             ],
             [
              0.6666666666666666,
              "#ed7953"
             ],
             [
              0.7777777777777778,
              "#fb9f3a"
             ],
             [
              0.8888888888888888,
              "#fdca26"
             ],
             [
              1,
              "#f0f921"
             ]
            ],
            "type": "contour"
           }
          ],
          "contourcarpet": [
           {
            "colorbar": {
             "outlinewidth": 0,
             "ticks": ""
            },
            "type": "contourcarpet"
           }
          ],
          "heatmap": [
           {
            "colorbar": {
             "outlinewidth": 0,
             "ticks": ""
            },
            "colorscale": [
             [
              0,
              "#0d0887"
             ],
             [
              0.1111111111111111,
              "#46039f"
             ],
             [
              0.2222222222222222,
              "#7201a8"
             ],
             [
              0.3333333333333333,
              "#9c179e"
             ],
             [
              0.4444444444444444,
              "#bd3786"
             ],
             [
              0.5555555555555556,
              "#d8576b"
             ],
             [
              0.6666666666666666,
              "#ed7953"
             ],
             [
              0.7777777777777778,
              "#fb9f3a"
             ],
             [
              0.8888888888888888,
              "#fdca26"
             ],
             [
              1,
              "#f0f921"
             ]
            ],
            "type": "heatmap"
           }
          ],
          "heatmapgl": [
           {
            "colorbar": {
             "outlinewidth": 0,
             "ticks": ""
            },
            "colorscale": [
             [
              0,
              "#0d0887"
             ],
             [
              0.1111111111111111,
              "#46039f"
             ],
             [
              0.2222222222222222,
              "#7201a8"
             ],
             [
              0.3333333333333333,
              "#9c179e"
             ],
             [
              0.4444444444444444,
              "#bd3786"
             ],
             [
              0.5555555555555556,
              "#d8576b"
             ],
             [
              0.6666666666666666,
              "#ed7953"
             ],
             [
              0.7777777777777778,
              "#fb9f3a"
             ],
             [
              0.8888888888888888,
              "#fdca26"
             ],
             [
              1,
              "#f0f921"
             ]
            ],
            "type": "heatmapgl"
           }
          ],
          "histogram": [
           {
            "marker": {
             "pattern": {
              "fillmode": "overlay",
              "size": 10,
              "solidity": 0.2
             }
            },
            "type": "histogram"
           }
          ],
          "histogram2d": [
           {
            "colorbar": {
             "outlinewidth": 0,
             "ticks": ""
            },
            "colorscale": [
             [
              0,
              "#0d0887"
             ],
             [
              0.1111111111111111,
              "#46039f"
             ],
             [
              0.2222222222222222,
              "#7201a8"
             ],
             [
              0.3333333333333333,
              "#9c179e"
             ],
             [
              0.4444444444444444,
              "#bd3786"
             ],
             [
              0.5555555555555556,
              "#d8576b"
             ],
             [
              0.6666666666666666,
              "#ed7953"
             ],
             [
              0.7777777777777778,
              "#fb9f3a"
             ],
             [
              0.8888888888888888,
              "#fdca26"
             ],
             [
              1,
              "#f0f921"
             ]
            ],
            "type": "histogram2d"
           }
          ],
          "histogram2dcontour": [
           {
            "colorbar": {
             "outlinewidth": 0,
             "ticks": ""
            },
            "colorscale": [
             [
              0,
              "#0d0887"
             ],
             [
              0.1111111111111111,
              "#46039f"
             ],
             [
              0.2222222222222222,
              "#7201a8"
             ],
             [
              0.3333333333333333,
              "#9c179e"
             ],
             [
              0.4444444444444444,
              "#bd3786"
             ],
             [
              0.5555555555555556,
              "#d8576b"
             ],
             [
              0.6666666666666666,
              "#ed7953"
             ],
             [
              0.7777777777777778,
              "#fb9f3a"
             ],
             [
              0.8888888888888888,
              "#fdca26"
             ],
             [
              1,
              "#f0f921"
             ]
            ],
            "type": "histogram2dcontour"
           }
          ],
          "mesh3d": [
           {
            "colorbar": {
             "outlinewidth": 0,
             "ticks": ""
            },
            "type": "mesh3d"
           }
          ],
          "parcoords": [
           {
            "line": {
             "colorbar": {
              "outlinewidth": 0,
              "ticks": ""
             }
            },
            "type": "parcoords"
           }
          ],
          "pie": [
           {
            "automargin": true,
            "type": "pie"
           }
          ],
          "scatter": [
           {
            "fillpattern": {
             "fillmode": "overlay",
             "size": 10,
             "solidity": 0.2
            },
            "type": "scatter"
           }
          ],
          "scatter3d": [
           {
            "line": {
             "colorbar": {
              "outlinewidth": 0,
              "ticks": ""
             }
            },
            "marker": {
             "colorbar": {
              "outlinewidth": 0,
              "ticks": ""
             }
            },
            "type": "scatter3d"
           }
          ],
          "scattercarpet": [
           {
            "marker": {
             "colorbar": {
              "outlinewidth": 0,
              "ticks": ""
             }
            },
            "type": "scattercarpet"
           }
          ],
          "scattergeo": [
           {
            "marker": {
             "colorbar": {
              "outlinewidth": 0,
              "ticks": ""
             }
            },
            "type": "scattergeo"
           }
          ],
          "scattergl": [
           {
            "marker": {
             "colorbar": {
              "outlinewidth": 0,
              "ticks": ""
             }
            },
            "type": "scattergl"
           }
          ],
          "scattermapbox": [
           {
            "marker": {
             "colorbar": {
              "outlinewidth": 0,
              "ticks": ""
             }
            },
            "type": "scattermapbox"
           }
          ],
          "scatterpolar": [
           {
            "marker": {
             "colorbar": {
              "outlinewidth": 0,
              "ticks": ""
             }
            },
            "type": "scatterpolar"
           }
          ],
          "scatterpolargl": [
           {
            "marker": {
             "colorbar": {
              "outlinewidth": 0,
              "ticks": ""
             }
            },
            "type": "scatterpolargl"
           }
          ],
          "scatterternary": [
           {
            "marker": {
             "colorbar": {
              "outlinewidth": 0,
              "ticks": ""
             }
            },
            "type": "scatterternary"
           }
          ],
          "surface": [
           {
            "colorbar": {
             "outlinewidth": 0,
             "ticks": ""
            },
            "colorscale": [
             [
              0,
              "#0d0887"
             ],
             [
              0.1111111111111111,
              "#46039f"
             ],
             [
              0.2222222222222222,
              "#7201a8"
             ],
             [
              0.3333333333333333,
              "#9c179e"
             ],
             [
              0.4444444444444444,
              "#bd3786"
             ],
             [
              0.5555555555555556,
              "#d8576b"
             ],
             [
              0.6666666666666666,
              "#ed7953"
             ],
             [
              0.7777777777777778,
              "#fb9f3a"
             ],
             [
              0.8888888888888888,
              "#fdca26"
             ],
             [
              1,
              "#f0f921"
             ]
            ],
            "type": "surface"
           }
          ],
          "table": [
           {
            "cells": {
             "fill": {
              "color": "#EBF0F8"
             },
             "line": {
              "color": "white"
             }
            },
            "header": {
             "fill": {
              "color": "#C8D4E3"
             },
             "line": {
              "color": "white"
             }
            },
            "type": "table"
           }
          ]
         },
         "layout": {
          "annotationdefaults": {
           "arrowcolor": "#2a3f5f",
           "arrowhead": 0,
           "arrowwidth": 1
          },
          "autotypenumbers": "strict",
          "coloraxis": {
           "colorbar": {
            "outlinewidth": 0,
            "ticks": ""
           }
          },
          "colorscale": {
           "diverging": [
            [
             0,
             "#8e0152"
            ],
            [
             0.1,
             "#c51b7d"
            ],
            [
             0.2,
             "#de77ae"
            ],
            [
             0.3,
             "#f1b6da"
            ],
            [
             0.4,
             "#fde0ef"
            ],
            [
             0.5,
             "#f7f7f7"
            ],
            [
             0.6,
             "#e6f5d0"
            ],
            [
             0.7,
             "#b8e186"
            ],
            [
             0.8,
             "#7fbc41"
            ],
            [
             0.9,
             "#4d9221"
            ],
            [
             1,
             "#276419"
            ]
           ],
           "sequential": [
            [
             0,
             "#0d0887"
            ],
            [
             0.1111111111111111,
             "#46039f"
            ],
            [
             0.2222222222222222,
             "#7201a8"
            ],
            [
             0.3333333333333333,
             "#9c179e"
            ],
            [
             0.4444444444444444,
             "#bd3786"
            ],
            [
             0.5555555555555556,
             "#d8576b"
            ],
            [
             0.6666666666666666,
             "#ed7953"
            ],
            [
             0.7777777777777778,
             "#fb9f3a"
            ],
            [
             0.8888888888888888,
             "#fdca26"
            ],
            [
             1,
             "#f0f921"
            ]
           ],
           "sequentialminus": [
            [
             0,
             "#0d0887"
            ],
            [
             0.1111111111111111,
             "#46039f"
            ],
            [
             0.2222222222222222,
             "#7201a8"
            ],
            [
             0.3333333333333333,
             "#9c179e"
            ],
            [
             0.4444444444444444,
             "#bd3786"
            ],
            [
             0.5555555555555556,
             "#d8576b"
            ],
            [
             0.6666666666666666,
             "#ed7953"
            ],
            [
             0.7777777777777778,
             "#fb9f3a"
            ],
            [
             0.8888888888888888,
             "#fdca26"
            ],
            [
             1,
             "#f0f921"
            ]
           ]
          },
          "colorway": [
           "#636efa",
           "#EF553B",
           "#00cc96",
           "#ab63fa",
           "#FFA15A",
           "#19d3f3",
           "#FF6692",
           "#B6E880",
           "#FF97FF",
           "#FECB52"
          ],
          "font": {
           "color": "#2a3f5f"
          },
          "geo": {
           "bgcolor": "white",
           "lakecolor": "white",
           "landcolor": "#E5ECF6",
           "showlakes": true,
           "showland": true,
           "subunitcolor": "white"
          },
          "hoverlabel": {
           "align": "left"
          },
          "hovermode": "closest",
          "mapbox": {
           "style": "light"
          },
          "paper_bgcolor": "white",
          "plot_bgcolor": "#E5ECF6",
          "polar": {
           "angularaxis": {
            "gridcolor": "white",
            "linecolor": "white",
            "ticks": ""
           },
           "bgcolor": "#E5ECF6",
           "radialaxis": {
            "gridcolor": "white",
            "linecolor": "white",
            "ticks": ""
           }
          },
          "scene": {
           "xaxis": {
            "backgroundcolor": "#E5ECF6",
            "gridcolor": "white",
            "gridwidth": 2,
            "linecolor": "white",
            "showbackground": true,
            "ticks": "",
            "zerolinecolor": "white"
           },
           "yaxis": {
            "backgroundcolor": "#E5ECF6",
            "gridcolor": "white",
            "gridwidth": 2,
            "linecolor": "white",
            "showbackground": true,
            "ticks": "",
            "zerolinecolor": "white"
           },
           "zaxis": {
            "backgroundcolor": "#E5ECF6",
            "gridcolor": "white",
            "gridwidth": 2,
            "linecolor": "white",
            "showbackground": true,
            "ticks": "",
            "zerolinecolor": "white"
           }
          },
          "shapedefaults": {
           "line": {
            "color": "#2a3f5f"
           }
          },
          "ternary": {
           "aaxis": {
            "gridcolor": "white",
            "linecolor": "white",
            "ticks": ""
           },
           "baxis": {
            "gridcolor": "white",
            "linecolor": "white",
            "ticks": ""
           },
           "bgcolor": "#E5ECF6",
           "caxis": {
            "gridcolor": "white",
            "linecolor": "white",
            "ticks": ""
           }
          },
          "title": {
           "x": 0.05
          },
          "xaxis": {
           "automargin": true,
           "gridcolor": "white",
           "linecolor": "white",
           "ticks": "",
           "title": {
            "standoff": 15
           },
           "zerolinecolor": "white",
           "zerolinewidth": 2
          },
          "yaxis": {
           "automargin": true,
           "gridcolor": "white",
           "linecolor": "white",
           "ticks": "",
           "title": {
            "standoff": 15
           },
           "zerolinecolor": "white",
           "zerolinewidth": 2
          }
         }
        },
        "title": {
         "text": "Test dataset ROC curves"
        },
        "width": 600,
        "xaxis": {
         "constrain": "domain",
         "title": {
          "text": "False Positive Rate"
         }
        },
        "yaxis": {
         "scaleanchor": "x",
         "scaleratio": 1,
         "title": {
          "text": "True Positive Rate"
         }
        }
       }
      }
     },
     "metadata": {},
     "output_type": "display_data"
    }
   ],
   "source": [
    "plot_multiclass_roc_auc(fpr_train, trp_train, roc_auc_train, labels, title='Train dataset').show()\n",
    "plot_multiclass_roc_auc(fpr_test, trp_test, roc_auc_test, labels, title='Test dataset').show()"
   ]
  },
  {
   "cell_type": "markdown",
   "id": "6eaea3e0",
   "metadata": {
    "heading_collapsed": true,
    "hidden": true
   },
   "source": [
    "#### Classification report"
   ]
  },
  {
   "cell_type": "code",
   "execution_count": 19,
   "id": "cd354875",
   "metadata": {
    "ExecuteTime": {
     "end_time": "2022-09-26T02:05:17.836421Z",
     "start_time": "2022-09-26T02:05:17.785379Z"
    },
    "hidden": true
   },
   "outputs": [],
   "source": [
    "from sklearn.metrics import f1_score, classification_report\n",
    "\n",
    "# Compute F1 average score with param 'weighted' to account for the target imbalance\n",
    "f1_score_train = f1_score(y_train, y_pred_train, average=\"weighted\")\n",
    "f1_score_test = f1_score(y_test, y_pred_test, average=\"weighted\")\n",
    "\n",
    "# Compute precision, recall and f1 score for each label, plus micro and macro average\n",
    "clf_report_train = pd.DataFrame(classification_report(y_train, y_pred_train, output_dict=True)).T\n",
    "clf_report_test = pd.DataFrame(classification_report(y_test, y_pred_test, output_dict=True)).T\n",
    "\n",
    "# Rename axis with labels\n",
    "clf_report_train.index = list(labels) + ['micro avg', 'macro avg', 'weighted avg', 'samples avg']\n",
    "clf_report_test.index = list(labels) + ['micro avg', 'macro avg', 'weighted avg', 'samples avg']\n",
    "\n",
    "# Add the ROC AUC scores computed previously\n",
    "clf_report_train['roc auc'] = list(roc_auc_train.values()) + ([np.nan] * 2)\n",
    "clf_report_test['roc auc'] = list(roc_auc_test.values()) + ([np.nan] * 2)"
   ]
  },
  {
   "cell_type": "code",
   "execution_count": 20,
   "id": "2ee77a47",
   "metadata": {
    "ExecuteTime": {
     "end_time": "2022-09-26T02:05:17.877171Z",
     "start_time": "2022-09-26T02:05:17.838779Z"
    },
    "hidden": true
   },
   "outputs": [
    {
     "name": "stdout",
     "output_type": "stream",
     "text": [
      "Classification report for Train dataset. F1 Average Score = 0.905\n"
     ]
    },
    {
     "data": {
      "text/html": [
       "<div>\n",
       "<style scoped>\n",
       "    .dataframe tbody tr th:only-of-type {\n",
       "        vertical-align: middle;\n",
       "    }\n",
       "\n",
       "    .dataframe tbody tr th {\n",
       "        vertical-align: top;\n",
       "    }\n",
       "\n",
       "    .dataframe thead th {\n",
       "        text-align: right;\n",
       "    }\n",
       "</style>\n",
       "<table border=\"1\" class=\"dataframe\">\n",
       "  <thead>\n",
       "    <tr style=\"text-align: right;\">\n",
       "      <th></th>\n",
       "      <th>precision</th>\n",
       "      <th>recall</th>\n",
       "      <th>f1-score</th>\n",
       "      <th>support</th>\n",
       "      <th>roc auc</th>\n",
       "    </tr>\n",
       "  </thead>\n",
       "  <tbody>\n",
       "    <tr>\n",
       "      <th>educação</th>\n",
       "      <td>1.000000</td>\n",
       "      <td>0.891304</td>\n",
       "      <td>0.942529</td>\n",
       "      <td>92.0</td>\n",
       "      <td>0.999933</td>\n",
       "    </tr>\n",
       "    <tr>\n",
       "      <th>finanças</th>\n",
       "      <td>1.000000</td>\n",
       "      <td>0.666667</td>\n",
       "      <td>0.800000</td>\n",
       "      <td>63.0</td>\n",
       "      <td>0.987230</td>\n",
       "    </tr>\n",
       "    <tr>\n",
       "      <th>indústrias</th>\n",
       "      <td>0.961538</td>\n",
       "      <td>0.862069</td>\n",
       "      <td>0.909091</td>\n",
       "      <td>87.0</td>\n",
       "      <td>0.993537</td>\n",
       "    </tr>\n",
       "    <tr>\n",
       "      <th>orgão público</th>\n",
       "      <td>0.872483</td>\n",
       "      <td>0.992366</td>\n",
       "      <td>0.928571</td>\n",
       "      <td>131.0</td>\n",
       "      <td>0.999223</td>\n",
       "    </tr>\n",
       "    <tr>\n",
       "      <th>varejo</th>\n",
       "      <td>1.000000</td>\n",
       "      <td>0.822785</td>\n",
       "      <td>0.902778</td>\n",
       "      <td>79.0</td>\n",
       "      <td>0.998948</td>\n",
       "    </tr>\n",
       "    <tr>\n",
       "      <th>micro avg</th>\n",
       "      <td>0.947115</td>\n",
       "      <td>0.871681</td>\n",
       "      <td>0.907834</td>\n",
       "      <td>452.0</td>\n",
       "      <td>0.982963</td>\n",
       "    </tr>\n",
       "    <tr>\n",
       "      <th>macro avg</th>\n",
       "      <td>0.966804</td>\n",
       "      <td>0.847038</td>\n",
       "      <td>0.896594</td>\n",
       "      <td>452.0</td>\n",
       "      <td>0.996216</td>\n",
       "    </tr>\n",
       "    <tr>\n",
       "      <th>weighted avg</th>\n",
       "      <td>0.955640</td>\n",
       "      <td>0.871681</td>\n",
       "      <td>0.905234</td>\n",
       "      <td>452.0</td>\n",
       "      <td>NaN</td>\n",
       "    </tr>\n",
       "    <tr>\n",
       "      <th>samples avg</th>\n",
       "      <td>0.947115</td>\n",
       "      <td>0.918269</td>\n",
       "      <td>0.927885</td>\n",
       "      <td>452.0</td>\n",
       "      <td>NaN</td>\n",
       "    </tr>\n",
       "  </tbody>\n",
       "</table>\n",
       "</div>"
      ],
      "text/plain": [
       "               precision    recall  f1-score  support   roc auc\n",
       "educação        1.000000  0.891304  0.942529     92.0  0.999933\n",
       "finanças        1.000000  0.666667  0.800000     63.0  0.987230\n",
       "indústrias      0.961538  0.862069  0.909091     87.0  0.993537\n",
       "orgão público   0.872483  0.992366  0.928571    131.0  0.999223\n",
       "varejo          1.000000  0.822785  0.902778     79.0  0.998948\n",
       "micro avg       0.947115  0.871681  0.907834    452.0  0.982963\n",
       "macro avg       0.966804  0.847038  0.896594    452.0  0.996216\n",
       "weighted avg    0.955640  0.871681  0.905234    452.0       NaN\n",
       "samples avg     0.947115  0.918269  0.927885    452.0       NaN"
      ]
     },
     "execution_count": 20,
     "metadata": {},
     "output_type": "execute_result"
    }
   ],
   "source": [
    "print(f'Classification report for Train dataset. F1 Average Score = {f1_score_train:.3f}')\n",
    "clf_report_train"
   ]
  },
  {
   "cell_type": "code",
   "execution_count": 21,
   "id": "3bd2ddca",
   "metadata": {
    "ExecuteTime": {
     "end_time": "2022-09-26T02:05:17.925992Z",
     "start_time": "2022-09-26T02:05:17.885914Z"
    },
    "hidden": true
   },
   "outputs": [
    {
     "name": "stdout",
     "output_type": "stream",
     "text": [
      "Classification report for Train dataset. F1 Average Score = 0.629\n"
     ]
    },
    {
     "data": {
      "text/html": [
       "<div>\n",
       "<style scoped>\n",
       "    .dataframe tbody tr th:only-of-type {\n",
       "        vertical-align: middle;\n",
       "    }\n",
       "\n",
       "    .dataframe tbody tr th {\n",
       "        vertical-align: top;\n",
       "    }\n",
       "\n",
       "    .dataframe thead th {\n",
       "        text-align: right;\n",
       "    }\n",
       "</style>\n",
       "<table border=\"1\" class=\"dataframe\">\n",
       "  <thead>\n",
       "    <tr style=\"text-align: right;\">\n",
       "      <th></th>\n",
       "      <th>precision</th>\n",
       "      <th>recall</th>\n",
       "      <th>f1-score</th>\n",
       "      <th>support</th>\n",
       "      <th>roc auc</th>\n",
       "    </tr>\n",
       "  </thead>\n",
       "  <tbody>\n",
       "    <tr>\n",
       "      <th>educação</th>\n",
       "      <td>0.958333</td>\n",
       "      <td>0.741935</td>\n",
       "      <td>0.836364</td>\n",
       "      <td>31.0</td>\n",
       "      <td>0.976024</td>\n",
       "    </tr>\n",
       "    <tr>\n",
       "      <th>finanças</th>\n",
       "      <td>1.000000</td>\n",
       "      <td>0.230769</td>\n",
       "      <td>0.375000</td>\n",
       "      <td>13.0</td>\n",
       "      <td>0.901338</td>\n",
       "    </tr>\n",
       "    <tr>\n",
       "      <th>indústrias</th>\n",
       "      <td>0.866667</td>\n",
       "      <td>0.650000</td>\n",
       "      <td>0.742857</td>\n",
       "      <td>20.0</td>\n",
       "      <td>0.978235</td>\n",
       "    </tr>\n",
       "    <tr>\n",
       "      <th>orgão público</th>\n",
       "      <td>0.452830</td>\n",
       "      <td>1.000000</td>\n",
       "      <td>0.623377</td>\n",
       "      <td>24.0</td>\n",
       "      <td>0.953961</td>\n",
       "    </tr>\n",
       "    <tr>\n",
       "      <th>varejo</th>\n",
       "      <td>0.800000</td>\n",
       "      <td>0.296296</td>\n",
       "      <td>0.432432</td>\n",
       "      <td>27.0</td>\n",
       "      <td>0.871557</td>\n",
       "    </tr>\n",
       "    <tr>\n",
       "      <th>micro avg</th>\n",
       "      <td>0.676190</td>\n",
       "      <td>0.617391</td>\n",
       "      <td>0.645455</td>\n",
       "      <td>115.0</td>\n",
       "      <td>0.891453</td>\n",
       "    </tr>\n",
       "    <tr>\n",
       "      <th>macro avg</th>\n",
       "      <td>0.815566</td>\n",
       "      <td>0.583800</td>\n",
       "      <td>0.602006</td>\n",
       "      <td>115.0</td>\n",
       "      <td>0.940503</td>\n",
       "    </tr>\n",
       "    <tr>\n",
       "      <th>weighted avg</th>\n",
       "      <td>0.804431</td>\n",
       "      <td>0.617391</td>\n",
       "      <td>0.628662</td>\n",
       "      <td>115.0</td>\n",
       "      <td>NaN</td>\n",
       "    </tr>\n",
       "    <tr>\n",
       "      <th>samples avg</th>\n",
       "      <td>0.676190</td>\n",
       "      <td>0.638095</td>\n",
       "      <td>0.650794</td>\n",
       "      <td>115.0</td>\n",
       "      <td>NaN</td>\n",
       "    </tr>\n",
       "  </tbody>\n",
       "</table>\n",
       "</div>"
      ],
      "text/plain": [
       "               precision    recall  f1-score  support   roc auc\n",
       "educação        0.958333  0.741935  0.836364     31.0  0.976024\n",
       "finanças        1.000000  0.230769  0.375000     13.0  0.901338\n",
       "indústrias      0.866667  0.650000  0.742857     20.0  0.978235\n",
       "orgão público   0.452830  1.000000  0.623377     24.0  0.953961\n",
       "varejo          0.800000  0.296296  0.432432     27.0  0.871557\n",
       "micro avg       0.676190  0.617391  0.645455    115.0  0.891453\n",
       "macro avg       0.815566  0.583800  0.602006    115.0  0.940503\n",
       "weighted avg    0.804431  0.617391  0.628662    115.0       NaN\n",
       "samples avg     0.676190  0.638095  0.650794    115.0       NaN"
      ]
     },
     "execution_count": 21,
     "metadata": {},
     "output_type": "execute_result"
    }
   ],
   "source": [
    "print(f'Classification report for Train dataset. F1 Average Score = {f1_score_test:.3f}')\n",
    "clf_report_test"
   ]
  },
  {
   "cell_type": "markdown",
   "id": "d9e40add",
   "metadata": {},
   "source": [
    "#### Confusion Matrix"
   ]
  },
  {
   "cell_type": "code",
   "execution_count": 64,
   "id": "8a177abe",
   "metadata": {},
   "outputs": [
    {
     "data": {
      "application/vnd.plotly.v1+json": {
       "config": {
        "plotlyServerURL": "https://plot.ly"
       },
       "data": [
        {
         "coloraxis": "coloraxis",
         "hovertemplate": "Predicted: %{x}<br>True: %{y}<br>Count: %{z}<extra></extra>",
         "name": "0",
         "texttemplate": "%{z}",
         "type": "heatmap",
         "xaxis": "x",
         "yaxis": "y",
         "z": [
          [
           72,
           2
          ],
          [
           6,
           25
          ]
         ]
        }
       ],
       "layout": {
        "coloraxis": {
         "colorbar": {
          "title": {
           "text": "Count"
          }
         },
         "colorscale": [
          [
           0,
           "#440154"
          ],
          [
           0.1111111111111111,
           "#482878"
          ],
          [
           0.2222222222222222,
           "#3e4989"
          ],
          [
           0.3333333333333333,
           "#31688e"
          ],
          [
           0.4444444444444444,
           "#26828e"
          ],
          [
           0.5555555555555556,
           "#1f9e89"
          ],
          [
           0.6666666666666666,
           "#35b779"
          ],
          [
           0.7777777777777778,
           "#6ece58"
          ],
          [
           0.8888888888888888,
           "#b5de2b"
          ],
          [
           1,
           "#fde725"
          ]
         ]
        },
        "template": {
         "data": {
          "bar": [
           {
            "error_x": {
             "color": "#2a3f5f"
            },
            "error_y": {
             "color": "#2a3f5f"
            },
            "marker": {
             "line": {
              "color": "#E5ECF6",
              "width": 0.5
             },
             "pattern": {
              "fillmode": "overlay",
              "size": 10,
              "solidity": 0.2
             }
            },
            "type": "bar"
           }
          ],
          "barpolar": [
           {
            "marker": {
             "line": {
              "color": "#E5ECF6",
              "width": 0.5
             },
             "pattern": {
              "fillmode": "overlay",
              "size": 10,
              "solidity": 0.2
             }
            },
            "type": "barpolar"
           }
          ],
          "carpet": [
           {
            "aaxis": {
             "endlinecolor": "#2a3f5f",
             "gridcolor": "white",
             "linecolor": "white",
             "minorgridcolor": "white",
             "startlinecolor": "#2a3f5f"
            },
            "baxis": {
             "endlinecolor": "#2a3f5f",
             "gridcolor": "white",
             "linecolor": "white",
             "minorgridcolor": "white",
             "startlinecolor": "#2a3f5f"
            },
            "type": "carpet"
           }
          ],
          "choropleth": [
           {
            "colorbar": {
             "outlinewidth": 0,
             "ticks": ""
            },
            "type": "choropleth"
           }
          ],
          "contour": [
           {
            "colorbar": {
             "outlinewidth": 0,
             "ticks": ""
            },
            "colorscale": [
             [
              0,
              "#0d0887"
             ],
             [
              0.1111111111111111,
              "#46039f"
             ],
             [
              0.2222222222222222,
              "#7201a8"
             ],
             [
              0.3333333333333333,
              "#9c179e"
             ],
             [
              0.4444444444444444,
              "#bd3786"
             ],
             [
              0.5555555555555556,
              "#d8576b"
             ],
             [
              0.6666666666666666,
              "#ed7953"
             ],
             [
              0.7777777777777778,
              "#fb9f3a"
             ],
             [
              0.8888888888888888,
              "#fdca26"
             ],
             [
              1,
              "#f0f921"
             ]
            ],
            "type": "contour"
           }
          ],
          "contourcarpet": [
           {
            "colorbar": {
             "outlinewidth": 0,
             "ticks": ""
            },
            "type": "contourcarpet"
           }
          ],
          "heatmap": [
           {
            "colorbar": {
             "outlinewidth": 0,
             "ticks": ""
            },
            "colorscale": [
             [
              0,
              "#0d0887"
             ],
             [
              0.1111111111111111,
              "#46039f"
             ],
             [
              0.2222222222222222,
              "#7201a8"
             ],
             [
              0.3333333333333333,
              "#9c179e"
             ],
             [
              0.4444444444444444,
              "#bd3786"
             ],
             [
              0.5555555555555556,
              "#d8576b"
             ],
             [
              0.6666666666666666,
              "#ed7953"
             ],
             [
              0.7777777777777778,
              "#fb9f3a"
             ],
             [
              0.8888888888888888,
              "#fdca26"
             ],
             [
              1,
              "#f0f921"
             ]
            ],
            "type": "heatmap"
           }
          ],
          "heatmapgl": [
           {
            "colorbar": {
             "outlinewidth": 0,
             "ticks": ""
            },
            "colorscale": [
             [
              0,
              "#0d0887"
             ],
             [
              0.1111111111111111,
              "#46039f"
             ],
             [
              0.2222222222222222,
              "#7201a8"
             ],
             [
              0.3333333333333333,
              "#9c179e"
             ],
             [
              0.4444444444444444,
              "#bd3786"
             ],
             [
              0.5555555555555556,
              "#d8576b"
             ],
             [
              0.6666666666666666,
              "#ed7953"
             ],
             [
              0.7777777777777778,
              "#fb9f3a"
             ],
             [
              0.8888888888888888,
              "#fdca26"
             ],
             [
              1,
              "#f0f921"
             ]
            ],
            "type": "heatmapgl"
           }
          ],
          "histogram": [
           {
            "marker": {
             "pattern": {
              "fillmode": "overlay",
              "size": 10,
              "solidity": 0.2
             }
            },
            "type": "histogram"
           }
          ],
          "histogram2d": [
           {
            "colorbar": {
             "outlinewidth": 0,
             "ticks": ""
            },
            "colorscale": [
             [
              0,
              "#0d0887"
             ],
             [
              0.1111111111111111,
              "#46039f"
             ],
             [
              0.2222222222222222,
              "#7201a8"
             ],
             [
              0.3333333333333333,
              "#9c179e"
             ],
             [
              0.4444444444444444,
              "#bd3786"
             ],
             [
              0.5555555555555556,
              "#d8576b"
             ],
             [
              0.6666666666666666,
              "#ed7953"
             ],
             [
              0.7777777777777778,
              "#fb9f3a"
             ],
             [
              0.8888888888888888,
              "#fdca26"
             ],
             [
              1,
              "#f0f921"
             ]
            ],
            "type": "histogram2d"
           }
          ],
          "histogram2dcontour": [
           {
            "colorbar": {
             "outlinewidth": 0,
             "ticks": ""
            },
            "colorscale": [
             [
              0,
              "#0d0887"
             ],
             [
              0.1111111111111111,
              "#46039f"
             ],
             [
              0.2222222222222222,
              "#7201a8"
             ],
             [
              0.3333333333333333,
              "#9c179e"
             ],
             [
              0.4444444444444444,
              "#bd3786"
             ],
             [
              0.5555555555555556,
              "#d8576b"
             ],
             [
              0.6666666666666666,
              "#ed7953"
             ],
             [
              0.7777777777777778,
              "#fb9f3a"
             ],
             [
              0.8888888888888888,
              "#fdca26"
             ],
             [
              1,
              "#f0f921"
             ]
            ],
            "type": "histogram2dcontour"
           }
          ],
          "mesh3d": [
           {
            "colorbar": {
             "outlinewidth": 0,
             "ticks": ""
            },
            "type": "mesh3d"
           }
          ],
          "parcoords": [
           {
            "line": {
             "colorbar": {
              "outlinewidth": 0,
              "ticks": ""
             }
            },
            "type": "parcoords"
           }
          ],
          "pie": [
           {
            "automargin": true,
            "type": "pie"
           }
          ],
          "scatter": [
           {
            "fillpattern": {
             "fillmode": "overlay",
             "size": 10,
             "solidity": 0.2
            },
            "type": "scatter"
           }
          ],
          "scatter3d": [
           {
            "line": {
             "colorbar": {
              "outlinewidth": 0,
              "ticks": ""
             }
            },
            "marker": {
             "colorbar": {
              "outlinewidth": 0,
              "ticks": ""
             }
            },
            "type": "scatter3d"
           }
          ],
          "scattercarpet": [
           {
            "marker": {
             "colorbar": {
              "outlinewidth": 0,
              "ticks": ""
             }
            },
            "type": "scattercarpet"
           }
          ],
          "scattergeo": [
           {
            "marker": {
             "colorbar": {
              "outlinewidth": 0,
              "ticks": ""
             }
            },
            "type": "scattergeo"
           }
          ],
          "scattergl": [
           {
            "marker": {
             "colorbar": {
              "outlinewidth": 0,
              "ticks": ""
             }
            },
            "type": "scattergl"
           }
          ],
          "scattermapbox": [
           {
            "marker": {
             "colorbar": {
              "outlinewidth": 0,
              "ticks": ""
             }
            },
            "type": "scattermapbox"
           }
          ],
          "scatterpolar": [
           {
            "marker": {
             "colorbar": {
              "outlinewidth": 0,
              "ticks": ""
             }
            },
            "type": "scatterpolar"
           }
          ],
          "scatterpolargl": [
           {
            "marker": {
             "colorbar": {
              "outlinewidth": 0,
              "ticks": ""
             }
            },
            "type": "scatterpolargl"
           }
          ],
          "scatterternary": [
           {
            "marker": {
             "colorbar": {
              "outlinewidth": 0,
              "ticks": ""
             }
            },
            "type": "scatterternary"
           }
          ],
          "surface": [
           {
            "colorbar": {
             "outlinewidth": 0,
             "ticks": ""
            },
            "colorscale": [
             [
              0,
              "#0d0887"
             ],
             [
              0.1111111111111111,
              "#46039f"
             ],
             [
              0.2222222222222222,
              "#7201a8"
             ],
             [
              0.3333333333333333,
              "#9c179e"
             ],
             [
              0.4444444444444444,
              "#bd3786"
             ],
             [
              0.5555555555555556,
              "#d8576b"
             ],
             [
              0.6666666666666666,
              "#ed7953"
             ],
             [
              0.7777777777777778,
              "#fb9f3a"
             ],
             [
              0.8888888888888888,
              "#fdca26"
             ],
             [
              1,
              "#f0f921"
             ]
            ],
            "type": "surface"
           }
          ],
          "table": [
           {
            "cells": {
             "fill": {
              "color": "#EBF0F8"
             },
             "line": {
              "color": "white"
             }
            },
            "header": {
             "fill": {
              "color": "#C8D4E3"
             },
             "line": {
              "color": "white"
             }
            },
            "type": "table"
           }
          ]
         },
         "layout": {
          "annotationdefaults": {
           "arrowcolor": "#2a3f5f",
           "arrowhead": 0,
           "arrowwidth": 1
          },
          "autotypenumbers": "strict",
          "coloraxis": {
           "colorbar": {
            "outlinewidth": 0,
            "ticks": ""
           }
          },
          "colorscale": {
           "diverging": [
            [
             0,
             "#8e0152"
            ],
            [
             0.1,
             "#c51b7d"
            ],
            [
             0.2,
             "#de77ae"
            ],
            [
             0.3,
             "#f1b6da"
            ],
            [
             0.4,
             "#fde0ef"
            ],
            [
             0.5,
             "#f7f7f7"
            ],
            [
             0.6,
             "#e6f5d0"
            ],
            [
             0.7,
             "#b8e186"
            ],
            [
             0.8,
             "#7fbc41"
            ],
            [
             0.9,
             "#4d9221"
            ],
            [
             1,
             "#276419"
            ]
           ],
           "sequential": [
            [
             0,
             "#0d0887"
            ],
            [
             0.1111111111111111,
             "#46039f"
            ],
            [
             0.2222222222222222,
             "#7201a8"
            ],
            [
             0.3333333333333333,
             "#9c179e"
            ],
            [
             0.4444444444444444,
             "#bd3786"
            ],
            [
             0.5555555555555556,
             "#d8576b"
            ],
            [
             0.6666666666666666,
             "#ed7953"
            ],
            [
             0.7777777777777778,
             "#fb9f3a"
            ],
            [
             0.8888888888888888,
             "#fdca26"
            ],
            [
             1,
             "#f0f921"
            ]
           ],
           "sequentialminus": [
            [
             0,
             "#0d0887"
            ],
            [
             0.1111111111111111,
             "#46039f"
            ],
            [
             0.2222222222222222,
             "#7201a8"
            ],
            [
             0.3333333333333333,
             "#9c179e"
            ],
            [
             0.4444444444444444,
             "#bd3786"
            ],
            [
             0.5555555555555556,
             "#d8576b"
            ],
            [
             0.6666666666666666,
             "#ed7953"
            ],
            [
             0.7777777777777778,
             "#fb9f3a"
            ],
            [
             0.8888888888888888,
             "#fdca26"
            ],
            [
             1,
             "#f0f921"
            ]
           ]
          },
          "colorway": [
           "#636efa",
           "#EF553B",
           "#00cc96",
           "#ab63fa",
           "#FFA15A",
           "#19d3f3",
           "#FF6692",
           "#B6E880",
           "#FF97FF",
           "#FECB52"
          ],
          "font": {
           "color": "#2a3f5f"
          },
          "geo": {
           "bgcolor": "white",
           "lakecolor": "white",
           "landcolor": "#E5ECF6",
           "showlakes": true,
           "showland": true,
           "subunitcolor": "white"
          },
          "hoverlabel": {
           "align": "left"
          },
          "hovermode": "closest",
          "mapbox": {
           "style": "light"
          },
          "paper_bgcolor": "white",
          "plot_bgcolor": "#E5ECF6",
          "polar": {
           "angularaxis": {
            "gridcolor": "white",
            "linecolor": "white",
            "ticks": ""
           },
           "bgcolor": "#E5ECF6",
           "radialaxis": {
            "gridcolor": "white",
            "linecolor": "white",
            "ticks": ""
           }
          },
          "scene": {
           "xaxis": {
            "backgroundcolor": "#E5ECF6",
            "gridcolor": "white",
            "gridwidth": 2,
            "linecolor": "white",
            "showbackground": true,
            "ticks": "",
            "zerolinecolor": "white"
           },
           "yaxis": {
            "backgroundcolor": "#E5ECF6",
            "gridcolor": "white",
            "gridwidth": 2,
            "linecolor": "white",
            "showbackground": true,
            "ticks": "",
            "zerolinecolor": "white"
           },
           "zaxis": {
            "backgroundcolor": "#E5ECF6",
            "gridcolor": "white",
            "gridwidth": 2,
            "linecolor": "white",
            "showbackground": true,
            "ticks": "",
            "zerolinecolor": "white"
           }
          },
          "shapedefaults": {
           "line": {
            "color": "#2a3f5f"
           }
          },
          "ternary": {
           "aaxis": {
            "gridcolor": "white",
            "linecolor": "white",
            "ticks": ""
           },
           "baxis": {
            "gridcolor": "white",
            "linecolor": "white",
            "ticks": ""
           },
           "bgcolor": "#E5ECF6",
           "caxis": {
            "gridcolor": "white",
            "linecolor": "white",
            "ticks": ""
           }
          },
          "title": {
           "x": 0.05
          },
          "xaxis": {
           "automargin": true,
           "gridcolor": "white",
           "linecolor": "white",
           "ticks": "",
           "title": {
            "standoff": 15
           },
           "zerolinecolor": "white",
           "zerolinewidth": 2
          },
          "yaxis": {
           "automargin": true,
           "gridcolor": "white",
           "linecolor": "white",
           "ticks": "",
           "title": {
            "standoff": 15
           },
           "zerolinecolor": "white",
           "zerolinewidth": 2
          }
         }
        },
        "title": {
         "text": "Confusion Matrix for educação"
        },
        "xaxis": {
         "anchor": "y",
         "constrain": "domain",
         "domain": [
          0,
          1
         ],
         "scaleanchor": "y",
         "showticklabels": false,
         "title": {
          "text": "Predicted"
         }
        },
        "yaxis": {
         "anchor": "x",
         "autorange": "reversed",
         "constrain": "domain",
         "domain": [
          0,
          1
         ],
         "showticklabels": false,
         "title": {
          "text": "True"
         }
        }
       }
      }
     },
     "metadata": {},
     "output_type": "display_data"
    },
    {
     "data": {
      "application/vnd.plotly.v1+json": {
       "config": {
        "plotlyServerURL": "https://plot.ly"
       },
       "data": [
        {
         "coloraxis": "coloraxis",
         "hovertemplate": "Predicted: %{x}<br>True: %{y}<br>Count: %{z}<extra></extra>",
         "name": "0",
         "texttemplate": "%{z}",
         "type": "heatmap",
         "xaxis": "x",
         "yaxis": "y",
         "z": [
          [
           89,
           3
          ],
          [
           7,
           6
          ]
         ]
        }
       ],
       "layout": {
        "coloraxis": {
         "colorbar": {
          "title": {
           "text": "Count"
          }
         },
         "colorscale": [
          [
           0,
           "#440154"
          ],
          [
           0.1111111111111111,
           "#482878"
          ],
          [
           0.2222222222222222,
           "#3e4989"
          ],
          [
           0.3333333333333333,
           "#31688e"
          ],
          [
           0.4444444444444444,
           "#26828e"
          ],
          [
           0.5555555555555556,
           "#1f9e89"
          ],
          [
           0.6666666666666666,
           "#35b779"
          ],
          [
           0.7777777777777778,
           "#6ece58"
          ],
          [
           0.8888888888888888,
           "#b5de2b"
          ],
          [
           1,
           "#fde725"
          ]
         ]
        },
        "template": {
         "data": {
          "bar": [
           {
            "error_x": {
             "color": "#2a3f5f"
            },
            "error_y": {
             "color": "#2a3f5f"
            },
            "marker": {
             "line": {
              "color": "#E5ECF6",
              "width": 0.5
             },
             "pattern": {
              "fillmode": "overlay",
              "size": 10,
              "solidity": 0.2
             }
            },
            "type": "bar"
           }
          ],
          "barpolar": [
           {
            "marker": {
             "line": {
              "color": "#E5ECF6",
              "width": 0.5
             },
             "pattern": {
              "fillmode": "overlay",
              "size": 10,
              "solidity": 0.2
             }
            },
            "type": "barpolar"
           }
          ],
          "carpet": [
           {
            "aaxis": {
             "endlinecolor": "#2a3f5f",
             "gridcolor": "white",
             "linecolor": "white",
             "minorgridcolor": "white",
             "startlinecolor": "#2a3f5f"
            },
            "baxis": {
             "endlinecolor": "#2a3f5f",
             "gridcolor": "white",
             "linecolor": "white",
             "minorgridcolor": "white",
             "startlinecolor": "#2a3f5f"
            },
            "type": "carpet"
           }
          ],
          "choropleth": [
           {
            "colorbar": {
             "outlinewidth": 0,
             "ticks": ""
            },
            "type": "choropleth"
           }
          ],
          "contour": [
           {
            "colorbar": {
             "outlinewidth": 0,
             "ticks": ""
            },
            "colorscale": [
             [
              0,
              "#0d0887"
             ],
             [
              0.1111111111111111,
              "#46039f"
             ],
             [
              0.2222222222222222,
              "#7201a8"
             ],
             [
              0.3333333333333333,
              "#9c179e"
             ],
             [
              0.4444444444444444,
              "#bd3786"
             ],
             [
              0.5555555555555556,
              "#d8576b"
             ],
             [
              0.6666666666666666,
              "#ed7953"
             ],
             [
              0.7777777777777778,
              "#fb9f3a"
             ],
             [
              0.8888888888888888,
              "#fdca26"
             ],
             [
              1,
              "#f0f921"
             ]
            ],
            "type": "contour"
           }
          ],
          "contourcarpet": [
           {
            "colorbar": {
             "outlinewidth": 0,
             "ticks": ""
            },
            "type": "contourcarpet"
           }
          ],
          "heatmap": [
           {
            "colorbar": {
             "outlinewidth": 0,
             "ticks": ""
            },
            "colorscale": [
             [
              0,
              "#0d0887"
             ],
             [
              0.1111111111111111,
              "#46039f"
             ],
             [
              0.2222222222222222,
              "#7201a8"
             ],
             [
              0.3333333333333333,
              "#9c179e"
             ],
             [
              0.4444444444444444,
              "#bd3786"
             ],
             [
              0.5555555555555556,
              "#d8576b"
             ],
             [
              0.6666666666666666,
              "#ed7953"
             ],
             [
              0.7777777777777778,
              "#fb9f3a"
             ],
             [
              0.8888888888888888,
              "#fdca26"
             ],
             [
              1,
              "#f0f921"
             ]
            ],
            "type": "heatmap"
           }
          ],
          "heatmapgl": [
           {
            "colorbar": {
             "outlinewidth": 0,
             "ticks": ""
            },
            "colorscale": [
             [
              0,
              "#0d0887"
             ],
             [
              0.1111111111111111,
              "#46039f"
             ],
             [
              0.2222222222222222,
              "#7201a8"
             ],
             [
              0.3333333333333333,
              "#9c179e"
             ],
             [
              0.4444444444444444,
              "#bd3786"
             ],
             [
              0.5555555555555556,
              "#d8576b"
             ],
             [
              0.6666666666666666,
              "#ed7953"
             ],
             [
              0.7777777777777778,
              "#fb9f3a"
             ],
             [
              0.8888888888888888,
              "#fdca26"
             ],
             [
              1,
              "#f0f921"
             ]
            ],
            "type": "heatmapgl"
           }
          ],
          "histogram": [
           {
            "marker": {
             "pattern": {
              "fillmode": "overlay",
              "size": 10,
              "solidity": 0.2
             }
            },
            "type": "histogram"
           }
          ],
          "histogram2d": [
           {
            "colorbar": {
             "outlinewidth": 0,
             "ticks": ""
            },
            "colorscale": [
             [
              0,
              "#0d0887"
             ],
             [
              0.1111111111111111,
              "#46039f"
             ],
             [
              0.2222222222222222,
              "#7201a8"
             ],
             [
              0.3333333333333333,
              "#9c179e"
             ],
             [
              0.4444444444444444,
              "#bd3786"
             ],
             [
              0.5555555555555556,
              "#d8576b"
             ],
             [
              0.6666666666666666,
              "#ed7953"
             ],
             [
              0.7777777777777778,
              "#fb9f3a"
             ],
             [
              0.8888888888888888,
              "#fdca26"
             ],
             [
              1,
              "#f0f921"
             ]
            ],
            "type": "histogram2d"
           }
          ],
          "histogram2dcontour": [
           {
            "colorbar": {
             "outlinewidth": 0,
             "ticks": ""
            },
            "colorscale": [
             [
              0,
              "#0d0887"
             ],
             [
              0.1111111111111111,
              "#46039f"
             ],
             [
              0.2222222222222222,
              "#7201a8"
             ],
             [
              0.3333333333333333,
              "#9c179e"
             ],
             [
              0.4444444444444444,
              "#bd3786"
             ],
             [
              0.5555555555555556,
              "#d8576b"
             ],
             [
              0.6666666666666666,
              "#ed7953"
             ],
             [
              0.7777777777777778,
              "#fb9f3a"
             ],
             [
              0.8888888888888888,
              "#fdca26"
             ],
             [
              1,
              "#f0f921"
             ]
            ],
            "type": "histogram2dcontour"
           }
          ],
          "mesh3d": [
           {
            "colorbar": {
             "outlinewidth": 0,
             "ticks": ""
            },
            "type": "mesh3d"
           }
          ],
          "parcoords": [
           {
            "line": {
             "colorbar": {
              "outlinewidth": 0,
              "ticks": ""
             }
            },
            "type": "parcoords"
           }
          ],
          "pie": [
           {
            "automargin": true,
            "type": "pie"
           }
          ],
          "scatter": [
           {
            "fillpattern": {
             "fillmode": "overlay",
             "size": 10,
             "solidity": 0.2
            },
            "type": "scatter"
           }
          ],
          "scatter3d": [
           {
            "line": {
             "colorbar": {
              "outlinewidth": 0,
              "ticks": ""
             }
            },
            "marker": {
             "colorbar": {
              "outlinewidth": 0,
              "ticks": ""
             }
            },
            "type": "scatter3d"
           }
          ],
          "scattercarpet": [
           {
            "marker": {
             "colorbar": {
              "outlinewidth": 0,
              "ticks": ""
             }
            },
            "type": "scattercarpet"
           }
          ],
          "scattergeo": [
           {
            "marker": {
             "colorbar": {
              "outlinewidth": 0,
              "ticks": ""
             }
            },
            "type": "scattergeo"
           }
          ],
          "scattergl": [
           {
            "marker": {
             "colorbar": {
              "outlinewidth": 0,
              "ticks": ""
             }
            },
            "type": "scattergl"
           }
          ],
          "scattermapbox": [
           {
            "marker": {
             "colorbar": {
              "outlinewidth": 0,
              "ticks": ""
             }
            },
            "type": "scattermapbox"
           }
          ],
          "scatterpolar": [
           {
            "marker": {
             "colorbar": {
              "outlinewidth": 0,
              "ticks": ""
             }
            },
            "type": "scatterpolar"
           }
          ],
          "scatterpolargl": [
           {
            "marker": {
             "colorbar": {
              "outlinewidth": 0,
              "ticks": ""
             }
            },
            "type": "scatterpolargl"
           }
          ],
          "scatterternary": [
           {
            "marker": {
             "colorbar": {
              "outlinewidth": 0,
              "ticks": ""
             }
            },
            "type": "scatterternary"
           }
          ],
          "surface": [
           {
            "colorbar": {
             "outlinewidth": 0,
             "ticks": ""
            },
            "colorscale": [
             [
              0,
              "#0d0887"
             ],
             [
              0.1111111111111111,
              "#46039f"
             ],
             [
              0.2222222222222222,
              "#7201a8"
             ],
             [
              0.3333333333333333,
              "#9c179e"
             ],
             [
              0.4444444444444444,
              "#bd3786"
             ],
             [
              0.5555555555555556,
              "#d8576b"
             ],
             [
              0.6666666666666666,
              "#ed7953"
             ],
             [
              0.7777777777777778,
              "#fb9f3a"
             ],
             [
              0.8888888888888888,
              "#fdca26"
             ],
             [
              1,
              "#f0f921"
             ]
            ],
            "type": "surface"
           }
          ],
          "table": [
           {
            "cells": {
             "fill": {
              "color": "#EBF0F8"
             },
             "line": {
              "color": "white"
             }
            },
            "header": {
             "fill": {
              "color": "#C8D4E3"
             },
             "line": {
              "color": "white"
             }
            },
            "type": "table"
           }
          ]
         },
         "layout": {
          "annotationdefaults": {
           "arrowcolor": "#2a3f5f",
           "arrowhead": 0,
           "arrowwidth": 1
          },
          "autotypenumbers": "strict",
          "coloraxis": {
           "colorbar": {
            "outlinewidth": 0,
            "ticks": ""
           }
          },
          "colorscale": {
           "diverging": [
            [
             0,
             "#8e0152"
            ],
            [
             0.1,
             "#c51b7d"
            ],
            [
             0.2,
             "#de77ae"
            ],
            [
             0.3,
             "#f1b6da"
            ],
            [
             0.4,
             "#fde0ef"
            ],
            [
             0.5,
             "#f7f7f7"
            ],
            [
             0.6,
             "#e6f5d0"
            ],
            [
             0.7,
             "#b8e186"
            ],
            [
             0.8,
             "#7fbc41"
            ],
            [
             0.9,
             "#4d9221"
            ],
            [
             1,
             "#276419"
            ]
           ],
           "sequential": [
            [
             0,
             "#0d0887"
            ],
            [
             0.1111111111111111,
             "#46039f"
            ],
            [
             0.2222222222222222,
             "#7201a8"
            ],
            [
             0.3333333333333333,
             "#9c179e"
            ],
            [
             0.4444444444444444,
             "#bd3786"
            ],
            [
             0.5555555555555556,
             "#d8576b"
            ],
            [
             0.6666666666666666,
             "#ed7953"
            ],
            [
             0.7777777777777778,
             "#fb9f3a"
            ],
            [
             0.8888888888888888,
             "#fdca26"
            ],
            [
             1,
             "#f0f921"
            ]
           ],
           "sequentialminus": [
            [
             0,
             "#0d0887"
            ],
            [
             0.1111111111111111,
             "#46039f"
            ],
            [
             0.2222222222222222,
             "#7201a8"
            ],
            [
             0.3333333333333333,
             "#9c179e"
            ],
            [
             0.4444444444444444,
             "#bd3786"
            ],
            [
             0.5555555555555556,
             "#d8576b"
            ],
            [
             0.6666666666666666,
             "#ed7953"
            ],
            [
             0.7777777777777778,
             "#fb9f3a"
            ],
            [
             0.8888888888888888,
             "#fdca26"
            ],
            [
             1,
             "#f0f921"
            ]
           ]
          },
          "colorway": [
           "#636efa",
           "#EF553B",
           "#00cc96",
           "#ab63fa",
           "#FFA15A",
           "#19d3f3",
           "#FF6692",
           "#B6E880",
           "#FF97FF",
           "#FECB52"
          ],
          "font": {
           "color": "#2a3f5f"
          },
          "geo": {
           "bgcolor": "white",
           "lakecolor": "white",
           "landcolor": "#E5ECF6",
           "showlakes": true,
           "showland": true,
           "subunitcolor": "white"
          },
          "hoverlabel": {
           "align": "left"
          },
          "hovermode": "closest",
          "mapbox": {
           "style": "light"
          },
          "paper_bgcolor": "white",
          "plot_bgcolor": "#E5ECF6",
          "polar": {
           "angularaxis": {
            "gridcolor": "white",
            "linecolor": "white",
            "ticks": ""
           },
           "bgcolor": "#E5ECF6",
           "radialaxis": {
            "gridcolor": "white",
            "linecolor": "white",
            "ticks": ""
           }
          },
          "scene": {
           "xaxis": {
            "backgroundcolor": "#E5ECF6",
            "gridcolor": "white",
            "gridwidth": 2,
            "linecolor": "white",
            "showbackground": true,
            "ticks": "",
            "zerolinecolor": "white"
           },
           "yaxis": {
            "backgroundcolor": "#E5ECF6",
            "gridcolor": "white",
            "gridwidth": 2,
            "linecolor": "white",
            "showbackground": true,
            "ticks": "",
            "zerolinecolor": "white"
           },
           "zaxis": {
            "backgroundcolor": "#E5ECF6",
            "gridcolor": "white",
            "gridwidth": 2,
            "linecolor": "white",
            "showbackground": true,
            "ticks": "",
            "zerolinecolor": "white"
           }
          },
          "shapedefaults": {
           "line": {
            "color": "#2a3f5f"
           }
          },
          "ternary": {
           "aaxis": {
            "gridcolor": "white",
            "linecolor": "white",
            "ticks": ""
           },
           "baxis": {
            "gridcolor": "white",
            "linecolor": "white",
            "ticks": ""
           },
           "bgcolor": "#E5ECF6",
           "caxis": {
            "gridcolor": "white",
            "linecolor": "white",
            "ticks": ""
           }
          },
          "title": {
           "x": 0.05
          },
          "xaxis": {
           "automargin": true,
           "gridcolor": "white",
           "linecolor": "white",
           "ticks": "",
           "title": {
            "standoff": 15
           },
           "zerolinecolor": "white",
           "zerolinewidth": 2
          },
          "yaxis": {
           "automargin": true,
           "gridcolor": "white",
           "linecolor": "white",
           "ticks": "",
           "title": {
            "standoff": 15
           },
           "zerolinecolor": "white",
           "zerolinewidth": 2
          }
         }
        },
        "title": {
         "text": "Confusion Matrix for finanças"
        },
        "xaxis": {
         "anchor": "y",
         "constrain": "domain",
         "domain": [
          0,
          1
         ],
         "scaleanchor": "y",
         "showticklabels": false,
         "title": {
          "text": "Predicted"
         }
        },
        "yaxis": {
         "anchor": "x",
         "autorange": "reversed",
         "constrain": "domain",
         "domain": [
          0,
          1
         ],
         "showticklabels": false,
         "title": {
          "text": "True"
         }
        }
       }
      }
     },
     "metadata": {},
     "output_type": "display_data"
    },
    {
     "data": {
      "application/vnd.plotly.v1+json": {
       "config": {
        "plotlyServerURL": "https://plot.ly"
       },
       "data": [
        {
         "coloraxis": "coloraxis",
         "hovertemplate": "Predicted: %{x}<br>True: %{y}<br>Count: %{z}<extra></extra>",
         "name": "0",
         "texttemplate": "%{z}",
         "type": "heatmap",
         "xaxis": "x",
         "yaxis": "y",
         "z": [
          [
           82,
           3
          ],
          [
           3,
           17
          ]
         ]
        }
       ],
       "layout": {
        "coloraxis": {
         "colorbar": {
          "title": {
           "text": "Count"
          }
         },
         "colorscale": [
          [
           0,
           "#440154"
          ],
          [
           0.1111111111111111,
           "#482878"
          ],
          [
           0.2222222222222222,
           "#3e4989"
          ],
          [
           0.3333333333333333,
           "#31688e"
          ],
          [
           0.4444444444444444,
           "#26828e"
          ],
          [
           0.5555555555555556,
           "#1f9e89"
          ],
          [
           0.6666666666666666,
           "#35b779"
          ],
          [
           0.7777777777777778,
           "#6ece58"
          ],
          [
           0.8888888888888888,
           "#b5de2b"
          ],
          [
           1,
           "#fde725"
          ]
         ]
        },
        "template": {
         "data": {
          "bar": [
           {
            "error_x": {
             "color": "#2a3f5f"
            },
            "error_y": {
             "color": "#2a3f5f"
            },
            "marker": {
             "line": {
              "color": "#E5ECF6",
              "width": 0.5
             },
             "pattern": {
              "fillmode": "overlay",
              "size": 10,
              "solidity": 0.2
             }
            },
            "type": "bar"
           }
          ],
          "barpolar": [
           {
            "marker": {
             "line": {
              "color": "#E5ECF6",
              "width": 0.5
             },
             "pattern": {
              "fillmode": "overlay",
              "size": 10,
              "solidity": 0.2
             }
            },
            "type": "barpolar"
           }
          ],
          "carpet": [
           {
            "aaxis": {
             "endlinecolor": "#2a3f5f",
             "gridcolor": "white",
             "linecolor": "white",
             "minorgridcolor": "white",
             "startlinecolor": "#2a3f5f"
            },
            "baxis": {
             "endlinecolor": "#2a3f5f",
             "gridcolor": "white",
             "linecolor": "white",
             "minorgridcolor": "white",
             "startlinecolor": "#2a3f5f"
            },
            "type": "carpet"
           }
          ],
          "choropleth": [
           {
            "colorbar": {
             "outlinewidth": 0,
             "ticks": ""
            },
            "type": "choropleth"
           }
          ],
          "contour": [
           {
            "colorbar": {
             "outlinewidth": 0,
             "ticks": ""
            },
            "colorscale": [
             [
              0,
              "#0d0887"
             ],
             [
              0.1111111111111111,
              "#46039f"
             ],
             [
              0.2222222222222222,
              "#7201a8"
             ],
             [
              0.3333333333333333,
              "#9c179e"
             ],
             [
              0.4444444444444444,
              "#bd3786"
             ],
             [
              0.5555555555555556,
              "#d8576b"
             ],
             [
              0.6666666666666666,
              "#ed7953"
             ],
             [
              0.7777777777777778,
              "#fb9f3a"
             ],
             [
              0.8888888888888888,
              "#fdca26"
             ],
             [
              1,
              "#f0f921"
             ]
            ],
            "type": "contour"
           }
          ],
          "contourcarpet": [
           {
            "colorbar": {
             "outlinewidth": 0,
             "ticks": ""
            },
            "type": "contourcarpet"
           }
          ],
          "heatmap": [
           {
            "colorbar": {
             "outlinewidth": 0,
             "ticks": ""
            },
            "colorscale": [
             [
              0,
              "#0d0887"
             ],
             [
              0.1111111111111111,
              "#46039f"
             ],
             [
              0.2222222222222222,
              "#7201a8"
             ],
             [
              0.3333333333333333,
              "#9c179e"
             ],
             [
              0.4444444444444444,
              "#bd3786"
             ],
             [
              0.5555555555555556,
              "#d8576b"
             ],
             [
              0.6666666666666666,
              "#ed7953"
             ],
             [
              0.7777777777777778,
              "#fb9f3a"
             ],
             [
              0.8888888888888888,
              "#fdca26"
             ],
             [
              1,
              "#f0f921"
             ]
            ],
            "type": "heatmap"
           }
          ],
          "heatmapgl": [
           {
            "colorbar": {
             "outlinewidth": 0,
             "ticks": ""
            },
            "colorscale": [
             [
              0,
              "#0d0887"
             ],
             [
              0.1111111111111111,
              "#46039f"
             ],
             [
              0.2222222222222222,
              "#7201a8"
             ],
             [
              0.3333333333333333,
              "#9c179e"
             ],
             [
              0.4444444444444444,
              "#bd3786"
             ],
             [
              0.5555555555555556,
              "#d8576b"
             ],
             [
              0.6666666666666666,
              "#ed7953"
             ],
             [
              0.7777777777777778,
              "#fb9f3a"
             ],
             [
              0.8888888888888888,
              "#fdca26"
             ],
             [
              1,
              "#f0f921"
             ]
            ],
            "type": "heatmapgl"
           }
          ],
          "histogram": [
           {
            "marker": {
             "pattern": {
              "fillmode": "overlay",
              "size": 10,
              "solidity": 0.2
             }
            },
            "type": "histogram"
           }
          ],
          "histogram2d": [
           {
            "colorbar": {
             "outlinewidth": 0,
             "ticks": ""
            },
            "colorscale": [
             [
              0,
              "#0d0887"
             ],
             [
              0.1111111111111111,
              "#46039f"
             ],
             [
              0.2222222222222222,
              "#7201a8"
             ],
             [
              0.3333333333333333,
              "#9c179e"
             ],
             [
              0.4444444444444444,
              "#bd3786"
             ],
             [
              0.5555555555555556,
              "#d8576b"
             ],
             [
              0.6666666666666666,
              "#ed7953"
             ],
             [
              0.7777777777777778,
              "#fb9f3a"
             ],
             [
              0.8888888888888888,
              "#fdca26"
             ],
             [
              1,
              "#f0f921"
             ]
            ],
            "type": "histogram2d"
           }
          ],
          "histogram2dcontour": [
           {
            "colorbar": {
             "outlinewidth": 0,
             "ticks": ""
            },
            "colorscale": [
             [
              0,
              "#0d0887"
             ],
             [
              0.1111111111111111,
              "#46039f"
             ],
             [
              0.2222222222222222,
              "#7201a8"
             ],
             [
              0.3333333333333333,
              "#9c179e"
             ],
             [
              0.4444444444444444,
              "#bd3786"
             ],
             [
              0.5555555555555556,
              "#d8576b"
             ],
             [
              0.6666666666666666,
              "#ed7953"
             ],
             [
              0.7777777777777778,
              "#fb9f3a"
             ],
             [
              0.8888888888888888,
              "#fdca26"
             ],
             [
              1,
              "#f0f921"
             ]
            ],
            "type": "histogram2dcontour"
           }
          ],
          "mesh3d": [
           {
            "colorbar": {
             "outlinewidth": 0,
             "ticks": ""
            },
            "type": "mesh3d"
           }
          ],
          "parcoords": [
           {
            "line": {
             "colorbar": {
              "outlinewidth": 0,
              "ticks": ""
             }
            },
            "type": "parcoords"
           }
          ],
          "pie": [
           {
            "automargin": true,
            "type": "pie"
           }
          ],
          "scatter": [
           {
            "fillpattern": {
             "fillmode": "overlay",
             "size": 10,
             "solidity": 0.2
            },
            "type": "scatter"
           }
          ],
          "scatter3d": [
           {
            "line": {
             "colorbar": {
              "outlinewidth": 0,
              "ticks": ""
             }
            },
            "marker": {
             "colorbar": {
              "outlinewidth": 0,
              "ticks": ""
             }
            },
            "type": "scatter3d"
           }
          ],
          "scattercarpet": [
           {
            "marker": {
             "colorbar": {
              "outlinewidth": 0,
              "ticks": ""
             }
            },
            "type": "scattercarpet"
           }
          ],
          "scattergeo": [
           {
            "marker": {
             "colorbar": {
              "outlinewidth": 0,
              "ticks": ""
             }
            },
            "type": "scattergeo"
           }
          ],
          "scattergl": [
           {
            "marker": {
             "colorbar": {
              "outlinewidth": 0,
              "ticks": ""
             }
            },
            "type": "scattergl"
           }
          ],
          "scattermapbox": [
           {
            "marker": {
             "colorbar": {
              "outlinewidth": 0,
              "ticks": ""
             }
            },
            "type": "scattermapbox"
           }
          ],
          "scatterpolar": [
           {
            "marker": {
             "colorbar": {
              "outlinewidth": 0,
              "ticks": ""
             }
            },
            "type": "scatterpolar"
           }
          ],
          "scatterpolargl": [
           {
            "marker": {
             "colorbar": {
              "outlinewidth": 0,
              "ticks": ""
             }
            },
            "type": "scatterpolargl"
           }
          ],
          "scatterternary": [
           {
            "marker": {
             "colorbar": {
              "outlinewidth": 0,
              "ticks": ""
             }
            },
            "type": "scatterternary"
           }
          ],
          "surface": [
           {
            "colorbar": {
             "outlinewidth": 0,
             "ticks": ""
            },
            "colorscale": [
             [
              0,
              "#0d0887"
             ],
             [
              0.1111111111111111,
              "#46039f"
             ],
             [
              0.2222222222222222,
              "#7201a8"
             ],
             [
              0.3333333333333333,
              "#9c179e"
             ],
             [
              0.4444444444444444,
              "#bd3786"
             ],
             [
              0.5555555555555556,
              "#d8576b"
             ],
             [
              0.6666666666666666,
              "#ed7953"
             ],
             [
              0.7777777777777778,
              "#fb9f3a"
             ],
             [
              0.8888888888888888,
              "#fdca26"
             ],
             [
              1,
              "#f0f921"
             ]
            ],
            "type": "surface"
           }
          ],
          "table": [
           {
            "cells": {
             "fill": {
              "color": "#EBF0F8"
             },
             "line": {
              "color": "white"
             }
            },
            "header": {
             "fill": {
              "color": "#C8D4E3"
             },
             "line": {
              "color": "white"
             }
            },
            "type": "table"
           }
          ]
         },
         "layout": {
          "annotationdefaults": {
           "arrowcolor": "#2a3f5f",
           "arrowhead": 0,
           "arrowwidth": 1
          },
          "autotypenumbers": "strict",
          "coloraxis": {
           "colorbar": {
            "outlinewidth": 0,
            "ticks": ""
           }
          },
          "colorscale": {
           "diverging": [
            [
             0,
             "#8e0152"
            ],
            [
             0.1,
             "#c51b7d"
            ],
            [
             0.2,
             "#de77ae"
            ],
            [
             0.3,
             "#f1b6da"
            ],
            [
             0.4,
             "#fde0ef"
            ],
            [
             0.5,
             "#f7f7f7"
            ],
            [
             0.6,
             "#e6f5d0"
            ],
            [
             0.7,
             "#b8e186"
            ],
            [
             0.8,
             "#7fbc41"
            ],
            [
             0.9,
             "#4d9221"
            ],
            [
             1,
             "#276419"
            ]
           ],
           "sequential": [
            [
             0,
             "#0d0887"
            ],
            [
             0.1111111111111111,
             "#46039f"
            ],
            [
             0.2222222222222222,
             "#7201a8"
            ],
            [
             0.3333333333333333,
             "#9c179e"
            ],
            [
             0.4444444444444444,
             "#bd3786"
            ],
            [
             0.5555555555555556,
             "#d8576b"
            ],
            [
             0.6666666666666666,
             "#ed7953"
            ],
            [
             0.7777777777777778,
             "#fb9f3a"
            ],
            [
             0.8888888888888888,
             "#fdca26"
            ],
            [
             1,
             "#f0f921"
            ]
           ],
           "sequentialminus": [
            [
             0,
             "#0d0887"
            ],
            [
             0.1111111111111111,
             "#46039f"
            ],
            [
             0.2222222222222222,
             "#7201a8"
            ],
            [
             0.3333333333333333,
             "#9c179e"
            ],
            [
             0.4444444444444444,
             "#bd3786"
            ],
            [
             0.5555555555555556,
             "#d8576b"
            ],
            [
             0.6666666666666666,
             "#ed7953"
            ],
            [
             0.7777777777777778,
             "#fb9f3a"
            ],
            [
             0.8888888888888888,
             "#fdca26"
            ],
            [
             1,
             "#f0f921"
            ]
           ]
          },
          "colorway": [
           "#636efa",
           "#EF553B",
           "#00cc96",
           "#ab63fa",
           "#FFA15A",
           "#19d3f3",
           "#FF6692",
           "#B6E880",
           "#FF97FF",
           "#FECB52"
          ],
          "font": {
           "color": "#2a3f5f"
          },
          "geo": {
           "bgcolor": "white",
           "lakecolor": "white",
           "landcolor": "#E5ECF6",
           "showlakes": true,
           "showland": true,
           "subunitcolor": "white"
          },
          "hoverlabel": {
           "align": "left"
          },
          "hovermode": "closest",
          "mapbox": {
           "style": "light"
          },
          "paper_bgcolor": "white",
          "plot_bgcolor": "#E5ECF6",
          "polar": {
           "angularaxis": {
            "gridcolor": "white",
            "linecolor": "white",
            "ticks": ""
           },
           "bgcolor": "#E5ECF6",
           "radialaxis": {
            "gridcolor": "white",
            "linecolor": "white",
            "ticks": ""
           }
          },
          "scene": {
           "xaxis": {
            "backgroundcolor": "#E5ECF6",
            "gridcolor": "white",
            "gridwidth": 2,
            "linecolor": "white",
            "showbackground": true,
            "ticks": "",
            "zerolinecolor": "white"
           },
           "yaxis": {
            "backgroundcolor": "#E5ECF6",
            "gridcolor": "white",
            "gridwidth": 2,
            "linecolor": "white",
            "showbackground": true,
            "ticks": "",
            "zerolinecolor": "white"
           },
           "zaxis": {
            "backgroundcolor": "#E5ECF6",
            "gridcolor": "white",
            "gridwidth": 2,
            "linecolor": "white",
            "showbackground": true,
            "ticks": "",
            "zerolinecolor": "white"
           }
          },
          "shapedefaults": {
           "line": {
            "color": "#2a3f5f"
           }
          },
          "ternary": {
           "aaxis": {
            "gridcolor": "white",
            "linecolor": "white",
            "ticks": ""
           },
           "baxis": {
            "gridcolor": "white",
            "linecolor": "white",
            "ticks": ""
           },
           "bgcolor": "#E5ECF6",
           "caxis": {
            "gridcolor": "white",
            "linecolor": "white",
            "ticks": ""
           }
          },
          "title": {
           "x": 0.05
          },
          "xaxis": {
           "automargin": true,
           "gridcolor": "white",
           "linecolor": "white",
           "ticks": "",
           "title": {
            "standoff": 15
           },
           "zerolinecolor": "white",
           "zerolinewidth": 2
          },
          "yaxis": {
           "automargin": true,
           "gridcolor": "white",
           "linecolor": "white",
           "ticks": "",
           "title": {
            "standoff": 15
           },
           "zerolinecolor": "white",
           "zerolinewidth": 2
          }
         }
        },
        "title": {
         "text": "Confusion Matrix for indústrias"
        },
        "xaxis": {
         "anchor": "y",
         "constrain": "domain",
         "domain": [
          0,
          1
         ],
         "scaleanchor": "y",
         "showticklabels": false,
         "title": {
          "text": "Predicted"
         }
        },
        "yaxis": {
         "anchor": "x",
         "autorange": "reversed",
         "constrain": "domain",
         "domain": [
          0,
          1
         ],
         "showticklabels": false,
         "title": {
          "text": "True"
         }
        }
       }
      }
     },
     "metadata": {},
     "output_type": "display_data"
    },
    {
     "data": {
      "application/vnd.plotly.v1+json": {
       "config": {
        "plotlyServerURL": "https://plot.ly"
       },
       "data": [
        {
         "coloraxis": "coloraxis",
         "hovertemplate": "Predicted: %{x}<br>True: %{y}<br>Count: %{z}<extra></extra>",
         "name": "0",
         "texttemplate": "%{z}",
         "type": "heatmap",
         "xaxis": "x",
         "yaxis": "y",
         "z": [
          [
           75,
           6
          ],
          [
           2,
           22
          ]
         ]
        }
       ],
       "layout": {
        "coloraxis": {
         "colorbar": {
          "title": {
           "text": "Count"
          }
         },
         "colorscale": [
          [
           0,
           "#440154"
          ],
          [
           0.1111111111111111,
           "#482878"
          ],
          [
           0.2222222222222222,
           "#3e4989"
          ],
          [
           0.3333333333333333,
           "#31688e"
          ],
          [
           0.4444444444444444,
           "#26828e"
          ],
          [
           0.5555555555555556,
           "#1f9e89"
          ],
          [
           0.6666666666666666,
           "#35b779"
          ],
          [
           0.7777777777777778,
           "#6ece58"
          ],
          [
           0.8888888888888888,
           "#b5de2b"
          ],
          [
           1,
           "#fde725"
          ]
         ]
        },
        "template": {
         "data": {
          "bar": [
           {
            "error_x": {
             "color": "#2a3f5f"
            },
            "error_y": {
             "color": "#2a3f5f"
            },
            "marker": {
             "line": {
              "color": "#E5ECF6",
              "width": 0.5
             },
             "pattern": {
              "fillmode": "overlay",
              "size": 10,
              "solidity": 0.2
             }
            },
            "type": "bar"
           }
          ],
          "barpolar": [
           {
            "marker": {
             "line": {
              "color": "#E5ECF6",
              "width": 0.5
             },
             "pattern": {
              "fillmode": "overlay",
              "size": 10,
              "solidity": 0.2
             }
            },
            "type": "barpolar"
           }
          ],
          "carpet": [
           {
            "aaxis": {
             "endlinecolor": "#2a3f5f",
             "gridcolor": "white",
             "linecolor": "white",
             "minorgridcolor": "white",
             "startlinecolor": "#2a3f5f"
            },
            "baxis": {
             "endlinecolor": "#2a3f5f",
             "gridcolor": "white",
             "linecolor": "white",
             "minorgridcolor": "white",
             "startlinecolor": "#2a3f5f"
            },
            "type": "carpet"
           }
          ],
          "choropleth": [
           {
            "colorbar": {
             "outlinewidth": 0,
             "ticks": ""
            },
            "type": "choropleth"
           }
          ],
          "contour": [
           {
            "colorbar": {
             "outlinewidth": 0,
             "ticks": ""
            },
            "colorscale": [
             [
              0,
              "#0d0887"
             ],
             [
              0.1111111111111111,
              "#46039f"
             ],
             [
              0.2222222222222222,
              "#7201a8"
             ],
             [
              0.3333333333333333,
              "#9c179e"
             ],
             [
              0.4444444444444444,
              "#bd3786"
             ],
             [
              0.5555555555555556,
              "#d8576b"
             ],
             [
              0.6666666666666666,
              "#ed7953"
             ],
             [
              0.7777777777777778,
              "#fb9f3a"
             ],
             [
              0.8888888888888888,
              "#fdca26"
             ],
             [
              1,
              "#f0f921"
             ]
            ],
            "type": "contour"
           }
          ],
          "contourcarpet": [
           {
            "colorbar": {
             "outlinewidth": 0,
             "ticks": ""
            },
            "type": "contourcarpet"
           }
          ],
          "heatmap": [
           {
            "colorbar": {
             "outlinewidth": 0,
             "ticks": ""
            },
            "colorscale": [
             [
              0,
              "#0d0887"
             ],
             [
              0.1111111111111111,
              "#46039f"
             ],
             [
              0.2222222222222222,
              "#7201a8"
             ],
             [
              0.3333333333333333,
              "#9c179e"
             ],
             [
              0.4444444444444444,
              "#bd3786"
             ],
             [
              0.5555555555555556,
              "#d8576b"
             ],
             [
              0.6666666666666666,
              "#ed7953"
             ],
             [
              0.7777777777777778,
              "#fb9f3a"
             ],
             [
              0.8888888888888888,
              "#fdca26"
             ],
             [
              1,
              "#f0f921"
             ]
            ],
            "type": "heatmap"
           }
          ],
          "heatmapgl": [
           {
            "colorbar": {
             "outlinewidth": 0,
             "ticks": ""
            },
            "colorscale": [
             [
              0,
              "#0d0887"
             ],
             [
              0.1111111111111111,
              "#46039f"
             ],
             [
              0.2222222222222222,
              "#7201a8"
             ],
             [
              0.3333333333333333,
              "#9c179e"
             ],
             [
              0.4444444444444444,
              "#bd3786"
             ],
             [
              0.5555555555555556,
              "#d8576b"
             ],
             [
              0.6666666666666666,
              "#ed7953"
             ],
             [
              0.7777777777777778,
              "#fb9f3a"
             ],
             [
              0.8888888888888888,
              "#fdca26"
             ],
             [
              1,
              "#f0f921"
             ]
            ],
            "type": "heatmapgl"
           }
          ],
          "histogram": [
           {
            "marker": {
             "pattern": {
              "fillmode": "overlay",
              "size": 10,
              "solidity": 0.2
             }
            },
            "type": "histogram"
           }
          ],
          "histogram2d": [
           {
            "colorbar": {
             "outlinewidth": 0,
             "ticks": ""
            },
            "colorscale": [
             [
              0,
              "#0d0887"
             ],
             [
              0.1111111111111111,
              "#46039f"
             ],
             [
              0.2222222222222222,
              "#7201a8"
             ],
             [
              0.3333333333333333,
              "#9c179e"
             ],
             [
              0.4444444444444444,
              "#bd3786"
             ],
             [
              0.5555555555555556,
              "#d8576b"
             ],
             [
              0.6666666666666666,
              "#ed7953"
             ],
             [
              0.7777777777777778,
              "#fb9f3a"
             ],
             [
              0.8888888888888888,
              "#fdca26"
             ],
             [
              1,
              "#f0f921"
             ]
            ],
            "type": "histogram2d"
           }
          ],
          "histogram2dcontour": [
           {
            "colorbar": {
             "outlinewidth": 0,
             "ticks": ""
            },
            "colorscale": [
             [
              0,
              "#0d0887"
             ],
             [
              0.1111111111111111,
              "#46039f"
             ],
             [
              0.2222222222222222,
              "#7201a8"
             ],
             [
              0.3333333333333333,
              "#9c179e"
             ],
             [
              0.4444444444444444,
              "#bd3786"
             ],
             [
              0.5555555555555556,
              "#d8576b"
             ],
             [
              0.6666666666666666,
              "#ed7953"
             ],
             [
              0.7777777777777778,
              "#fb9f3a"
             ],
             [
              0.8888888888888888,
              "#fdca26"
             ],
             [
              1,
              "#f0f921"
             ]
            ],
            "type": "histogram2dcontour"
           }
          ],
          "mesh3d": [
           {
            "colorbar": {
             "outlinewidth": 0,
             "ticks": ""
            },
            "type": "mesh3d"
           }
          ],
          "parcoords": [
           {
            "line": {
             "colorbar": {
              "outlinewidth": 0,
              "ticks": ""
             }
            },
            "type": "parcoords"
           }
          ],
          "pie": [
           {
            "automargin": true,
            "type": "pie"
           }
          ],
          "scatter": [
           {
            "fillpattern": {
             "fillmode": "overlay",
             "size": 10,
             "solidity": 0.2
            },
            "type": "scatter"
           }
          ],
          "scatter3d": [
           {
            "line": {
             "colorbar": {
              "outlinewidth": 0,
              "ticks": ""
             }
            },
            "marker": {
             "colorbar": {
              "outlinewidth": 0,
              "ticks": ""
             }
            },
            "type": "scatter3d"
           }
          ],
          "scattercarpet": [
           {
            "marker": {
             "colorbar": {
              "outlinewidth": 0,
              "ticks": ""
             }
            },
            "type": "scattercarpet"
           }
          ],
          "scattergeo": [
           {
            "marker": {
             "colorbar": {
              "outlinewidth": 0,
              "ticks": ""
             }
            },
            "type": "scattergeo"
           }
          ],
          "scattergl": [
           {
            "marker": {
             "colorbar": {
              "outlinewidth": 0,
              "ticks": ""
             }
            },
            "type": "scattergl"
           }
          ],
          "scattermapbox": [
           {
            "marker": {
             "colorbar": {
              "outlinewidth": 0,
              "ticks": ""
             }
            },
            "type": "scattermapbox"
           }
          ],
          "scatterpolar": [
           {
            "marker": {
             "colorbar": {
              "outlinewidth": 0,
              "ticks": ""
             }
            },
            "type": "scatterpolar"
           }
          ],
          "scatterpolargl": [
           {
            "marker": {
             "colorbar": {
              "outlinewidth": 0,
              "ticks": ""
             }
            },
            "type": "scatterpolargl"
           }
          ],
          "scatterternary": [
           {
            "marker": {
             "colorbar": {
              "outlinewidth": 0,
              "ticks": ""
             }
            },
            "type": "scatterternary"
           }
          ],
          "surface": [
           {
            "colorbar": {
             "outlinewidth": 0,
             "ticks": ""
            },
            "colorscale": [
             [
              0,
              "#0d0887"
             ],
             [
              0.1111111111111111,
              "#46039f"
             ],
             [
              0.2222222222222222,
              "#7201a8"
             ],
             [
              0.3333333333333333,
              "#9c179e"
             ],
             [
              0.4444444444444444,
              "#bd3786"
             ],
             [
              0.5555555555555556,
              "#d8576b"
             ],
             [
              0.6666666666666666,
              "#ed7953"
             ],
             [
              0.7777777777777778,
              "#fb9f3a"
             ],
             [
              0.8888888888888888,
              "#fdca26"
             ],
             [
              1,
              "#f0f921"
             ]
            ],
            "type": "surface"
           }
          ],
          "table": [
           {
            "cells": {
             "fill": {
              "color": "#EBF0F8"
             },
             "line": {
              "color": "white"
             }
            },
            "header": {
             "fill": {
              "color": "#C8D4E3"
             },
             "line": {
              "color": "white"
             }
            },
            "type": "table"
           }
          ]
         },
         "layout": {
          "annotationdefaults": {
           "arrowcolor": "#2a3f5f",
           "arrowhead": 0,
           "arrowwidth": 1
          },
          "autotypenumbers": "strict",
          "coloraxis": {
           "colorbar": {
            "outlinewidth": 0,
            "ticks": ""
           }
          },
          "colorscale": {
           "diverging": [
            [
             0,
             "#8e0152"
            ],
            [
             0.1,
             "#c51b7d"
            ],
            [
             0.2,
             "#de77ae"
            ],
            [
             0.3,
             "#f1b6da"
            ],
            [
             0.4,
             "#fde0ef"
            ],
            [
             0.5,
             "#f7f7f7"
            ],
            [
             0.6,
             "#e6f5d0"
            ],
            [
             0.7,
             "#b8e186"
            ],
            [
             0.8,
             "#7fbc41"
            ],
            [
             0.9,
             "#4d9221"
            ],
            [
             1,
             "#276419"
            ]
           ],
           "sequential": [
            [
             0,
             "#0d0887"
            ],
            [
             0.1111111111111111,
             "#46039f"
            ],
            [
             0.2222222222222222,
             "#7201a8"
            ],
            [
             0.3333333333333333,
             "#9c179e"
            ],
            [
             0.4444444444444444,
             "#bd3786"
            ],
            [
             0.5555555555555556,
             "#d8576b"
            ],
            [
             0.6666666666666666,
             "#ed7953"
            ],
            [
             0.7777777777777778,
             "#fb9f3a"
            ],
            [
             0.8888888888888888,
             "#fdca26"
            ],
            [
             1,
             "#f0f921"
            ]
           ],
           "sequentialminus": [
            [
             0,
             "#0d0887"
            ],
            [
             0.1111111111111111,
             "#46039f"
            ],
            [
             0.2222222222222222,
             "#7201a8"
            ],
            [
             0.3333333333333333,
             "#9c179e"
            ],
            [
             0.4444444444444444,
             "#bd3786"
            ],
            [
             0.5555555555555556,
             "#d8576b"
            ],
            [
             0.6666666666666666,
             "#ed7953"
            ],
            [
             0.7777777777777778,
             "#fb9f3a"
            ],
            [
             0.8888888888888888,
             "#fdca26"
            ],
            [
             1,
             "#f0f921"
            ]
           ]
          },
          "colorway": [
           "#636efa",
           "#EF553B",
           "#00cc96",
           "#ab63fa",
           "#FFA15A",
           "#19d3f3",
           "#FF6692",
           "#B6E880",
           "#FF97FF",
           "#FECB52"
          ],
          "font": {
           "color": "#2a3f5f"
          },
          "geo": {
           "bgcolor": "white",
           "lakecolor": "white",
           "landcolor": "#E5ECF6",
           "showlakes": true,
           "showland": true,
           "subunitcolor": "white"
          },
          "hoverlabel": {
           "align": "left"
          },
          "hovermode": "closest",
          "mapbox": {
           "style": "light"
          },
          "paper_bgcolor": "white",
          "plot_bgcolor": "#E5ECF6",
          "polar": {
           "angularaxis": {
            "gridcolor": "white",
            "linecolor": "white",
            "ticks": ""
           },
           "bgcolor": "#E5ECF6",
           "radialaxis": {
            "gridcolor": "white",
            "linecolor": "white",
            "ticks": ""
           }
          },
          "scene": {
           "xaxis": {
            "backgroundcolor": "#E5ECF6",
            "gridcolor": "white",
            "gridwidth": 2,
            "linecolor": "white",
            "showbackground": true,
            "ticks": "",
            "zerolinecolor": "white"
           },
           "yaxis": {
            "backgroundcolor": "#E5ECF6",
            "gridcolor": "white",
            "gridwidth": 2,
            "linecolor": "white",
            "showbackground": true,
            "ticks": "",
            "zerolinecolor": "white"
           },
           "zaxis": {
            "backgroundcolor": "#E5ECF6",
            "gridcolor": "white",
            "gridwidth": 2,
            "linecolor": "white",
            "showbackground": true,
            "ticks": "",
            "zerolinecolor": "white"
           }
          },
          "shapedefaults": {
           "line": {
            "color": "#2a3f5f"
           }
          },
          "ternary": {
           "aaxis": {
            "gridcolor": "white",
            "linecolor": "white",
            "ticks": ""
           },
           "baxis": {
            "gridcolor": "white",
            "linecolor": "white",
            "ticks": ""
           },
           "bgcolor": "#E5ECF6",
           "caxis": {
            "gridcolor": "white",
            "linecolor": "white",
            "ticks": ""
           }
          },
          "title": {
           "x": 0.05
          },
          "xaxis": {
           "automargin": true,
           "gridcolor": "white",
           "linecolor": "white",
           "ticks": "",
           "title": {
            "standoff": 15
           },
           "zerolinecolor": "white",
           "zerolinewidth": 2
          },
          "yaxis": {
           "automargin": true,
           "gridcolor": "white",
           "linecolor": "white",
           "ticks": "",
           "title": {
            "standoff": 15
           },
           "zerolinecolor": "white",
           "zerolinewidth": 2
          }
         }
        },
        "title": {
         "text": "Confusion Matrix for orgão público"
        },
        "xaxis": {
         "anchor": "y",
         "constrain": "domain",
         "domain": [
          0,
          1
         ],
         "scaleanchor": "y",
         "showticklabels": false,
         "title": {
          "text": "Predicted"
         }
        },
        "yaxis": {
         "anchor": "x",
         "autorange": "reversed",
         "constrain": "domain",
         "domain": [
          0,
          1
         ],
         "showticklabels": false,
         "title": {
          "text": "True"
         }
        }
       }
      }
     },
     "metadata": {},
     "output_type": "display_data"
    },
    {
     "data": {
      "application/vnd.plotly.v1+json": {
       "config": {
        "plotlyServerURL": "https://plot.ly"
       },
       "data": [
        {
         "coloraxis": "coloraxis",
         "hovertemplate": "Predicted: %{x}<br>True: %{y}<br>Count: %{z}<extra></extra>",
         "name": "0",
         "texttemplate": "%{z}",
         "type": "heatmap",
         "xaxis": "x",
         "yaxis": "y",
         "z": [
          [
           74,
           4
          ],
          [
           10,
           17
          ]
         ]
        }
       ],
       "layout": {
        "coloraxis": {
         "colorbar": {
          "title": {
           "text": "Count"
          }
         },
         "colorscale": [
          [
           0,
           "#440154"
          ],
          [
           0.1111111111111111,
           "#482878"
          ],
          [
           0.2222222222222222,
           "#3e4989"
          ],
          [
           0.3333333333333333,
           "#31688e"
          ],
          [
           0.4444444444444444,
           "#26828e"
          ],
          [
           0.5555555555555556,
           "#1f9e89"
          ],
          [
           0.6666666666666666,
           "#35b779"
          ],
          [
           0.7777777777777778,
           "#6ece58"
          ],
          [
           0.8888888888888888,
           "#b5de2b"
          ],
          [
           1,
           "#fde725"
          ]
         ]
        },
        "template": {
         "data": {
          "bar": [
           {
            "error_x": {
             "color": "#2a3f5f"
            },
            "error_y": {
             "color": "#2a3f5f"
            },
            "marker": {
             "line": {
              "color": "#E5ECF6",
              "width": 0.5
             },
             "pattern": {
              "fillmode": "overlay",
              "size": 10,
              "solidity": 0.2
             }
            },
            "type": "bar"
           }
          ],
          "barpolar": [
           {
            "marker": {
             "line": {
              "color": "#E5ECF6",
              "width": 0.5
             },
             "pattern": {
              "fillmode": "overlay",
              "size": 10,
              "solidity": 0.2
             }
            },
            "type": "barpolar"
           }
          ],
          "carpet": [
           {
            "aaxis": {
             "endlinecolor": "#2a3f5f",
             "gridcolor": "white",
             "linecolor": "white",
             "minorgridcolor": "white",
             "startlinecolor": "#2a3f5f"
            },
            "baxis": {
             "endlinecolor": "#2a3f5f",
             "gridcolor": "white",
             "linecolor": "white",
             "minorgridcolor": "white",
             "startlinecolor": "#2a3f5f"
            },
            "type": "carpet"
           }
          ],
          "choropleth": [
           {
            "colorbar": {
             "outlinewidth": 0,
             "ticks": ""
            },
            "type": "choropleth"
           }
          ],
          "contour": [
           {
            "colorbar": {
             "outlinewidth": 0,
             "ticks": ""
            },
            "colorscale": [
             [
              0,
              "#0d0887"
             ],
             [
              0.1111111111111111,
              "#46039f"
             ],
             [
              0.2222222222222222,
              "#7201a8"
             ],
             [
              0.3333333333333333,
              "#9c179e"
             ],
             [
              0.4444444444444444,
              "#bd3786"
             ],
             [
              0.5555555555555556,
              "#d8576b"
             ],
             [
              0.6666666666666666,
              "#ed7953"
             ],
             [
              0.7777777777777778,
              "#fb9f3a"
             ],
             [
              0.8888888888888888,
              "#fdca26"
             ],
             [
              1,
              "#f0f921"
             ]
            ],
            "type": "contour"
           }
          ],
          "contourcarpet": [
           {
            "colorbar": {
             "outlinewidth": 0,
             "ticks": ""
            },
            "type": "contourcarpet"
           }
          ],
          "heatmap": [
           {
            "colorbar": {
             "outlinewidth": 0,
             "ticks": ""
            },
            "colorscale": [
             [
              0,
              "#0d0887"
             ],
             [
              0.1111111111111111,
              "#46039f"
             ],
             [
              0.2222222222222222,
              "#7201a8"
             ],
             [
              0.3333333333333333,
              "#9c179e"
             ],
             [
              0.4444444444444444,
              "#bd3786"
             ],
             [
              0.5555555555555556,
              "#d8576b"
             ],
             [
              0.6666666666666666,
              "#ed7953"
             ],
             [
              0.7777777777777778,
              "#fb9f3a"
             ],
             [
              0.8888888888888888,
              "#fdca26"
             ],
             [
              1,
              "#f0f921"
             ]
            ],
            "type": "heatmap"
           }
          ],
          "heatmapgl": [
           {
            "colorbar": {
             "outlinewidth": 0,
             "ticks": ""
            },
            "colorscale": [
             [
              0,
              "#0d0887"
             ],
             [
              0.1111111111111111,
              "#46039f"
             ],
             [
              0.2222222222222222,
              "#7201a8"
             ],
             [
              0.3333333333333333,
              "#9c179e"
             ],
             [
              0.4444444444444444,
              "#bd3786"
             ],
             [
              0.5555555555555556,
              "#d8576b"
             ],
             [
              0.6666666666666666,
              "#ed7953"
             ],
             [
              0.7777777777777778,
              "#fb9f3a"
             ],
             [
              0.8888888888888888,
              "#fdca26"
             ],
             [
              1,
              "#f0f921"
             ]
            ],
            "type": "heatmapgl"
           }
          ],
          "histogram": [
           {
            "marker": {
             "pattern": {
              "fillmode": "overlay",
              "size": 10,
              "solidity": 0.2
             }
            },
            "type": "histogram"
           }
          ],
          "histogram2d": [
           {
            "colorbar": {
             "outlinewidth": 0,
             "ticks": ""
            },
            "colorscale": [
             [
              0,
              "#0d0887"
             ],
             [
              0.1111111111111111,
              "#46039f"
             ],
             [
              0.2222222222222222,
              "#7201a8"
             ],
             [
              0.3333333333333333,
              "#9c179e"
             ],
             [
              0.4444444444444444,
              "#bd3786"
             ],
             [
              0.5555555555555556,
              "#d8576b"
             ],
             [
              0.6666666666666666,
              "#ed7953"
             ],
             [
              0.7777777777777778,
              "#fb9f3a"
             ],
             [
              0.8888888888888888,
              "#fdca26"
             ],
             [
              1,
              "#f0f921"
             ]
            ],
            "type": "histogram2d"
           }
          ],
          "histogram2dcontour": [
           {
            "colorbar": {
             "outlinewidth": 0,
             "ticks": ""
            },
            "colorscale": [
             [
              0,
              "#0d0887"
             ],
             [
              0.1111111111111111,
              "#46039f"
             ],
             [
              0.2222222222222222,
              "#7201a8"
             ],
             [
              0.3333333333333333,
              "#9c179e"
             ],
             [
              0.4444444444444444,
              "#bd3786"
             ],
             [
              0.5555555555555556,
              "#d8576b"
             ],
             [
              0.6666666666666666,
              "#ed7953"
             ],
             [
              0.7777777777777778,
              "#fb9f3a"
             ],
             [
              0.8888888888888888,
              "#fdca26"
             ],
             [
              1,
              "#f0f921"
             ]
            ],
            "type": "histogram2dcontour"
           }
          ],
          "mesh3d": [
           {
            "colorbar": {
             "outlinewidth": 0,
             "ticks": ""
            },
            "type": "mesh3d"
           }
          ],
          "parcoords": [
           {
            "line": {
             "colorbar": {
              "outlinewidth": 0,
              "ticks": ""
             }
            },
            "type": "parcoords"
           }
          ],
          "pie": [
           {
            "automargin": true,
            "type": "pie"
           }
          ],
          "scatter": [
           {
            "fillpattern": {
             "fillmode": "overlay",
             "size": 10,
             "solidity": 0.2
            },
            "type": "scatter"
           }
          ],
          "scatter3d": [
           {
            "line": {
             "colorbar": {
              "outlinewidth": 0,
              "ticks": ""
             }
            },
            "marker": {
             "colorbar": {
              "outlinewidth": 0,
              "ticks": ""
             }
            },
            "type": "scatter3d"
           }
          ],
          "scattercarpet": [
           {
            "marker": {
             "colorbar": {
              "outlinewidth": 0,
              "ticks": ""
             }
            },
            "type": "scattercarpet"
           }
          ],
          "scattergeo": [
           {
            "marker": {
             "colorbar": {
              "outlinewidth": 0,
              "ticks": ""
             }
            },
            "type": "scattergeo"
           }
          ],
          "scattergl": [
           {
            "marker": {
             "colorbar": {
              "outlinewidth": 0,
              "ticks": ""
             }
            },
            "type": "scattergl"
           }
          ],
          "scattermapbox": [
           {
            "marker": {
             "colorbar": {
              "outlinewidth": 0,
              "ticks": ""
             }
            },
            "type": "scattermapbox"
           }
          ],
          "scatterpolar": [
           {
            "marker": {
             "colorbar": {
              "outlinewidth": 0,
              "ticks": ""
             }
            },
            "type": "scatterpolar"
           }
          ],
          "scatterpolargl": [
           {
            "marker": {
             "colorbar": {
              "outlinewidth": 0,
              "ticks": ""
             }
            },
            "type": "scatterpolargl"
           }
          ],
          "scatterternary": [
           {
            "marker": {
             "colorbar": {
              "outlinewidth": 0,
              "ticks": ""
             }
            },
            "type": "scatterternary"
           }
          ],
          "surface": [
           {
            "colorbar": {
             "outlinewidth": 0,
             "ticks": ""
            },
            "colorscale": [
             [
              0,
              "#0d0887"
             ],
             [
              0.1111111111111111,
              "#46039f"
             ],
             [
              0.2222222222222222,
              "#7201a8"
             ],
             [
              0.3333333333333333,
              "#9c179e"
             ],
             [
              0.4444444444444444,
              "#bd3786"
             ],
             [
              0.5555555555555556,
              "#d8576b"
             ],
             [
              0.6666666666666666,
              "#ed7953"
             ],
             [
              0.7777777777777778,
              "#fb9f3a"
             ],
             [
              0.8888888888888888,
              "#fdca26"
             ],
             [
              1,
              "#f0f921"
             ]
            ],
            "type": "surface"
           }
          ],
          "table": [
           {
            "cells": {
             "fill": {
              "color": "#EBF0F8"
             },
             "line": {
              "color": "white"
             }
            },
            "header": {
             "fill": {
              "color": "#C8D4E3"
             },
             "line": {
              "color": "white"
             }
            },
            "type": "table"
           }
          ]
         },
         "layout": {
          "annotationdefaults": {
           "arrowcolor": "#2a3f5f",
           "arrowhead": 0,
           "arrowwidth": 1
          },
          "autotypenumbers": "strict",
          "coloraxis": {
           "colorbar": {
            "outlinewidth": 0,
            "ticks": ""
           }
          },
          "colorscale": {
           "diverging": [
            [
             0,
             "#8e0152"
            ],
            [
             0.1,
             "#c51b7d"
            ],
            [
             0.2,
             "#de77ae"
            ],
            [
             0.3,
             "#f1b6da"
            ],
            [
             0.4,
             "#fde0ef"
            ],
            [
             0.5,
             "#f7f7f7"
            ],
            [
             0.6,
             "#e6f5d0"
            ],
            [
             0.7,
             "#b8e186"
            ],
            [
             0.8,
             "#7fbc41"
            ],
            [
             0.9,
             "#4d9221"
            ],
            [
             1,
             "#276419"
            ]
           ],
           "sequential": [
            [
             0,
             "#0d0887"
            ],
            [
             0.1111111111111111,
             "#46039f"
            ],
            [
             0.2222222222222222,
             "#7201a8"
            ],
            [
             0.3333333333333333,
             "#9c179e"
            ],
            [
             0.4444444444444444,
             "#bd3786"
            ],
            [
             0.5555555555555556,
             "#d8576b"
            ],
            [
             0.6666666666666666,
             "#ed7953"
            ],
            [
             0.7777777777777778,
             "#fb9f3a"
            ],
            [
             0.8888888888888888,
             "#fdca26"
            ],
            [
             1,
             "#f0f921"
            ]
           ],
           "sequentialminus": [
            [
             0,
             "#0d0887"
            ],
            [
             0.1111111111111111,
             "#46039f"
            ],
            [
             0.2222222222222222,
             "#7201a8"
            ],
            [
             0.3333333333333333,
             "#9c179e"
            ],
            [
             0.4444444444444444,
             "#bd3786"
            ],
            [
             0.5555555555555556,
             "#d8576b"
            ],
            [
             0.6666666666666666,
             "#ed7953"
            ],
            [
             0.7777777777777778,
             "#fb9f3a"
            ],
            [
             0.8888888888888888,
             "#fdca26"
            ],
            [
             1,
             "#f0f921"
            ]
           ]
          },
          "colorway": [
           "#636efa",
           "#EF553B",
           "#00cc96",
           "#ab63fa",
           "#FFA15A",
           "#19d3f3",
           "#FF6692",
           "#B6E880",
           "#FF97FF",
           "#FECB52"
          ],
          "font": {
           "color": "#2a3f5f"
          },
          "geo": {
           "bgcolor": "white",
           "lakecolor": "white",
           "landcolor": "#E5ECF6",
           "showlakes": true,
           "showland": true,
           "subunitcolor": "white"
          },
          "hoverlabel": {
           "align": "left"
          },
          "hovermode": "closest",
          "mapbox": {
           "style": "light"
          },
          "paper_bgcolor": "white",
          "plot_bgcolor": "#E5ECF6",
          "polar": {
           "angularaxis": {
            "gridcolor": "white",
            "linecolor": "white",
            "ticks": ""
           },
           "bgcolor": "#E5ECF6",
           "radialaxis": {
            "gridcolor": "white",
            "linecolor": "white",
            "ticks": ""
           }
          },
          "scene": {
           "xaxis": {
            "backgroundcolor": "#E5ECF6",
            "gridcolor": "white",
            "gridwidth": 2,
            "linecolor": "white",
            "showbackground": true,
            "ticks": "",
            "zerolinecolor": "white"
           },
           "yaxis": {
            "backgroundcolor": "#E5ECF6",
            "gridcolor": "white",
            "gridwidth": 2,
            "linecolor": "white",
            "showbackground": true,
            "ticks": "",
            "zerolinecolor": "white"
           },
           "zaxis": {
            "backgroundcolor": "#E5ECF6",
            "gridcolor": "white",
            "gridwidth": 2,
            "linecolor": "white",
            "showbackground": true,
            "ticks": "",
            "zerolinecolor": "white"
           }
          },
          "shapedefaults": {
           "line": {
            "color": "#2a3f5f"
           }
          },
          "ternary": {
           "aaxis": {
            "gridcolor": "white",
            "linecolor": "white",
            "ticks": ""
           },
           "baxis": {
            "gridcolor": "white",
            "linecolor": "white",
            "ticks": ""
           },
           "bgcolor": "#E5ECF6",
           "caxis": {
            "gridcolor": "white",
            "linecolor": "white",
            "ticks": ""
           }
          },
          "title": {
           "x": 0.05
          },
          "xaxis": {
           "automargin": true,
           "gridcolor": "white",
           "linecolor": "white",
           "ticks": "",
           "title": {
            "standoff": 15
           },
           "zerolinecolor": "white",
           "zerolinewidth": 2
          },
          "yaxis": {
           "automargin": true,
           "gridcolor": "white",
           "linecolor": "white",
           "ticks": "",
           "title": {
            "standoff": 15
           },
           "zerolinecolor": "white",
           "zerolinewidth": 2
          }
         }
        },
        "title": {
         "text": "Confusion Matrix for varejo"
        },
        "xaxis": {
         "anchor": "y",
         "constrain": "domain",
         "domain": [
          0,
          1
         ],
         "scaleanchor": "y",
         "showticklabels": false,
         "title": {
          "text": "Predicted"
         }
        },
        "yaxis": {
         "anchor": "x",
         "autorange": "reversed",
         "constrain": "domain",
         "domain": [
          0,
          1
         ],
         "showticklabels": false,
         "title": {
          "text": "True"
         }
        }
       }
      }
     },
     "metadata": {},
     "output_type": "display_data"
    }
   ],
   "source": [
    "from sklearn.metrics import confusion_matrix, ConfusionMatrixDisplay\n",
    "\n",
    "for i, label in enumerate(labels):\n",
    "\tpx.imshow(\n",
    "\t\tconfusion_matrix(y_test[:, i], y_pred_test[:, i]),\n",
    "\t\ttext_auto=True,\n",
    "\t\tcolor_continuous_scale='viridis',\n",
    "\t\tlabels=dict(x='Predicted', y='True', color='Count'),\n",
    "\t\ttitle=f'Confusion Matrix for {label}'\n",
    "\t).update_layout(\n",
    "\t\txaxis_showticklabels=False,\n",
    "\t\tyaxis_showticklabels=False,\n",
    "\t).show()"
   ]
  },
  {
   "cell_type": "markdown",
   "id": "ea15a4fd",
   "metadata": {
    "heading_collapsed": true,
    "hidden": true
   },
   "source": [
    "#### Feature importance"
   ]
  },
  {
   "cell_type": "code",
   "execution_count": 22,
   "id": "9ea0882b",
   "metadata": {
    "ExecuteTime": {
     "end_time": "2022-09-26T02:05:18.043312Z",
     "start_time": "2022-09-26T02:05:17.995475Z"
    },
    "hidden": true
   },
   "outputs": [
    {
     "data": {
      "text/html": [
       "<div>\n",
       "<style scoped>\n",
       "    .dataframe tbody tr th:only-of-type {\n",
       "        vertical-align: middle;\n",
       "    }\n",
       "\n",
       "    .dataframe tbody tr th {\n",
       "        vertical-align: top;\n",
       "    }\n",
       "\n",
       "    .dataframe thead th {\n",
       "        text-align: right;\n",
       "    }\n",
       "</style>\n",
       "<table border=\"1\" class=\"dataframe\">\n",
       "  <thead>\n",
       "    <tr style=\"text-align: right;\">\n",
       "      <th></th>\n",
       "      <th>educação</th>\n",
       "      <th>educação,finanças</th>\n",
       "      <th>educação,indústrias</th>\n",
       "      <th>educação,orgão público</th>\n",
       "      <th>finanças</th>\n",
       "      <th>finanças,indústrias</th>\n",
       "      <th>finanças,orgão público</th>\n",
       "      <th>finanças,varejo</th>\n",
       "      <th>indústrias</th>\n",
       "      <th>indústrias,orgão público</th>\n",
       "      <th>indústrias,varejo</th>\n",
       "      <th>orgão público</th>\n",
       "      <th>varejo</th>\n",
       "    </tr>\n",
       "    <tr>\n",
       "      <th>ranking</th>\n",
       "      <th></th>\n",
       "      <th></th>\n",
       "      <th></th>\n",
       "      <th></th>\n",
       "      <th></th>\n",
       "      <th></th>\n",
       "      <th></th>\n",
       "      <th></th>\n",
       "      <th></th>\n",
       "      <th></th>\n",
       "      <th></th>\n",
       "      <th></th>\n",
       "      <th></th>\n",
       "    </tr>\n",
       "  </thead>\n",
       "  <tbody>\n",
       "    <tr>\n",
       "      <th>1</th>\n",
       "      <td>horas</td>\n",
       "      <td>seguranca</td>\n",
       "      <td>480</td>\n",
       "      <td>estudantes</td>\n",
       "      <td>mes</td>\n",
       "      <td>gama</td>\n",
       "      <td>financeiras</td>\n",
       "      <td>consegue</td>\n",
       "      <td>carros</td>\n",
       "      <td>design</td>\n",
       "      <td>concessionarias</td>\n",
       "      <td>emissao</td>\n",
       "      <td>encontre</td>\n",
       "    </tr>\n",
       "    <tr>\n",
       "      <th>2</th>\n",
       "      <td>graduacao</td>\n",
       "      <td>trabalho</td>\n",
       "      <td>24x</td>\n",
       "      <td>prefeitura</td>\n",
       "      <td>banco</td>\n",
       "      <td>bilhao</td>\n",
       "      <td>des</td>\n",
       "      <td>12x</td>\n",
       "      <td>tracker</td>\n",
       "      <td>civil</td>\n",
       "      <td>adquira</td>\n",
       "      <td>direito</td>\n",
       "      <td>compre</td>\n",
       "    </tr>\n",
       "    <tr>\n",
       "      <th>3</th>\n",
       "      <td>aula</td>\n",
       "      <td>tecnico</td>\n",
       "      <td>producao</td>\n",
       "      <td>processo</td>\n",
       "      <td>conta</td>\n",
       "      <td>renovacao</td>\n",
       "      <td>instituicoes</td>\n",
       "      <td>unidades</td>\n",
       "      <td>seguranca</td>\n",
       "      <td>construcao</td>\n",
       "      <td>explore</td>\n",
       "      <td>nacional</td>\n",
       "      <td>escolha</td>\n",
       "    </tr>\n",
       "    <tr>\n",
       "      <th>4</th>\n",
       "      <td>estudos</td>\n",
       "      <td>03</td>\n",
       "      <td>aprendizagem</td>\n",
       "      <td>inscricoes</td>\n",
       "      <td>itau</td>\n",
       "      <td>pague</td>\n",
       "      <td>if</td>\n",
       "      <td>89</td>\n",
       "      <td>logistica</td>\n",
       "      <td>brasil</td>\n",
       "      <td>buscar</td>\n",
       "      <td>lei</td>\n",
       "      <td>pacote</td>\n",
       "    </tr>\n",
       "    <tr>\n",
       "      <th>5</th>\n",
       "      <td>lingua</td>\n",
       "      <td>32x</td>\n",
       "      <td>assistente</td>\n",
       "      <td>municipal</td>\n",
       "      <td>valor</td>\n",
       "      <td>parcela</td>\n",
       "      <td>imposto</td>\n",
       "      <td>29</td>\n",
       "      <td>onix</td>\n",
       "      <td>trabalhadores</td>\n",
       "      <td>combina</td>\n",
       "      <td>justica</td>\n",
       "      <td>90</td>\n",
       "    </tr>\n",
       "  </tbody>\n",
       "</table>\n",
       "</div>"
      ],
      "text/plain": [
       "          educação educação,finanças educação,indústrias  \\\n",
       "ranking                                                    \n",
       "1            horas         seguranca                 480   \n",
       "2        graduacao          trabalho                 24x   \n",
       "3             aula           tecnico            producao   \n",
       "4          estudos                03        aprendizagem   \n",
       "5           lingua               32x          assistente   \n",
       "\n",
       "        educação,orgão público finanças finanças,indústrias  \\\n",
       "ranking                                                       \n",
       "1                   estudantes      mes                gama   \n",
       "2                   prefeitura    banco              bilhao   \n",
       "3                     processo    conta           renovacao   \n",
       "4                   inscricoes     itau               pague   \n",
       "5                    municipal    valor             parcela   \n",
       "\n",
       "        finanças,orgão público finanças,varejo indústrias  \\\n",
       "ranking                                                     \n",
       "1                  financeiras        consegue     carros   \n",
       "2                          des             12x    tracker   \n",
       "3                 instituicoes        unidades  seguranca   \n",
       "4                           if              89  logistica   \n",
       "5                      imposto              29       onix   \n",
       "\n",
       "        indústrias,orgão público indústrias,varejo orgão público    varejo  \n",
       "ranking                                                                     \n",
       "1                         design   concessionarias       emissao  encontre  \n",
       "2                          civil           adquira       direito    compre  \n",
       "3                     construcao           explore      nacional   escolha  \n",
       "4                         brasil            buscar           lei    pacote  \n",
       "5                  trabalhadores           combina       justica        90  "
      ]
     },
     "execution_count": 22,
     "metadata": {},
     "output_type": "execute_result"
    }
   ],
   "source": [
    "# Create a map for each label\n",
    "labels_mapping = {\n",
    "    '0' : 'educação',\n",
    "    '1' : 'finanças',\n",
    "    '2' : 'indústrias',\n",
    "    '3' : 'orgão público',\n",
    "    '4' : 'varejo',\n",
    "}\n",
    "# Get classifier from pipeline\n",
    "clf = baseline_pipeline[1]\n",
    "# Extract combination labels\n",
    "comb_labels = list(clf.unique_combinations_.keys())\n",
    "# Get features names\n",
    "feature_names = tfidf_vec.get_feature_names_out()\n",
    "# Create feature dictionary\n",
    "feature_importance = pd.DataFrame({'ranking':list(range(1,11))})\n",
    "for i, class_label in enumerate(comb_labels):\n",
    "    # Get index for the top probs\n",
    "    top_n_features = np.argsort(clf.classifier.feature_log_prob_[i])[-10:]\n",
    "    # Rename label or combination of labels\n",
    "    if len(class_label) > 1:\n",
    "        class_label = ','.join(labels_mapping[j] for j in class_label.split(','))\n",
    "    else:\n",
    "        class_label = labels_mapping[class_label]\n",
    "    # Add observation to dataframe\n",
    "    feature_importance[class_label] = [feature_names[j] for j in top_n_features]\n",
    "# Set ranking to index\n",
    "feature_importance.set_index('ranking', inplace=True)\n",
    "# Sort columns\n",
    "feature_importance.sort_index(axis=1, inplace=True)\n",
    "\n",
    "feature_importance.head()"
   ]
  },
  {
   "cell_type": "markdown",
   "id": "27616d9e",
   "metadata": {
    "heading_collapsed": true,
    "hidden": true
   },
   "source": [
    "#### Ranking metrics for Multilabel"
   ]
  },
  {
   "cell_type": "code",
   "execution_count": 23,
   "id": "0fb3c35d",
   "metadata": {
    "ExecuteTime": {
     "end_time": "2022-09-26T02:05:18.319503Z",
     "start_time": "2022-09-26T02:05:18.055003Z"
    },
    "hidden": true
   },
   "outputs": [
    {
     "data": {
      "text/html": [
       "<div>\n",
       "<style scoped>\n",
       "    .dataframe tbody tr th:only-of-type {\n",
       "        vertical-align: middle;\n",
       "    }\n",
       "\n",
       "    .dataframe tbody tr th {\n",
       "        vertical-align: top;\n",
       "    }\n",
       "\n",
       "    .dataframe thead th {\n",
       "        text-align: right;\n",
       "    }\n",
       "</style>\n",
       "<table border=\"1\" class=\"dataframe\">\n",
       "  <thead>\n",
       "    <tr style=\"text-align: right;\">\n",
       "      <th></th>\n",
       "      <th>Train dataset</th>\n",
       "      <th>Test dataset</th>\n",
       "    </tr>\n",
       "  </thead>\n",
       "  <tbody>\n",
       "    <tr>\n",
       "      <th>Coverage error</th>\n",
       "      <td>1.221154</td>\n",
       "      <td>1.714286</td>\n",
       "    </tr>\n",
       "    <tr>\n",
       "      <th>LRAP</th>\n",
       "      <td>0.971274</td>\n",
       "      <td>0.812381</td>\n",
       "    </tr>\n",
       "    <tr>\n",
       "      <th>Label ranking loss</th>\n",
       "      <td>0.027444</td>\n",
       "      <td>0.149206</td>\n",
       "    </tr>\n",
       "    <tr>\n",
       "      <th>NDCG</th>\n",
       "      <td>0.981371</td>\n",
       "      <td>0.862186</td>\n",
       "    </tr>\n",
       "  </tbody>\n",
       "</table>\n",
       "</div>"
      ],
      "text/plain": [
       "                    Train dataset  Test dataset\n",
       "Coverage error           1.221154      1.714286\n",
       "LRAP                     0.971274      0.812381\n",
       "Label ranking loss       0.027444      0.149206\n",
       "NDCG                     0.981371      0.862186"
      ]
     },
     "execution_count": 23,
     "metadata": {},
     "output_type": "execute_result"
    }
   ],
   "source": [
    "from sklearn.metrics import coverage_error, label_ranking_average_precision_score, label_ranking_loss, ndcg_score\n",
    "\n",
    "pd.DataFrame({\n",
    "    'Coverage error' : [\n",
    "        coverage_error(y_train, y_proba_train),\n",
    "        coverage_error(y_test, y_proba_test),\n",
    "    ],\n",
    "    'LRAP' : [\n",
    "        label_ranking_average_precision_score(y_train, y_proba_train),\n",
    "        label_ranking_average_precision_score(y_test, y_proba_test),\n",
    "    ],\n",
    "    'Label ranking loss' : [\n",
    "        label_ranking_loss(y_train, y_proba_train),\n",
    "        label_ranking_loss(y_test, y_proba_test),\n",
    "    ],\n",
    "    'NDCG' : [\n",
    "        ndcg_score(y_train, y_proba_train),\n",
    "        ndcg_score(y_test, y_proba_test),\n",
    "    ],\n",
    "}, index=['Train dataset', 'Test dataset']).T"
   ]
  },
  {
   "cell_type": "markdown",
   "id": "45847740",
   "metadata": {},
   "source": [
    "# Second cycle: testing other estimators"
   ]
  },
  {
   "cell_type": "markdown",
   "id": "e336596b",
   "metadata": {},
   "source": [
    "## Decision Tree"
   ]
  },
  {
   "cell_type": "code",
   "execution_count": 24,
   "id": "48adb12e",
   "metadata": {
    "ExecuteTime": {
     "end_time": "2022-09-26T02:05:18.544550Z",
     "start_time": "2022-09-26T02:05:18.329105Z"
    }
   },
   "outputs": [
    {
     "name": "stdout",
     "output_type": "stream",
     "text": [
      "Estimator: DecisionTreeClassifier\n",
      "\n",
      "\u001b[36mAverage accuracy score\u001b[39m\n",
      "Train dataset: 100.00%\n",
      "Test dataset:  60.00%\n",
      "\n",
      "\u001b[36mHamming loss average\u001b[39m\n",
      "Train dataset: 0.00\n",
      "Test datasets:  0.15\n",
      "\n",
      "\u001b[36mCross validation score\u001b[39m\n",
      "F1 weighted: 0.60\n"
     ]
    }
   ],
   "source": [
    "from sklearn.tree import DecisionTreeClassifier\n",
    "\n",
    "dt_clf = DecisionTreeClassifier(random_state=42)\n",
    "\n",
    "dt_pipeline = run_pipeline(X, y, tfidf_vec, dt_clf)"
   ]
  },
  {
   "cell_type": "code",
   "execution_count": 25,
   "id": "ddb4340b",
   "metadata": {},
   "outputs": [
    {
     "data": {
      "text/plain": [
       "['models/decision_tree.joblib']"
      ]
     },
     "execution_count": 25,
     "metadata": {},
     "output_type": "execute_result"
    }
   ],
   "source": [
    "# Save Decision Tree model\n",
    "joblib.dump(dt_pipeline, 'models/decision_tree.joblib')"
   ]
  },
  {
   "cell_type": "code",
   "execution_count": 73,
   "id": "f93e7673",
   "metadata": {
    "ExecuteTime": {
     "end_time": "2022-09-26T02:05:20.359009Z",
     "start_time": "2022-09-26T02:05:18.560154Z"
    }
   },
   "outputs": [],
   "source": [
    "import graphviz\n",
    "from sklearn.tree import export_graphviz\n",
    "\n",
    "dot_data = export_graphviz(\n",
    "    dt_pipeline[1], out_file=None, \n",
    "    #feature_names=dt_pipeline[0].get_feature_names_out(),  \n",
    "    class_names=labels,  \n",
    "    filled=True, rounded=True,  \n",
    "    special_characters=True)  \n",
    "\n",
    "#graphviz.Source(dot_data)"
   ]
  },
  {
   "cell_type": "markdown",
   "id": "f13429a2",
   "metadata": {
    "heading_collapsed": true
   },
   "source": [
    "## Random Forest"
   ]
  },
  {
   "cell_type": "markdown",
   "id": "23856715",
   "metadata": {
    "hidden": true
   },
   "source": [
    "The [`RandomForestClassifier`](#https://scikit-learn.org/stable/modules/generated/sklearn.ensemble.RandomForestClassifier.html) uses the concept of *Bagging*(Bootsrap Aggregating) to generate random independent trees and make the final prediction throught the average of each individual prediction.  \n",
    "  \n",
    "This approach tends to remove some erros and outliers, making a model more generic an stable to overfitting. \n",
    "Also since it can handle multilabel problems, it's not necessary to wrap in any meta classifier. Although it's possible, doing so has a large chance of overfitting the model.  \n",
    "The most important parameters are:  \n",
    "- `n_estimators`: how many trees will be build. More trees will take a longer time to finish, and starts to loses its individual properties.  \n",
    "- `max_features`: number of features in the random sample to be used in each split. Less imply to reduce overfitting, but can lead to underfitting.\n"
   ]
  },
  {
   "cell_type": "code",
   "execution_count": 26,
   "id": "23791556",
   "metadata": {
    "ExecuteTime": {
     "end_time": "2022-09-26T02:05:20.370711Z",
     "start_time": "2022-09-26T02:05:20.370662Z"
    },
    "hidden": true
   },
   "outputs": [
    {
     "name": "stdout",
     "output_type": "stream",
     "text": [
      "Estimator: RandomForestClassifier\n",
      "\n",
      "\u001b[36mAverage accuracy score\u001b[39m\n",
      "Train dataset: 100.00%\n",
      "Test dataset:  50.48%\n",
      "\n",
      "\u001b[36mHamming loss average\u001b[39m\n",
      "Train dataset: 0.00\n",
      "Test datasets:  0.14\n",
      "\n",
      "\u001b[36mCross validation score\u001b[39m\n",
      "F1 weighted: 0.60\n"
     ]
    }
   ],
   "source": [
    "from sklearn.ensemble import RandomForestClassifier\n",
    "\n",
    "rf_clf = RandomForestClassifier()\n",
    "\n",
    "rf_pipeline = run_pipeline(X, y, tfidf_vec, rf_clf)"
   ]
  },
  {
   "cell_type": "code",
   "execution_count": 27,
   "id": "71e735c9",
   "metadata": {},
   "outputs": [
    {
     "data": {
      "text/plain": [
       "['models/random_forest.joblib']"
      ]
     },
     "execution_count": 27,
     "metadata": {},
     "output_type": "execute_result"
    }
   ],
   "source": [
    "# Save Random Forest model\n",
    "joblib.dump(rf_pipeline, 'models/random_forest.joblib')"
   ]
  },
  {
   "cell_type": "markdown",
   "id": "f821960b",
   "metadata": {
    "hidden": true
   },
   "source": [
    "## Support Vector Machine"
   ]
  },
  {
   "cell_type": "code",
   "execution_count": null,
   "id": "1c3f2545",
   "metadata": {
    "hidden": true
   },
   "outputs": [],
   "source": []
  },
  {
   "cell_type": "markdown",
   "id": "9ec49761",
   "metadata": {
    "hidden": true
   },
   "source": [
    "## XGBoost"
   ]
  },
  {
   "cell_type": "code",
   "execution_count": null,
   "id": "448e43a9",
   "metadata": {},
   "outputs": [],
   "source": [
    "from xgboost import XGBClassifier\n",
    "\n",
    "# Create a pipeline with the classifier\n",
    "xgb_pipeline = Pipeline([\n",
    "\t('tfidf', TfidfVectorizer(\n",
    "\t\tstrip_accents='unicode',\n",
    "\t\tstop_words=pt_stopwords,\n",
    "\t)),\n",
    "\t('clf', XGBClassifier(\n",
    "\t\tuse_label_encoder=False,\n",
    "\t\trandom_state=42\n",
    "\t))\n",
    "]).fit(X_train, y_train)"
   ]
  },
  {
   "cell_type": "markdown",
   "id": "7035f11e",
   "metadata": {},
   "source": [
    "# Third cycle: hyper-parameter tunning"
   ]
  },
  {
   "cell_type": "markdown",
   "id": "2bf00a14",
   "metadata": {},
   "source": [
    "## Optmized search with `hyperopt` "
   ]
  },
  {
   "cell_type": "code",
   "execution_count": 34,
   "id": "2b8ec400",
   "metadata": {},
   "outputs": [
    {
     "name": "stderr",
     "output_type": "stream",
     "text": [
      "Hyperopt:   0%|          | 0/30 [01:52<?, ?it/s]\n",
      "Hyperopt: 100%|██████████| 30/30 [03:27<00:00,  6.91s/it]\n"
     ]
    },
    {
     "name": "stdout",
     "output_type": "stream",
     "text": [
      "{'bootstrap': False, 'class_weight': 'balanced', 'criterion': 'entropy', 'max_depth': 169, 'max_features': 'sqrt', 'min_samples_leaf': 1, 'min_samples_split': 0.2355470696890487, 'n_estimators': 985}\n",
      "Estimator: RandomForestClassifier\n",
      "\n",
      "\u001b[36mAverage accuracy score\u001b[39m\n",
      "Train dataset: 89.18%\n",
      "Test dataset:  51.43%\n",
      "\n",
      "\u001b[36mHamming loss average\u001b[39m\n",
      "Train dataset: 0.02\n",
      "Test datasets:  0.11\n",
      "\n",
      "\u001b[36mCross validation score\u001b[39m\n",
      "F1 weighted: 0.64\n",
      "F1 score for test dataset = 0.680\n"
     ]
    }
   ],
   "source": [
    "# Optimize hyperparameters with hyperopt library\n",
    "from hyperopt import Trials, hp, tpe, fmin, space_eval\n",
    "# Import cross validation model selection\n",
    "from sklearn.model_selection import cross_validate\n",
    "\n",
    "# Transform features\n",
    "X_transf = tfidf_vec.fit_transform(X)\n",
    "X_train_transf = tfidf_vec.fit_transform(X_train)\n",
    "X_test_transf = tfidf_vec.transform(X_test)\n",
    "\n",
    "# Define the parameter space to search over for the best model parameters using hyperopt\n",
    "param_space = {\n",
    "\t'n_estimators':hp.randint('n_estimators', 100, 1000),\n",
    "\t'max_depth': hp.randint('max_depth', 10, 200),           \n",
    "\t'min_samples_split': hp.uniform('min_samples_split', 0, 1),   \n",
    "\t'min_samples_leaf': hp.randint('min_samples_leaf', 1, 10),\n",
    "\t'criterion': hp.choice('criterion', ['gini', 'entropy']),\n",
    "\t'max_features': hp.choice('max_features', ['sqrt', 'log2']),\n",
    "\t'bootstrap': hp.choice('bootstrap', [True, False]),\n",
    "\t'class_weight': hp.choice('class_weight', ['balanced', 'balanced_subsample', None]),\n",
    "}\n",
    "\n",
    "# Define the objective function to minimize\n",
    "pbar = tqdm(total=30, desc=\"Hyperopt\")\n",
    "def objective(params):\n",
    "\t# Create the pipeline with the parameters\n",
    "\tpipeline = Pipeline([\n",
    "\t\t('tfidf', tfidf_vec),\n",
    "\t\t('clf', RandomForestClassifier(**params, random_state=42))\n",
    "\t])\n",
    "\t# Compute the cross validation score\n",
    "\tcross_validate_results = cross_validate(\t\n",
    "\t\tpipeline, X_train, y_train, \n",
    "\t\tcv=5, scoring='f1_weighted', n_jobs=-1)\n",
    "\tpbar.update()\n",
    "\t# Return the negative of the cross validation score\n",
    "\treturn -cross_validate_results['test_score'].mean()\n",
    "\n",
    "# Create the trials object to store the results\n",
    "trials = Trials()\n",
    "# Run the hyperparameter optimization\n",
    "best = fmin(\n",
    "\tfn=objective, \n",
    "\tspace=param_space, \n",
    "\talgo=tpe.suggest, \n",
    "\tmax_evals=30, trials=trials,\n",
    "\tshow_progressbar=False)\n",
    "pbar.close()\n",
    "# Get the best parameters\n",
    "best_params = space_eval(param_space, best)\n",
    "# Print the best parameters\n",
    "print(best_params)\n",
    "# Create the classifier with the best parameters\n",
    "rf_clf = RandomForestClassifier(**best_params)\n",
    "# Run the pipeline\n",
    "rf_pipeline = run_pipeline(X, y, tfidf_vec, rf_clf)\n",
    "# Get the f1 score for the test dataset\n",
    "f1_score_test = f1_score(y_test, rf_pipeline[1].predict(X_test_transf), average=\"weighted\")\n",
    "# Print the f1 score\n",
    "print(f'F1 score for test dataset = {f1_score_test:.3f}')"
   ]
  },
  {
   "cell_type": "markdown",
   "id": "3825edcc",
   "metadata": {},
   "source": [
    "## Fine tunning with `GridSearchCV`"
   ]
  },
  {
   "cell_type": "code",
   "execution_count": 38,
   "id": "d32f7faf",
   "metadata": {},
   "outputs": [
    {
     "name": "stdout",
     "output_type": "stream",
     "text": [
      "Fitting 5 folds for each of 21 candidates, totalling 105 fits\n",
      "\u001b[36mBest estimator hyper-parameters: \u001b[39m\n",
      "{'classifier': MultinomialNB(alpha=0.1), 'classifier__alpha': 0.1, 'classifier__class_prior': None, 'classifier__fit_prior': True}\n",
      "\n",
      "\u001b[36mAverage accuracy score\u001b[39m\n",
      "Train dataset: 98.32%\n",
      "Test dataset:  74.29%\n",
      "\n",
      "\u001b[36mHamming loss average\u001b[39m\n",
      "Train dataset: 0.00\n",
      "Test datasets:  0.09\n",
      "\n",
      "\u001b[36mCross validation score\u001b[39m\n",
      "F1 weighted: 0.73\n"
     ]
    }
   ],
   "source": [
    "from sklearn.model_selection import GridSearchCV\n",
    "\n",
    "# Define classifiers and hyper-parameters\n",
    "parameters = [\n",
    "    # Multinoial Naive Bayes\n",
    "    {\n",
    "        'classifier': [MultinomialNB()],\n",
    "        'classifier__alpha': np.linspace(0.1, 1.0, 5, endpoint=True),\n",
    "        'classifier__class_prior': [None],\n",
    "        'classifier__fit_prior': [True]\n",
    "    },\n",
    "    # Random Forest Classifier\n",
    "    {\n",
    "        'classifier': [RandomForestClassifier()],\n",
    "        'classifier__criterion': ['entropy'],\n",
    "        'classifier__n_estimators': [800, 900, 1000, 1200],\n",
    "        'classifier__max_features': ['sqrt'],\n",
    "        'classifier__max_depth': [150, 160, 170, 180],\n",
    "        'classifier__class_weight': ['balanced'],\n",
    "        'classifier__bootstrap': [False],\n",
    "    },\n",
    "]\n",
    "\n",
    "# Instance GridSearch object\n",
    "grid_search = GridSearchCV(\n",
    "    LabelPowerset(), \n",
    "    param_grid=parameters, \n",
    "    scoring='f1_weighted',\n",
    "    cv=5,\n",
    "    verbose=1, n_jobs=-1)\n",
    "\n",
    "# Run GridSearch\n",
    "grid_search.fit(X_train_transf, y_train)\n",
    "\n",
    "# Parameters of the best estimator\n",
    "print (f'{CYAN}Best estimator hyper-parameters: {WHITE}\\n{grid_search.best_params_}')\n",
    "# Model score (average accuracy)\n",
    "print(f'\\n{CYAN}Average accuracy score{WHITE}')\n",
    "print(f'Train dataset: {grid_search.best_estimator_.score(X_train_transf, y_train)*100:.2f}%')\n",
    "print(f'Test dataset:  {grid_search.best_estimator_.score(X_test_transf, y_test)*100:.2f}%')\n",
    "# Hamming Loss metrics\n",
    "print(f'\\n{CYAN}Hamming loss average{WHITE}')\n",
    "print(f'Train dataset: {hamming_loss(y_train, grid_search.best_estimator_.predict(X_train_transf)):.2f}')\n",
    "print(f'Test datasets:  {hamming_loss(y_test, grid_search.best_estimator_.predict(X_test_transf)):.2f}')\n",
    "# Cross validation score with F1 weighted\n",
    "print(f'\\n{CYAN}Cross validation score{WHITE}\\nF1 weighted: {cross_val_score(grid_search.best_estimator_, X_transf, y, cv=5, scoring=\"f1_weighted\").mean():.2f}')"
   ]
  },
  {
   "cell_type": "code",
   "execution_count": 65,
   "id": "2fbdb4f4",
   "metadata": {},
   "outputs": [
    {
     "data": {
      "text/plain": [
       "['grid_search.joblib']"
      ]
     },
     "execution_count": 65,
     "metadata": {},
     "output_type": "execute_result"
    }
   ],
   "source": [
    "# Save grid search results\n",
    "joblib.dump(grid_search, 'grid_search.joblib')"
   ]
  },
  {
   "cell_type": "markdown",
   "id": "c578b6db",
   "metadata": {},
   "source": [
    "## Metrics for model with best parameters"
   ]
  },
  {
   "cell_type": "code",
   "execution_count": 40,
   "id": "0ed9b62b",
   "metadata": {},
   "outputs": [
    {
     "data": {
      "application/vnd.plotly.v1+json": {
       "config": {
        "plotlyServerURL": "https://plot.ly"
       },
       "data": [
        {
         "mode": "lines",
         "name": "educação (area = 1.000)",
         "type": "scatter",
         "x": [
          0,
          0,
          0,
          0,
          0,
          0,
          0,
          0.05555555555555555,
          0.06481481481481481,
          0.7870370370370371,
          0.7932098765432098,
          0.8024691358024691,
          0.808641975308642,
          0.8580246913580247,
          0.8641975308641975,
          0.9722222222222222,
          0.9783950617283951,
          0.9814814814814815,
          0.9876543209876543,
          1
         ],
         "y": [
          0,
          0.010869565217391304,
          0.09782608695652174,
          0.11956521739130435,
          0.6956521739130435,
          0.717391304347826,
          1,
          1,
          1,
          1,
          1,
          1,
          1,
          1,
          1,
          1,
          1,
          1,
          1,
          1
         ]
        },
        {
         "mode": "lines",
         "name": "finanças (area = 1.000)",
         "type": "scatter",
         "x": [
          0,
          0,
          0,
          0.0028328611898017,
          0.0028328611898017,
          0.0056657223796034,
          0.0056657223796034,
          0.0679886685552408,
          0.0764872521246459,
          0.1671388101983003,
          0.17280453257790368,
          0.5920679886685553,
          0.5977337110481586,
          0.8413597733711048,
          0.8470254957507082,
          0.8640226628895185,
          0.8696883852691218,
          0.8923512747875354,
          0.8980169971671388,
          0.9093484419263456,
          0.9150141643059491,
          0.9858356940509915,
          0.9915014164305949,
          1
         ],
         "y": [
          0,
          0.015873015873015872,
          0.8888888888888888,
          0.8888888888888888,
          0.9841269841269841,
          0.9841269841269841,
          1,
          1,
          1,
          1,
          1,
          1,
          1,
          1,
          1,
          1,
          1,
          1,
          1,
          1,
          1,
          1,
          1,
          1
         ]
        },
        {
         "mode": "lines",
         "name": "indústrias (area = 1.000)",
         "type": "scatter",
         "x": [
          0,
          0,
          0,
          0,
          0,
          0.0060790273556231,
          0.0060790273556231,
          0.0851063829787234,
          0.09422492401215805,
          0.1884498480243161,
          0.1945288753799392,
          0.7933130699088146,
          0.7993920972644377,
          0.8115501519756839,
          0.817629179331307,
          0.9057750759878419,
          0.9118541033434651,
          0.9787234042553191,
          0.9848024316109423,
          0.9908814589665653,
          0.9969604863221885,
          1
         ],
         "y": [
          0,
          0.011494252873563218,
          0.41379310344827586,
          0.4367816091954023,
          0.9885057471264368,
          0.9885057471264368,
          1,
          1,
          1,
          1,
          1,
          1,
          1,
          1,
          1,
          1,
          1,
          1,
          1,
          1,
          1,
          1
         ]
        },
        {
         "mode": "lines",
         "name": "orgão público (area = 1.000)",
         "type": "scatter",
         "x": [
          0,
          0,
          0,
          0,
          0,
          0,
          0,
          0,
          0,
          0.0035087719298245615,
          0.0035087719298245615,
          0.2,
          0.20701754385964913,
          0.21403508771929824,
          0.22105263157894736,
          0.8912280701754386,
          0.8982456140350877,
          0.9754385964912281,
          0.9824561403508771,
          1
         ],
         "y": [
          0,
          0.015267175572519083,
          0.10687022900763359,
          0.12213740458015267,
          0.13740458015267176,
          0.15267175572519084,
          0.8931297709923665,
          0.916030534351145,
          0.9923664122137404,
          0.9923664122137404,
          1,
          1,
          1,
          1,
          1,
          1,
          1,
          1,
          1,
          1
         ]
        },
        {
         "mode": "lines",
         "name": "varejo (area = 1.000)",
         "type": "scatter",
         "x": [
          0,
          0,
          0,
          0,
          0,
          0.08605341246290801,
          0.09495548961424333,
          0.16913946587537093,
          0.17507418397626112,
          0.8308605341246291,
          0.8367952522255193,
          0.8753709198813057,
          0.8813056379821959,
          0.8991097922848664,
          0.9050445103857567,
          0.9169139465875371,
          0.9228486646884273,
          0.9851632047477745,
          0.9910979228486647,
          1
         ],
         "y": [
          0,
          0.012658227848101266,
          0.08860759493670886,
          0.11392405063291139,
          1,
          1,
          1,
          1,
          1,
          1,
          1,
          1,
          1,
          1,
          1,
          1,
          1,
          1,
          1,
          1
         ]
        },
        {
         "line": {
          "dash": "dot"
         },
         "mode": "lines",
         "name": "macro-average (area = 1.00)",
         "type": "scatter",
         "x": [
          0,
          0.0028328611898017,
          0.0035087719298245615,
          0.0056657223796034,
          0.0060790273556231,
          0.05555555555555555,
          0.06481481481481481,
          0.0679886685552408,
          0.0764872521246459,
          0.0851063829787234,
          0.08605341246290801,
          0.09422492401215805,
          0.09495548961424333,
          0.1671388101983003,
          0.16913946587537093,
          0.17280453257790368,
          0.17507418397626112,
          0.1884498480243161,
          0.1945288753799392,
          0.2,
          0.20701754385964913,
          0.21403508771929824,
          0.22105263157894736,
          0.5920679886685553,
          0.5977337110481586,
          0.7870370370370371,
          0.7932098765432098,
          0.7933130699088146,
          0.7993920972644377,
          0.8024691358024691,
          0.808641975308642,
          0.8115501519756839,
          0.817629179331307,
          0.8308605341246291,
          0.8367952522255193,
          0.8413597733711048,
          0.8470254957507082,
          0.8580246913580247,
          0.8640226628895185,
          0.8641975308641975,
          0.8696883852691218,
          0.8753709198813057,
          0.8813056379821959,
          0.8912280701754386,
          0.8923512747875354,
          0.8980169971671388,
          0.8982456140350877,
          0.8991097922848664,
          0.9050445103857567,
          0.9057750759878419,
          0.9093484419263456,
          0.9118541033434651,
          0.9150141643059491,
          0.9169139465875371,
          0.9228486646884273,
          0.9722222222222222,
          0.9754385964912281,
          0.9783950617283951,
          0.9787234042553191,
          0.9814814814814815,
          0.9824561403508771,
          0.9848024316109423,
          0.9851632047477745,
          0.9858356940509915,
          0.9876543209876543,
          0.9908814589665653,
          0.9910979228486647,
          0.9915014164305949,
          0.9969604863221885,
          1
         ],
         "y": [
          0.9739522096458131,
          0.9929998286934323,
          0.9945265462506843,
          0.9977011494252874,
          1,
          1,
          1,
          1,
          1,
          1,
          1,
          1,
          1,
          1,
          1,
          1,
          1,
          1,
          1,
          1,
          1,
          1,
          1,
          1,
          1,
          1,
          1,
          1,
          1,
          1,
          1,
          1,
          1,
          1,
          1,
          1,
          1,
          1,
          1,
          1,
          1,
          1,
          1,
          1,
          1,
          1,
          1,
          1,
          1,
          1,
          1,
          1,
          1,
          1,
          1,
          1,
          1,
          1,
          1,
          1,
          1,
          1,
          1,
          1,
          1,
          1,
          1,
          1,
          1,
          1
         ]
        },
        {
         "line": {
          "dash": "dot"
         },
         "mode": "lines",
         "name": "micro-average (area = 1.00)",
         "type": "scatter",
         "x": [
          0,
          0,
          0,
          0,
          0,
          0,
          0,
          0,
          0,
          0,
          0,
          0,
          0,
          0,
          0,
          0,
          0,
          0,
          0,
          0.0006142506142506142,
          0.0006142506142506142,
          0.0012285012285012285,
          0.0012285012285012285,
          0.0018427518427518428,
          0.0018427518427518428,
          0.002457002457002457,
          0.002457002457002457,
          0.003071253071253071,
          0.003071253071253071,
          0.005528255528255528,
          0.005528255528255528,
          0.010442260442260442,
          0.010442260442260442,
          0.07248157248157248,
          0.07432432432432433,
          0.07923832923832924,
          0.08108108108108109,
          0.085995085995086,
          0.08783783783783784,
          0.0945945945945946,
          0.09643734643734644,
          0.1683046683046683,
          0.16953316953316952,
          0.17444717444717445,
          0.17567567567567569,
          0.1769041769041769,
          0.17813267813267813,
          0.214987714987715,
          0.21621621621621623,
          0.22358722358722358,
          0.22481572481572482,
          0.5343980343980343,
          0.5356265356265356,
          0.765970515970516,
          0.7671990171990172,
          0.7856265356265356,
          0.7868550368550369,
          0.8138820638820639,
          0.8151105651105651,
          0.8157248157248157,
          0.816953316953317,
          0.8261670761670762,
          0.8273955773955773,
          0.8384520884520884,
          0.8396805896805897,
          0.8507371007371007,
          0.851965601965602,
          0.8617936117936118,
          0.8630221130221131,
          0.8826781326781327,
          0.8839066339066339,
          0.8869778869778869,
          0.8882063882063882,
          0.89004914004914,
          0.8912776412776413,
          0.8931203931203932,
          0.8943488943488943,
          0.9035626535626535,
          0.9047911547911548,
          0.9054054054054054,
          0.9066339066339066,
          0.9195331695331695,
          0.9207616707616708,
          0.972972972972973,
          0.9742014742014742,
          0.9797297297297297,
          0.980958230958231,
          0.9821867321867321,
          0.9834152334152334,
          0.9846437346437347,
          0.9871007371007371,
          0.9883292383292384,
          0.9895577395577395,
          0.9926289926289926,
          0.9938574938574939,
          1
         ],
         "y": [
          0,
          0.0022123893805309734,
          0.004424778761061947,
          0.008849557522123894,
          0.06858407079646017,
          0.07300884955752213,
          0.09734513274336283,
          0.10176991150442478,
          0.11283185840707964,
          0.1172566371681416,
          0.13495575221238937,
          0.13938053097345132,
          0.34513274336283184,
          0.3495575221238938,
          0.7013274336283186,
          0.7057522123893806,
          0.8407079646017699,
          0.8473451327433629,
          0.9712389380530974,
          0.9712389380530974,
          0.9867256637168141,
          0.9867256637168141,
          0.9889380530973452,
          0.9889380530973452,
          0.9911504424778761,
          0.9911504424778761,
          0.9933628318584071,
          0.9933628318584071,
          0.995575221238938,
          0.995575221238938,
          0.9977876106194691,
          0.9977876106194691,
          1,
          1,
          1,
          1,
          1,
          1,
          1,
          1,
          1,
          1,
          1,
          1,
          1,
          1,
          1,
          1,
          1,
          1,
          1,
          1,
          1,
          1,
          1,
          1,
          1,
          1,
          1,
          1,
          1,
          1,
          1,
          1,
          1,
          1,
          1,
          1,
          1,
          1,
          1,
          1,
          1,
          1,
          1,
          1,
          1,
          1,
          1,
          1,
          1,
          1,
          1,
          1,
          1,
          1,
          1,
          1,
          1,
          1,
          1,
          1,
          1,
          1,
          1,
          1
         ]
        }
       ],
       "layout": {
        "autosize": false,
        "height": 500,
        "legend": {
         "x": 0.55,
         "xanchor": "left",
         "y": 0.02,
         "yanchor": "bottom"
        },
        "shapes": [
         {
          "line": {
           "dash": "dash"
          },
          "type": "line",
          "x0": 0,
          "x1": 1,
          "y0": 0,
          "y1": 1
         }
        ],
        "template": {
         "data": {
          "bar": [
           {
            "error_x": {
             "color": "#2a3f5f"
            },
            "error_y": {
             "color": "#2a3f5f"
            },
            "marker": {
             "line": {
              "color": "#E5ECF6",
              "width": 0.5
             },
             "pattern": {
              "fillmode": "overlay",
              "size": 10,
              "solidity": 0.2
             }
            },
            "type": "bar"
           }
          ],
          "barpolar": [
           {
            "marker": {
             "line": {
              "color": "#E5ECF6",
              "width": 0.5
             },
             "pattern": {
              "fillmode": "overlay",
              "size": 10,
              "solidity": 0.2
             }
            },
            "type": "barpolar"
           }
          ],
          "carpet": [
           {
            "aaxis": {
             "endlinecolor": "#2a3f5f",
             "gridcolor": "white",
             "linecolor": "white",
             "minorgridcolor": "white",
             "startlinecolor": "#2a3f5f"
            },
            "baxis": {
             "endlinecolor": "#2a3f5f",
             "gridcolor": "white",
             "linecolor": "white",
             "minorgridcolor": "white",
             "startlinecolor": "#2a3f5f"
            },
            "type": "carpet"
           }
          ],
          "choropleth": [
           {
            "colorbar": {
             "outlinewidth": 0,
             "ticks": ""
            },
            "type": "choropleth"
           }
          ],
          "contour": [
           {
            "colorbar": {
             "outlinewidth": 0,
             "ticks": ""
            },
            "colorscale": [
             [
              0,
              "#0d0887"
             ],
             [
              0.1111111111111111,
              "#46039f"
             ],
             [
              0.2222222222222222,
              "#7201a8"
             ],
             [
              0.3333333333333333,
              "#9c179e"
             ],
             [
              0.4444444444444444,
              "#bd3786"
             ],
             [
              0.5555555555555556,
              "#d8576b"
             ],
             [
              0.6666666666666666,
              "#ed7953"
             ],
             [
              0.7777777777777778,
              "#fb9f3a"
             ],
             [
              0.8888888888888888,
              "#fdca26"
             ],
             [
              1,
              "#f0f921"
             ]
            ],
            "type": "contour"
           }
          ],
          "contourcarpet": [
           {
            "colorbar": {
             "outlinewidth": 0,
             "ticks": ""
            },
            "type": "contourcarpet"
           }
          ],
          "heatmap": [
           {
            "colorbar": {
             "outlinewidth": 0,
             "ticks": ""
            },
            "colorscale": [
             [
              0,
              "#0d0887"
             ],
             [
              0.1111111111111111,
              "#46039f"
             ],
             [
              0.2222222222222222,
              "#7201a8"
             ],
             [
              0.3333333333333333,
              "#9c179e"
             ],
             [
              0.4444444444444444,
              "#bd3786"
             ],
             [
              0.5555555555555556,
              "#d8576b"
             ],
             [
              0.6666666666666666,
              "#ed7953"
             ],
             [
              0.7777777777777778,
              "#fb9f3a"
             ],
             [
              0.8888888888888888,
              "#fdca26"
             ],
             [
              1,
              "#f0f921"
             ]
            ],
            "type": "heatmap"
           }
          ],
          "heatmapgl": [
           {
            "colorbar": {
             "outlinewidth": 0,
             "ticks": ""
            },
            "colorscale": [
             [
              0,
              "#0d0887"
             ],
             [
              0.1111111111111111,
              "#46039f"
             ],
             [
              0.2222222222222222,
              "#7201a8"
             ],
             [
              0.3333333333333333,
              "#9c179e"
             ],
             [
              0.4444444444444444,
              "#bd3786"
             ],
             [
              0.5555555555555556,
              "#d8576b"
             ],
             [
              0.6666666666666666,
              "#ed7953"
             ],
             [
              0.7777777777777778,
              "#fb9f3a"
             ],
             [
              0.8888888888888888,
              "#fdca26"
             ],
             [
              1,
              "#f0f921"
             ]
            ],
            "type": "heatmapgl"
           }
          ],
          "histogram": [
           {
            "marker": {
             "pattern": {
              "fillmode": "overlay",
              "size": 10,
              "solidity": 0.2
             }
            },
            "type": "histogram"
           }
          ],
          "histogram2d": [
           {
            "colorbar": {
             "outlinewidth": 0,
             "ticks": ""
            },
            "colorscale": [
             [
              0,
              "#0d0887"
             ],
             [
              0.1111111111111111,
              "#46039f"
             ],
             [
              0.2222222222222222,
              "#7201a8"
             ],
             [
              0.3333333333333333,
              "#9c179e"
             ],
             [
              0.4444444444444444,
              "#bd3786"
             ],
             [
              0.5555555555555556,
              "#d8576b"
             ],
             [
              0.6666666666666666,
              "#ed7953"
             ],
             [
              0.7777777777777778,
              "#fb9f3a"
             ],
             [
              0.8888888888888888,
              "#fdca26"
             ],
             [
              1,
              "#f0f921"
             ]
            ],
            "type": "histogram2d"
           }
          ],
          "histogram2dcontour": [
           {
            "colorbar": {
             "outlinewidth": 0,
             "ticks": ""
            },
            "colorscale": [
             [
              0,
              "#0d0887"
             ],
             [
              0.1111111111111111,
              "#46039f"
             ],
             [
              0.2222222222222222,
              "#7201a8"
             ],
             [
              0.3333333333333333,
              "#9c179e"
             ],
             [
              0.4444444444444444,
              "#bd3786"
             ],
             [
              0.5555555555555556,
              "#d8576b"
             ],
             [
              0.6666666666666666,
              "#ed7953"
             ],
             [
              0.7777777777777778,
              "#fb9f3a"
             ],
             [
              0.8888888888888888,
              "#fdca26"
             ],
             [
              1,
              "#f0f921"
             ]
            ],
            "type": "histogram2dcontour"
           }
          ],
          "mesh3d": [
           {
            "colorbar": {
             "outlinewidth": 0,
             "ticks": ""
            },
            "type": "mesh3d"
           }
          ],
          "parcoords": [
           {
            "line": {
             "colorbar": {
              "outlinewidth": 0,
              "ticks": ""
             }
            },
            "type": "parcoords"
           }
          ],
          "pie": [
           {
            "automargin": true,
            "type": "pie"
           }
          ],
          "scatter": [
           {
            "fillpattern": {
             "fillmode": "overlay",
             "size": 10,
             "solidity": 0.2
            },
            "type": "scatter"
           }
          ],
          "scatter3d": [
           {
            "line": {
             "colorbar": {
              "outlinewidth": 0,
              "ticks": ""
             }
            },
            "marker": {
             "colorbar": {
              "outlinewidth": 0,
              "ticks": ""
             }
            },
            "type": "scatter3d"
           }
          ],
          "scattercarpet": [
           {
            "marker": {
             "colorbar": {
              "outlinewidth": 0,
              "ticks": ""
             }
            },
            "type": "scattercarpet"
           }
          ],
          "scattergeo": [
           {
            "marker": {
             "colorbar": {
              "outlinewidth": 0,
              "ticks": ""
             }
            },
            "type": "scattergeo"
           }
          ],
          "scattergl": [
           {
            "marker": {
             "colorbar": {
              "outlinewidth": 0,
              "ticks": ""
             }
            },
            "type": "scattergl"
           }
          ],
          "scattermapbox": [
           {
            "marker": {
             "colorbar": {
              "outlinewidth": 0,
              "ticks": ""
             }
            },
            "type": "scattermapbox"
           }
          ],
          "scatterpolar": [
           {
            "marker": {
             "colorbar": {
              "outlinewidth": 0,
              "ticks": ""
             }
            },
            "type": "scatterpolar"
           }
          ],
          "scatterpolargl": [
           {
            "marker": {
             "colorbar": {
              "outlinewidth": 0,
              "ticks": ""
             }
            },
            "type": "scatterpolargl"
           }
          ],
          "scatterternary": [
           {
            "marker": {
             "colorbar": {
              "outlinewidth": 0,
              "ticks": ""
             }
            },
            "type": "scatterternary"
           }
          ],
          "surface": [
           {
            "colorbar": {
             "outlinewidth": 0,
             "ticks": ""
            },
            "colorscale": [
             [
              0,
              "#0d0887"
             ],
             [
              0.1111111111111111,
              "#46039f"
             ],
             [
              0.2222222222222222,
              "#7201a8"
             ],
             [
              0.3333333333333333,
              "#9c179e"
             ],
             [
              0.4444444444444444,
              "#bd3786"
             ],
             [
              0.5555555555555556,
              "#d8576b"
             ],
             [
              0.6666666666666666,
              "#ed7953"
             ],
             [
              0.7777777777777778,
              "#fb9f3a"
             ],
             [
              0.8888888888888888,
              "#fdca26"
             ],
             [
              1,
              "#f0f921"
             ]
            ],
            "type": "surface"
           }
          ],
          "table": [
           {
            "cells": {
             "fill": {
              "color": "#EBF0F8"
             },
             "line": {
              "color": "white"
             }
            },
            "header": {
             "fill": {
              "color": "#C8D4E3"
             },
             "line": {
              "color": "white"
             }
            },
            "type": "table"
           }
          ]
         },
         "layout": {
          "annotationdefaults": {
           "arrowcolor": "#2a3f5f",
           "arrowhead": 0,
           "arrowwidth": 1
          },
          "autotypenumbers": "strict",
          "coloraxis": {
           "colorbar": {
            "outlinewidth": 0,
            "ticks": ""
           }
          },
          "colorscale": {
           "diverging": [
            [
             0,
             "#8e0152"
            ],
            [
             0.1,
             "#c51b7d"
            ],
            [
             0.2,
             "#de77ae"
            ],
            [
             0.3,
             "#f1b6da"
            ],
            [
             0.4,
             "#fde0ef"
            ],
            [
             0.5,
             "#f7f7f7"
            ],
            [
             0.6,
             "#e6f5d0"
            ],
            [
             0.7,
             "#b8e186"
            ],
            [
             0.8,
             "#7fbc41"
            ],
            [
             0.9,
             "#4d9221"
            ],
            [
             1,
             "#276419"
            ]
           ],
           "sequential": [
            [
             0,
             "#0d0887"
            ],
            [
             0.1111111111111111,
             "#46039f"
            ],
            [
             0.2222222222222222,
             "#7201a8"
            ],
            [
             0.3333333333333333,
             "#9c179e"
            ],
            [
             0.4444444444444444,
             "#bd3786"
            ],
            [
             0.5555555555555556,
             "#d8576b"
            ],
            [
             0.6666666666666666,
             "#ed7953"
            ],
            [
             0.7777777777777778,
             "#fb9f3a"
            ],
            [
             0.8888888888888888,
             "#fdca26"
            ],
            [
             1,
             "#f0f921"
            ]
           ],
           "sequentialminus": [
            [
             0,
             "#0d0887"
            ],
            [
             0.1111111111111111,
             "#46039f"
            ],
            [
             0.2222222222222222,
             "#7201a8"
            ],
            [
             0.3333333333333333,
             "#9c179e"
            ],
            [
             0.4444444444444444,
             "#bd3786"
            ],
            [
             0.5555555555555556,
             "#d8576b"
            ],
            [
             0.6666666666666666,
             "#ed7953"
            ],
            [
             0.7777777777777778,
             "#fb9f3a"
            ],
            [
             0.8888888888888888,
             "#fdca26"
            ],
            [
             1,
             "#f0f921"
            ]
           ]
          },
          "colorway": [
           "#636efa",
           "#EF553B",
           "#00cc96",
           "#ab63fa",
           "#FFA15A",
           "#19d3f3",
           "#FF6692",
           "#B6E880",
           "#FF97FF",
           "#FECB52"
          ],
          "font": {
           "color": "#2a3f5f"
          },
          "geo": {
           "bgcolor": "white",
           "lakecolor": "white",
           "landcolor": "#E5ECF6",
           "showlakes": true,
           "showland": true,
           "subunitcolor": "white"
          },
          "hoverlabel": {
           "align": "left"
          },
          "hovermode": "closest",
          "mapbox": {
           "style": "light"
          },
          "paper_bgcolor": "white",
          "plot_bgcolor": "#E5ECF6",
          "polar": {
           "angularaxis": {
            "gridcolor": "white",
            "linecolor": "white",
            "ticks": ""
           },
           "bgcolor": "#E5ECF6",
           "radialaxis": {
            "gridcolor": "white",
            "linecolor": "white",
            "ticks": ""
           }
          },
          "scene": {
           "xaxis": {
            "backgroundcolor": "#E5ECF6",
            "gridcolor": "white",
            "gridwidth": 2,
            "linecolor": "white",
            "showbackground": true,
            "ticks": "",
            "zerolinecolor": "white"
           },
           "yaxis": {
            "backgroundcolor": "#E5ECF6",
            "gridcolor": "white",
            "gridwidth": 2,
            "linecolor": "white",
            "showbackground": true,
            "ticks": "",
            "zerolinecolor": "white"
           },
           "zaxis": {
            "backgroundcolor": "#E5ECF6",
            "gridcolor": "white",
            "gridwidth": 2,
            "linecolor": "white",
            "showbackground": true,
            "ticks": "",
            "zerolinecolor": "white"
           }
          },
          "shapedefaults": {
           "line": {
            "color": "#2a3f5f"
           }
          },
          "ternary": {
           "aaxis": {
            "gridcolor": "white",
            "linecolor": "white",
            "ticks": ""
           },
           "baxis": {
            "gridcolor": "white",
            "linecolor": "white",
            "ticks": ""
           },
           "bgcolor": "#E5ECF6",
           "caxis": {
            "gridcolor": "white",
            "linecolor": "white",
            "ticks": ""
           }
          },
          "title": {
           "x": 0.05
          },
          "xaxis": {
           "automargin": true,
           "gridcolor": "white",
           "linecolor": "white",
           "ticks": "",
           "title": {
            "standoff": 15
           },
           "zerolinecolor": "white",
           "zerolinewidth": 2
          },
          "yaxis": {
           "automargin": true,
           "gridcolor": "white",
           "linecolor": "white",
           "ticks": "",
           "title": {
            "standoff": 15
           },
           "zerolinecolor": "white",
           "zerolinewidth": 2
          }
         }
        },
        "title": {
         "text": "Train dataset ROC curves"
        },
        "width": 600,
        "xaxis": {
         "constrain": "domain",
         "title": {
          "text": "False Positive Rate"
         }
        },
        "yaxis": {
         "scaleanchor": "x",
         "scaleratio": 1,
         "title": {
          "text": "True Positive Rate"
         }
        }
       }
      }
     },
     "metadata": {},
     "output_type": "display_data"
    },
    {
     "data": {
      "application/vnd.plotly.v1+json": {
       "config": {
        "plotlyServerURL": "https://plot.ly"
       },
       "data": [
        {
         "mode": "lines",
         "name": "educação (area = 0.971)",
         "type": "scatter",
         "x": [
          0,
          0,
          0,
          0.013513513513513514,
          0.013513513513513514,
          0.02702702702702703,
          0.02702702702702703,
          0.08108108108108109,
          0.10810810810810811,
          0.12162162162162163,
          0.12162162162162163,
          0.5135135135135135,
          0.5135135135135135,
          1
         ],
         "y": [
          0,
          0.03225806451612903,
          0.6774193548387096,
          0.6774193548387096,
          0.8064516129032258,
          0.8064516129032258,
          0.9032258064516129,
          0.9032258064516129,
          0.9032258064516129,
          0.9032258064516129,
          0.967741935483871,
          0.967741935483871,
          1,
          1
         ]
        },
        {
         "mode": "lines",
         "name": "finanças (area = 0.854)",
         "type": "scatter",
         "x": [
          0,
          0,
          0,
          0.010869565217391304,
          0.010869565217391304,
          0.021739130434782608,
          0.021739130434782608,
          0.18478260869565216,
          0.20652173913043478,
          0.22826086956521738,
          0.22826086956521738,
          0.32608695652173914,
          0.32608695652173914,
          0.391304347826087,
          0.391304347826087,
          0.43478260869565216,
          0.43478260869565216,
          0.4782608695652174,
          0.4782608695652174,
          1
         ],
         "y": [
          0,
          0.07692307692307693,
          0.38461538461538464,
          0.38461538461538464,
          0.5384615384615384,
          0.5384615384615384,
          0.6153846153846154,
          0.6153846153846154,
          0.6153846153846154,
          0.6153846153846154,
          0.6923076923076923,
          0.6923076923076923,
          0.7692307692307693,
          0.7692307692307693,
          0.8461538461538461,
          0.8461538461538461,
          0.9230769230769231,
          0.9230769230769231,
          1,
          1
         ]
        },
        {
         "mode": "lines",
         "name": "indústrias (area = 0.975)",
         "type": "scatter",
         "x": [
          0,
          0,
          0,
          0.011764705882352941,
          0.011764705882352941,
          0.023529411764705882,
          0.023529411764705882,
          0.03529411764705882,
          0.03529411764705882,
          0.058823529411764705,
          0.058823529411764705,
          0.07058823529411765,
          0.07058823529411765,
          0.08235294117647059,
          0.08235294117647059,
          0.15294117647058825,
          0.15294117647058825,
          0.17647058823529413,
          0.2,
          1
         ],
         "y": [
          0,
          0.05,
          0.4,
          0.4,
          0.7,
          0.7,
          0.75,
          0.75,
          0.8,
          0.8,
          0.85,
          0.85,
          0.9,
          0.9,
          0.95,
          0.95,
          1,
          1,
          1,
          1
         ]
        },
        {
         "mode": "lines",
         "name": "orgão público (area = 0.966)",
         "type": "scatter",
         "x": [
          0,
          0,
          0,
          0.024691358024691357,
          0.024691358024691357,
          0.037037037037037035,
          0.037037037037037035,
          0.06172839506172839,
          0.07407407407407407,
          0.08641975308641975,
          0.08641975308641975,
          0.13580246913580246,
          0.13580246913580246,
          0.32098765432098764,
          0.32098765432098764,
          1
         ],
         "y": [
          0,
          0.041666666666666664,
          0.5833333333333334,
          0.5833333333333334,
          0.625,
          0.625,
          0.8333333333333334,
          0.8333333333333334,
          0.875,
          0.875,
          0.9166666666666666,
          0.9166666666666666,
          0.9583333333333334,
          0.9583333333333334,
          1,
          1
         ]
        },
        {
         "mode": "lines",
         "name": "varejo (area = 0.872)",
         "type": "scatter",
         "x": [
          0,
          0,
          0,
          0.01282051282051282,
          0.01282051282051282,
          0.02564102564102564,
          0.02564102564102564,
          0.038461538461538464,
          0.038461538461538464,
          0.0641025641025641,
          0.0641025641025641,
          0.10256410256410256,
          0.10256410256410256,
          0.1282051282051282,
          0.1282051282051282,
          0.14102564102564102,
          0.14102564102564102,
          0.15384615384615385,
          0.16666666666666666,
          0.5384615384615384,
          0.5384615384615384,
          0.7564102564102564,
          0.7564102564102564,
          0.9358974358974359,
          0.9358974358974359,
          1
         ],
         "y": [
          0,
          0.037037037037037035,
          0.1111111111111111,
          0.1111111111111111,
          0.2222222222222222,
          0.2222222222222222,
          0.25925925925925924,
          0.25925925925925924,
          0.6296296296296297,
          0.6296296296296297,
          0.7037037037037037,
          0.7037037037037037,
          0.7407407407407407,
          0.7407407407407407,
          0.8148148148148148,
          0.8148148148148148,
          0.8518518518518519,
          0.8518518518518519,
          0.8888888888888888,
          0.8888888888888888,
          0.9259259259259259,
          0.9259259259259259,
          0.9629629629629629,
          0.9629629629629629,
          1,
          1
         ]
        },
        {
         "line": {
          "dash": "dot"
         },
         "mode": "lines",
         "name": "macro-average (area = 0.93)",
         "type": "scatter",
         "x": [
          0,
          0.010869565217391304,
          0.011764705882352941,
          0.01282051282051282,
          0.013513513513513514,
          0.021739130434782608,
          0.023529411764705882,
          0.024691358024691357,
          0.02564102564102564,
          0.02702702702702703,
          0.03529411764705882,
          0.037037037037037035,
          0.038461538461538464,
          0.058823529411764705,
          0.06172839506172839,
          0.0641025641025641,
          0.07058823529411765,
          0.07407407407407407,
          0.08108108108108109,
          0.08235294117647059,
          0.08641975308641975,
          0.10256410256410256,
          0.10810810810810811,
          0.12162162162162163,
          0.1282051282051282,
          0.13580246913580246,
          0.14102564102564102,
          0.15294117647058825,
          0.15384615384615385,
          0.16666666666666666,
          0.17647058823529413,
          0.18478260869565216,
          0.2,
          0.20652173913043478,
          0.22826086956521738,
          0.32098765432098764,
          0.32608695652173914,
          0.391304347826087,
          0.43478260869565216,
          0.4782608695652174,
          0.5135135135135135,
          0.5384615384615384,
          0.7564102564102564,
          0.9358974358974359,
          1
         ],
         "y": [
          0.43129583677970784,
          0.46206506754893856,
          0.5220650675489386,
          0.5442872897711608,
          0.5700937413840641,
          0.5854783567686794,
          0.5954783567686793,
          0.6038116901020126,
          0.61121909750942,
          0.6305739362190975,
          0.6405739362190975,
          0.6822406028857643,
          0.7563146769598383,
          0.7663146769598383,
          0.7663146769598383,
          0.7827320558772172,
          0.7971098839315158,
          0.7994628251079864,
          0.7994628251079864,
          0.8094628251079865,
          0.8177961584413197,
          0.8252035658487271,
          0.8252035658487271,
          0.8381067916551788,
          0.8529216064699934,
          0.8612549398033268,
          0.8686623472107342,
          0.8786623472107344,
          0.8786623472107344,
          0.8860697546181416,
          0.8860697546181416,
          0.8860697546181416,
          0.8860697546181416,
          0.8860697546181416,
          0.9014543700027572,
          0.9097877033360906,
          0.9251723187207059,
          0.9405569341053213,
          0.9559415494899366,
          0.9713261648745519,
          0.9777777777777779,
          0.9851851851851852,
          0.9925925925925926,
          1,
          1
         ]
        },
        {
         "line": {
          "dash": "dot"
         },
         "mode": "lines",
         "name": "micro-average (area = 0.93)",
         "type": "scatter",
         "x": [
          0,
          0,
          0,
          0.0024390243902439024,
          0.0024390243902439024,
          0.004878048780487805,
          0.004878048780487805,
          0.007317073170731708,
          0.007317073170731708,
          0.00975609756097561,
          0.00975609756097561,
          0.014634146341463415,
          0.014634146341463415,
          0.01707317073170732,
          0.01707317073170732,
          0.01951219512195122,
          0.01951219512195122,
          0.02195121951219512,
          0.02195121951219512,
          0.024390243902439025,
          0.024390243902439025,
          0.026829268292682926,
          0.026829268292682926,
          0.03414634146341464,
          0.03414634146341464,
          0.041463414634146344,
          0.041463414634146344,
          0.04390243902439024,
          0.04390243902439024,
          0.04878048780487805,
          0.04878048780487805,
          0.05121951219512195,
          0.05121951219512195,
          0.05365853658536585,
          0.05609756097560976,
          0.06341463414634146,
          0.06341463414634146,
          0.06585365853658537,
          0.06585365853658537,
          0.07317073170731707,
          0.07317073170731707,
          0.07804878048780488,
          0.07804878048780488,
          0.09024390243902439,
          0.09024390243902439,
          0.0975609756097561,
          0.0975609756097561,
          0.11463414634146342,
          0.11463414634146342,
          0.12195121951219512,
          0.12682926829268293,
          0.12682926829268293,
          0.14390243902439023,
          0.14878048780487804,
          0.15121951219512195,
          0.15121951219512195,
          0.15365853658536585,
          0.15365853658536585,
          0.15853658536585366,
          0.16097560975609757,
          0.21951219512195122,
          0.22439024390243903,
          0.26097560975609757,
          0.26097560975609757,
          0.2804878048780488,
          0.2804878048780488,
          0.37317073170731707,
          0.37317073170731707,
          0.4268292682926829,
          0.4268292682926829,
          0.45365853658536587,
          0.45365853658536587,
          0.5170731707317073,
          0.5170731707317073,
          0.5658536585365853,
          0.5658536585365853,
          0.7707317073170732,
          0.7707317073170732,
          0.948780487804878,
          0.948780487804878,
          1
         ],
         "y": [
          0,
          0.008695652173913044,
          0.24347826086956523,
          0.24347826086956523,
          0.25217391304347825,
          0.25217391304347825,
          0.3826086956521739,
          0.3826086956521739,
          0.41739130434782606,
          0.41739130434782606,
          0.43478260869565216,
          0.43478260869565216,
          0.5217391304347826,
          0.5217391304347826,
          0.5652173913043478,
          0.5652173913043478,
          0.591304347826087,
          0.591304347826087,
          0.6434782608695652,
          0.6434782608695652,
          0.6782608695652174,
          0.6782608695652174,
          0.6956521739130435,
          0.6956521739130435,
          0.7130434782608696,
          0.7130434782608696,
          0.7391304347826086,
          0.7391304347826086,
          0.7565217391304347,
          0.7565217391304347,
          0.7652173913043478,
          0.7652173913043478,
          0.782608695652174,
          0.782608695652174,
          0.7913043478260869,
          0.7913043478260869,
          0.8,
          0.8,
          0.808695652173913,
          0.808695652173913,
          0.8434782608695652,
          0.8434782608695652,
          0.8521739130434782,
          0.8521739130434782,
          0.8608695652173913,
          0.8608695652173913,
          0.8695652173913043,
          0.8695652173913043,
          0.8782608695652174,
          0.8782608695652174,
          0.8782608695652174,
          0.8869565217391304,
          0.8869565217391304,
          0.8869565217391304,
          0.8869565217391304,
          0.8956521739130435,
          0.8956521739130435,
          0.9043478260869565,
          0.9043478260869565,
          0.9130434782608695,
          0.9130434782608695,
          0.9130434782608695,
          0.9130434782608695,
          0.9217391304347826,
          0.9217391304347826,
          0.9304347826086956,
          0.9304347826086956,
          0.9391304347826087,
          0.9391304347826087,
          0.9478260869565217,
          0.9478260869565217,
          0.9565217391304348,
          0.9565217391304348,
          0.9652173913043478,
          0.9652173913043478,
          0.9826086956521739,
          0.9826086956521739,
          0.991304347826087,
          0.991304347826087,
          1,
          1
         ]
        }
       ],
       "layout": {
        "autosize": false,
        "height": 500,
        "legend": {
         "x": 0.55,
         "xanchor": "left",
         "y": 0.02,
         "yanchor": "bottom"
        },
        "shapes": [
         {
          "line": {
           "dash": "dash"
          },
          "type": "line",
          "x0": 0,
          "x1": 1,
          "y0": 0,
          "y1": 1
         }
        ],
        "template": {
         "data": {
          "bar": [
           {
            "error_x": {
             "color": "#2a3f5f"
            },
            "error_y": {
             "color": "#2a3f5f"
            },
            "marker": {
             "line": {
              "color": "#E5ECF6",
              "width": 0.5
             },
             "pattern": {
              "fillmode": "overlay",
              "size": 10,
              "solidity": 0.2
             }
            },
            "type": "bar"
           }
          ],
          "barpolar": [
           {
            "marker": {
             "line": {
              "color": "#E5ECF6",
              "width": 0.5
             },
             "pattern": {
              "fillmode": "overlay",
              "size": 10,
              "solidity": 0.2
             }
            },
            "type": "barpolar"
           }
          ],
          "carpet": [
           {
            "aaxis": {
             "endlinecolor": "#2a3f5f",
             "gridcolor": "white",
             "linecolor": "white",
             "minorgridcolor": "white",
             "startlinecolor": "#2a3f5f"
            },
            "baxis": {
             "endlinecolor": "#2a3f5f",
             "gridcolor": "white",
             "linecolor": "white",
             "minorgridcolor": "white",
             "startlinecolor": "#2a3f5f"
            },
            "type": "carpet"
           }
          ],
          "choropleth": [
           {
            "colorbar": {
             "outlinewidth": 0,
             "ticks": ""
            },
            "type": "choropleth"
           }
          ],
          "contour": [
           {
            "colorbar": {
             "outlinewidth": 0,
             "ticks": ""
            },
            "colorscale": [
             [
              0,
              "#0d0887"
             ],
             [
              0.1111111111111111,
              "#46039f"
             ],
             [
              0.2222222222222222,
              "#7201a8"
             ],
             [
              0.3333333333333333,
              "#9c179e"
             ],
             [
              0.4444444444444444,
              "#bd3786"
             ],
             [
              0.5555555555555556,
              "#d8576b"
             ],
             [
              0.6666666666666666,
              "#ed7953"
             ],
             [
              0.7777777777777778,
              "#fb9f3a"
             ],
             [
              0.8888888888888888,
              "#fdca26"
             ],
             [
              1,
              "#f0f921"
             ]
            ],
            "type": "contour"
           }
          ],
          "contourcarpet": [
           {
            "colorbar": {
             "outlinewidth": 0,
             "ticks": ""
            },
            "type": "contourcarpet"
           }
          ],
          "heatmap": [
           {
            "colorbar": {
             "outlinewidth": 0,
             "ticks": ""
            },
            "colorscale": [
             [
              0,
              "#0d0887"
             ],
             [
              0.1111111111111111,
              "#46039f"
             ],
             [
              0.2222222222222222,
              "#7201a8"
             ],
             [
              0.3333333333333333,
              "#9c179e"
             ],
             [
              0.4444444444444444,
              "#bd3786"
             ],
             [
              0.5555555555555556,
              "#d8576b"
             ],
             [
              0.6666666666666666,
              "#ed7953"
             ],
             [
              0.7777777777777778,
              "#fb9f3a"
             ],
             [
              0.8888888888888888,
              "#fdca26"
             ],
             [
              1,
              "#f0f921"
             ]
            ],
            "type": "heatmap"
           }
          ],
          "heatmapgl": [
           {
            "colorbar": {
             "outlinewidth": 0,
             "ticks": ""
            },
            "colorscale": [
             [
              0,
              "#0d0887"
             ],
             [
              0.1111111111111111,
              "#46039f"
             ],
             [
              0.2222222222222222,
              "#7201a8"
             ],
             [
              0.3333333333333333,
              "#9c179e"
             ],
             [
              0.4444444444444444,
              "#bd3786"
             ],
             [
              0.5555555555555556,
              "#d8576b"
             ],
             [
              0.6666666666666666,
              "#ed7953"
             ],
             [
              0.7777777777777778,
              "#fb9f3a"
             ],
             [
              0.8888888888888888,
              "#fdca26"
             ],
             [
              1,
              "#f0f921"
             ]
            ],
            "type": "heatmapgl"
           }
          ],
          "histogram": [
           {
            "marker": {
             "pattern": {
              "fillmode": "overlay",
              "size": 10,
              "solidity": 0.2
             }
            },
            "type": "histogram"
           }
          ],
          "histogram2d": [
           {
            "colorbar": {
             "outlinewidth": 0,
             "ticks": ""
            },
            "colorscale": [
             [
              0,
              "#0d0887"
             ],
             [
              0.1111111111111111,
              "#46039f"
             ],
             [
              0.2222222222222222,
              "#7201a8"
             ],
             [
              0.3333333333333333,
              "#9c179e"
             ],
             [
              0.4444444444444444,
              "#bd3786"
             ],
             [
              0.5555555555555556,
              "#d8576b"
             ],
             [
              0.6666666666666666,
              "#ed7953"
             ],
             [
              0.7777777777777778,
              "#fb9f3a"
             ],
             [
              0.8888888888888888,
              "#fdca26"
             ],
             [
              1,
              "#f0f921"
             ]
            ],
            "type": "histogram2d"
           }
          ],
          "histogram2dcontour": [
           {
            "colorbar": {
             "outlinewidth": 0,
             "ticks": ""
            },
            "colorscale": [
             [
              0,
              "#0d0887"
             ],
             [
              0.1111111111111111,
              "#46039f"
             ],
             [
              0.2222222222222222,
              "#7201a8"
             ],
             [
              0.3333333333333333,
              "#9c179e"
             ],
             [
              0.4444444444444444,
              "#bd3786"
             ],
             [
              0.5555555555555556,
              "#d8576b"
             ],
             [
              0.6666666666666666,
              "#ed7953"
             ],
             [
              0.7777777777777778,
              "#fb9f3a"
             ],
             [
              0.8888888888888888,
              "#fdca26"
             ],
             [
              1,
              "#f0f921"
             ]
            ],
            "type": "histogram2dcontour"
           }
          ],
          "mesh3d": [
           {
            "colorbar": {
             "outlinewidth": 0,
             "ticks": ""
            },
            "type": "mesh3d"
           }
          ],
          "parcoords": [
           {
            "line": {
             "colorbar": {
              "outlinewidth": 0,
              "ticks": ""
             }
            },
            "type": "parcoords"
           }
          ],
          "pie": [
           {
            "automargin": true,
            "type": "pie"
           }
          ],
          "scatter": [
           {
            "fillpattern": {
             "fillmode": "overlay",
             "size": 10,
             "solidity": 0.2
            },
            "type": "scatter"
           }
          ],
          "scatter3d": [
           {
            "line": {
             "colorbar": {
              "outlinewidth": 0,
              "ticks": ""
             }
            },
            "marker": {
             "colorbar": {
              "outlinewidth": 0,
              "ticks": ""
             }
            },
            "type": "scatter3d"
           }
          ],
          "scattercarpet": [
           {
            "marker": {
             "colorbar": {
              "outlinewidth": 0,
              "ticks": ""
             }
            },
            "type": "scattercarpet"
           }
          ],
          "scattergeo": [
           {
            "marker": {
             "colorbar": {
              "outlinewidth": 0,
              "ticks": ""
             }
            },
            "type": "scattergeo"
           }
          ],
          "scattergl": [
           {
            "marker": {
             "colorbar": {
              "outlinewidth": 0,
              "ticks": ""
             }
            },
            "type": "scattergl"
           }
          ],
          "scattermapbox": [
           {
            "marker": {
             "colorbar": {
              "outlinewidth": 0,
              "ticks": ""
             }
            },
            "type": "scattermapbox"
           }
          ],
          "scatterpolar": [
           {
            "marker": {
             "colorbar": {
              "outlinewidth": 0,
              "ticks": ""
             }
            },
            "type": "scatterpolar"
           }
          ],
          "scatterpolargl": [
           {
            "marker": {
             "colorbar": {
              "outlinewidth": 0,
              "ticks": ""
             }
            },
            "type": "scatterpolargl"
           }
          ],
          "scatterternary": [
           {
            "marker": {
             "colorbar": {
              "outlinewidth": 0,
              "ticks": ""
             }
            },
            "type": "scatterternary"
           }
          ],
          "surface": [
           {
            "colorbar": {
             "outlinewidth": 0,
             "ticks": ""
            },
            "colorscale": [
             [
              0,
              "#0d0887"
             ],
             [
              0.1111111111111111,
              "#46039f"
             ],
             [
              0.2222222222222222,
              "#7201a8"
             ],
             [
              0.3333333333333333,
              "#9c179e"
             ],
             [
              0.4444444444444444,
              "#bd3786"
             ],
             [
              0.5555555555555556,
              "#d8576b"
             ],
             [
              0.6666666666666666,
              "#ed7953"
             ],
             [
              0.7777777777777778,
              "#fb9f3a"
             ],
             [
              0.8888888888888888,
              "#fdca26"
             ],
             [
              1,
              "#f0f921"
             ]
            ],
            "type": "surface"
           }
          ],
          "table": [
           {
            "cells": {
             "fill": {
              "color": "#EBF0F8"
             },
             "line": {
              "color": "white"
             }
            },
            "header": {
             "fill": {
              "color": "#C8D4E3"
             },
             "line": {
              "color": "white"
             }
            },
            "type": "table"
           }
          ]
         },
         "layout": {
          "annotationdefaults": {
           "arrowcolor": "#2a3f5f",
           "arrowhead": 0,
           "arrowwidth": 1
          },
          "autotypenumbers": "strict",
          "coloraxis": {
           "colorbar": {
            "outlinewidth": 0,
            "ticks": ""
           }
          },
          "colorscale": {
           "diverging": [
            [
             0,
             "#8e0152"
            ],
            [
             0.1,
             "#c51b7d"
            ],
            [
             0.2,
             "#de77ae"
            ],
            [
             0.3,
             "#f1b6da"
            ],
            [
             0.4,
             "#fde0ef"
            ],
            [
             0.5,
             "#f7f7f7"
            ],
            [
             0.6,
             "#e6f5d0"
            ],
            [
             0.7,
             "#b8e186"
            ],
            [
             0.8,
             "#7fbc41"
            ],
            [
             0.9,
             "#4d9221"
            ],
            [
             1,
             "#276419"
            ]
           ],
           "sequential": [
            [
             0,
             "#0d0887"
            ],
            [
             0.1111111111111111,
             "#46039f"
            ],
            [
             0.2222222222222222,
             "#7201a8"
            ],
            [
             0.3333333333333333,
             "#9c179e"
            ],
            [
             0.4444444444444444,
             "#bd3786"
            ],
            [
             0.5555555555555556,
             "#d8576b"
            ],
            [
             0.6666666666666666,
             "#ed7953"
            ],
            [
             0.7777777777777778,
             "#fb9f3a"
            ],
            [
             0.8888888888888888,
             "#fdca26"
            ],
            [
             1,
             "#f0f921"
            ]
           ],
           "sequentialminus": [
            [
             0,
             "#0d0887"
            ],
            [
             0.1111111111111111,
             "#46039f"
            ],
            [
             0.2222222222222222,
             "#7201a8"
            ],
            [
             0.3333333333333333,
             "#9c179e"
            ],
            [
             0.4444444444444444,
             "#bd3786"
            ],
            [
             0.5555555555555556,
             "#d8576b"
            ],
            [
             0.6666666666666666,
             "#ed7953"
            ],
            [
             0.7777777777777778,
             "#fb9f3a"
            ],
            [
             0.8888888888888888,
             "#fdca26"
            ],
            [
             1,
             "#f0f921"
            ]
           ]
          },
          "colorway": [
           "#636efa",
           "#EF553B",
           "#00cc96",
           "#ab63fa",
           "#FFA15A",
           "#19d3f3",
           "#FF6692",
           "#B6E880",
           "#FF97FF",
           "#FECB52"
          ],
          "font": {
           "color": "#2a3f5f"
          },
          "geo": {
           "bgcolor": "white",
           "lakecolor": "white",
           "landcolor": "#E5ECF6",
           "showlakes": true,
           "showland": true,
           "subunitcolor": "white"
          },
          "hoverlabel": {
           "align": "left"
          },
          "hovermode": "closest",
          "mapbox": {
           "style": "light"
          },
          "paper_bgcolor": "white",
          "plot_bgcolor": "#E5ECF6",
          "polar": {
           "angularaxis": {
            "gridcolor": "white",
            "linecolor": "white",
            "ticks": ""
           },
           "bgcolor": "#E5ECF6",
           "radialaxis": {
            "gridcolor": "white",
            "linecolor": "white",
            "ticks": ""
           }
          },
          "scene": {
           "xaxis": {
            "backgroundcolor": "#E5ECF6",
            "gridcolor": "white",
            "gridwidth": 2,
            "linecolor": "white",
            "showbackground": true,
            "ticks": "",
            "zerolinecolor": "white"
           },
           "yaxis": {
            "backgroundcolor": "#E5ECF6",
            "gridcolor": "white",
            "gridwidth": 2,
            "linecolor": "white",
            "showbackground": true,
            "ticks": "",
            "zerolinecolor": "white"
           },
           "zaxis": {
            "backgroundcolor": "#E5ECF6",
            "gridcolor": "white",
            "gridwidth": 2,
            "linecolor": "white",
            "showbackground": true,
            "ticks": "",
            "zerolinecolor": "white"
           }
          },
          "shapedefaults": {
           "line": {
            "color": "#2a3f5f"
           }
          },
          "ternary": {
           "aaxis": {
            "gridcolor": "white",
            "linecolor": "white",
            "ticks": ""
           },
           "baxis": {
            "gridcolor": "white",
            "linecolor": "white",
            "ticks": ""
           },
           "bgcolor": "#E5ECF6",
           "caxis": {
            "gridcolor": "white",
            "linecolor": "white",
            "ticks": ""
           }
          },
          "title": {
           "x": 0.05
          },
          "xaxis": {
           "automargin": true,
           "gridcolor": "white",
           "linecolor": "white",
           "ticks": "",
           "title": {
            "standoff": 15
           },
           "zerolinecolor": "white",
           "zerolinewidth": 2
          },
          "yaxis": {
           "automargin": true,
           "gridcolor": "white",
           "linecolor": "white",
           "ticks": "",
           "title": {
            "standoff": 15
           },
           "zerolinecolor": "white",
           "zerolinewidth": 2
          }
         }
        },
        "title": {
         "text": "Test dataset ROC curves"
        },
        "width": 600,
        "xaxis": {
         "constrain": "domain",
         "title": {
          "text": "False Positive Rate"
         }
        },
        "yaxis": {
         "scaleanchor": "x",
         "scaleratio": 1,
         "title": {
          "text": "True Positive Rate"
         }
        }
       }
      }
     },
     "metadata": {},
     "output_type": "display_data"
    }
   ],
   "source": [
    "# Predictions\n",
    "y_pred_train = grid_search.predict(X_train_transf).toarray()\n",
    "y_pred_test = grid_search.predict(X_test_transf).toarray()\n",
    "y_proba_train = grid_search.predict_proba(X_train_transf).toarray()\n",
    "y_proba_test = grid_search.predict_proba(X_test_transf).toarray()\n",
    "# Calculate metrics for train and test\n",
    "fpr_train, trp_train, roc_auc_train = multiclass_rouc_auc(y_train, y_proba_train, len(labels))\n",
    "fpr_test, trp_test, roc_auc_test = multiclass_rouc_auc(y_test, y_proba_test, len(labels))\n",
    "# Compute precision, recall and f1 score for each label, plus micro and macro average\n",
    "clf_report_train = pd.DataFrame(classification_report(y_train, y_pred_train, output_dict=True)).T\n",
    "clf_report_test = pd.DataFrame(classification_report(y_test, y_pred_test, output_dict=True)).T\n",
    "# Rename axis with labels\n",
    "clf_report_train.index = list(labels) + ['micro avg', 'macro avg', 'weighted avg', 'samples avg']\n",
    "clf_report_test.index = list(labels) + ['micro avg', 'macro avg', 'weighted avg', 'samples avg']\n",
    "# Add the ROC AUC scores computed previously\n",
    "clf_report_train['roc auc'] = list(roc_auc_train.values()) + ([np.nan] * 2)\n",
    "clf_report_test['roc auc'] = list(roc_auc_test.values()) + ([np.nan] * 2)\n",
    "# Plot ROC AUC curves\n",
    "plot_multiclass_roc_auc(fpr_train, trp_train, roc_auc_train, labels, title='Train dataset').show()\n",
    "plot_multiclass_roc_auc(fpr_test, trp_test, roc_auc_test, labels, title='Test dataset').show()"
   ]
  },
  {
   "cell_type": "code",
   "execution_count": 41,
   "id": "00c4e824",
   "metadata": {},
   "outputs": [
    {
     "name": "stdout",
     "output_type": "stream",
     "text": [
      "Classification report for Train dataset. F1 Average Score = 0.905\n"
     ]
    },
    {
     "data": {
      "text/html": [
       "<div>\n",
       "<style scoped>\n",
       "    .dataframe tbody tr th:only-of-type {\n",
       "        vertical-align: middle;\n",
       "    }\n",
       "\n",
       "    .dataframe tbody tr th {\n",
       "        vertical-align: top;\n",
       "    }\n",
       "\n",
       "    .dataframe thead th {\n",
       "        text-align: right;\n",
       "    }\n",
       "</style>\n",
       "<table border=\"1\" class=\"dataframe\">\n",
       "  <thead>\n",
       "    <tr style=\"text-align: right;\">\n",
       "      <th></th>\n",
       "      <th>precision</th>\n",
       "      <th>recall</th>\n",
       "      <th>f1-score</th>\n",
       "      <th>support</th>\n",
       "      <th>roc auc</th>\n",
       "    </tr>\n",
       "  </thead>\n",
       "  <tbody>\n",
       "    <tr>\n",
       "      <th>educação</th>\n",
       "      <td>1.000000</td>\n",
       "      <td>1.000000</td>\n",
       "      <td>1.000000</td>\n",
       "      <td>92.0</td>\n",
       "      <td>1.000000</td>\n",
       "    </tr>\n",
       "    <tr>\n",
       "      <th>finanças</th>\n",
       "      <td>0.983607</td>\n",
       "      <td>0.952381</td>\n",
       "      <td>0.967742</td>\n",
       "      <td>63.0</td>\n",
       "      <td>0.999640</td>\n",
       "    </tr>\n",
       "    <tr>\n",
       "      <th>indústrias</th>\n",
       "      <td>1.000000</td>\n",
       "      <td>0.977011</td>\n",
       "      <td>0.988372</td>\n",
       "      <td>87.0</td>\n",
       "      <td>0.999930</td>\n",
       "    </tr>\n",
       "    <tr>\n",
       "      <th>orgão público</th>\n",
       "      <td>1.000000</td>\n",
       "      <td>0.992366</td>\n",
       "      <td>0.996169</td>\n",
       "      <td>131.0</td>\n",
       "      <td>0.999973</td>\n",
       "    </tr>\n",
       "    <tr>\n",
       "      <th>varejo</th>\n",
       "      <td>0.987179</td>\n",
       "      <td>0.974684</td>\n",
       "      <td>0.980892</td>\n",
       "      <td>79.0</td>\n",
       "      <td>1.000000</td>\n",
       "    </tr>\n",
       "    <tr>\n",
       "      <th>micro avg</th>\n",
       "      <td>0.995516</td>\n",
       "      <td>0.982301</td>\n",
       "      <td>0.988864</td>\n",
       "      <td>452.0</td>\n",
       "      <td>0.999936</td>\n",
       "    </tr>\n",
       "    <tr>\n",
       "      <th>macro avg</th>\n",
       "      <td>0.994157</td>\n",
       "      <td>0.979288</td>\n",
       "      <td>0.986635</td>\n",
       "      <td>452.0</td>\n",
       "      <td>0.999940</td>\n",
       "    </tr>\n",
       "    <tr>\n",
       "      <th>weighted avg</th>\n",
       "      <td>0.995474</td>\n",
       "      <td>0.982301</td>\n",
       "      <td>0.988816</td>\n",
       "      <td>452.0</td>\n",
       "      <td>NaN</td>\n",
       "    </tr>\n",
       "    <tr>\n",
       "      <th>samples avg</th>\n",
       "      <td>0.995192</td>\n",
       "      <td>0.989183</td>\n",
       "      <td>0.991186</td>\n",
       "      <td>452.0</td>\n",
       "      <td>NaN</td>\n",
       "    </tr>\n",
       "  </tbody>\n",
       "</table>\n",
       "</div>"
      ],
      "text/plain": [
       "               precision    recall  f1-score  support   roc auc\n",
       "educação        1.000000  1.000000  1.000000     92.0  1.000000\n",
       "finanças        0.983607  0.952381  0.967742     63.0  0.999640\n",
       "indústrias      1.000000  0.977011  0.988372     87.0  0.999930\n",
       "orgão público   1.000000  0.992366  0.996169    131.0  0.999973\n",
       "varejo          0.987179  0.974684  0.980892     79.0  1.000000\n",
       "micro avg       0.995516  0.982301  0.988864    452.0  0.999936\n",
       "macro avg       0.994157  0.979288  0.986635    452.0  0.999940\n",
       "weighted avg    0.995474  0.982301  0.988816    452.0       NaN\n",
       "samples avg     0.995192  0.989183  0.991186    452.0       NaN"
      ]
     },
     "execution_count": 41,
     "metadata": {},
     "output_type": "execute_result"
    }
   ],
   "source": [
    "print(f'Classification report for Train dataset. F1 Average Score = {f1_score_train:.3f}')\n",
    "clf_report_train"
   ]
  },
  {
   "cell_type": "code",
   "execution_count": 42,
   "id": "597470c7",
   "metadata": {},
   "outputs": [
    {
     "name": "stdout",
     "output_type": "stream",
     "text": [
      "Classification report for Train dataset. F1 Average Score = 0.680\n"
     ]
    },
    {
     "data": {
      "text/html": [
       "<div>\n",
       "<style scoped>\n",
       "    .dataframe tbody tr th:only-of-type {\n",
       "        vertical-align: middle;\n",
       "    }\n",
       "\n",
       "    .dataframe tbody tr th {\n",
       "        vertical-align: top;\n",
       "    }\n",
       "\n",
       "    .dataframe thead th {\n",
       "        text-align: right;\n",
       "    }\n",
       "</style>\n",
       "<table border=\"1\" class=\"dataframe\">\n",
       "  <thead>\n",
       "    <tr style=\"text-align: right;\">\n",
       "      <th></th>\n",
       "      <th>precision</th>\n",
       "      <th>recall</th>\n",
       "      <th>f1-score</th>\n",
       "      <th>support</th>\n",
       "      <th>roc auc</th>\n",
       "    </tr>\n",
       "  </thead>\n",
       "  <tbody>\n",
       "    <tr>\n",
       "      <th>educação</th>\n",
       "      <td>0.925926</td>\n",
       "      <td>0.806452</td>\n",
       "      <td>0.862069</td>\n",
       "      <td>31.0</td>\n",
       "      <td>0.971229</td>\n",
       "    </tr>\n",
       "    <tr>\n",
       "      <th>finanças</th>\n",
       "      <td>0.666667</td>\n",
       "      <td>0.461538</td>\n",
       "      <td>0.545455</td>\n",
       "      <td>13.0</td>\n",
       "      <td>0.853679</td>\n",
       "    </tr>\n",
       "    <tr>\n",
       "      <th>indústrias</th>\n",
       "      <td>0.850000</td>\n",
       "      <td>0.850000</td>\n",
       "      <td>0.850000</td>\n",
       "      <td>20.0</td>\n",
       "      <td>0.975294</td>\n",
       "    </tr>\n",
       "    <tr>\n",
       "      <th>orgão público</th>\n",
       "      <td>0.785714</td>\n",
       "      <td>0.916667</td>\n",
       "      <td>0.846154</td>\n",
       "      <td>24.0</td>\n",
       "      <td>0.965792</td>\n",
       "    </tr>\n",
       "    <tr>\n",
       "      <th>varejo</th>\n",
       "      <td>0.809524</td>\n",
       "      <td>0.629630</td>\n",
       "      <td>0.708333</td>\n",
       "      <td>27.0</td>\n",
       "      <td>0.871557</td>\n",
       "    </tr>\n",
       "    <tr>\n",
       "      <th>micro avg</th>\n",
       "      <td>0.828571</td>\n",
       "      <td>0.756522</td>\n",
       "      <td>0.790909</td>\n",
       "      <td>115.0</td>\n",
       "      <td>0.932683</td>\n",
       "    </tr>\n",
       "    <tr>\n",
       "      <th>macro avg</th>\n",
       "      <td>0.807566</td>\n",
       "      <td>0.732857</td>\n",
       "      <td>0.762402</td>\n",
       "      <td>115.0</td>\n",
       "      <td>0.931872</td>\n",
       "    </tr>\n",
       "    <tr>\n",
       "      <th>weighted avg</th>\n",
       "      <td>0.826823</td>\n",
       "      <td>0.756522</td>\n",
       "      <td>0.784763</td>\n",
       "      <td>115.0</td>\n",
       "      <td>NaN</td>\n",
       "    </tr>\n",
       "    <tr>\n",
       "      <th>samples avg</th>\n",
       "      <td>0.828571</td>\n",
       "      <td>0.785714</td>\n",
       "      <td>0.800000</td>\n",
       "      <td>115.0</td>\n",
       "      <td>NaN</td>\n",
       "    </tr>\n",
       "  </tbody>\n",
       "</table>\n",
       "</div>"
      ],
      "text/plain": [
       "               precision    recall  f1-score  support   roc auc\n",
       "educação        0.925926  0.806452  0.862069     31.0  0.971229\n",
       "finanças        0.666667  0.461538  0.545455     13.0  0.853679\n",
       "indústrias      0.850000  0.850000  0.850000     20.0  0.975294\n",
       "orgão público   0.785714  0.916667  0.846154     24.0  0.965792\n",
       "varejo          0.809524  0.629630  0.708333     27.0  0.871557\n",
       "micro avg       0.828571  0.756522  0.790909    115.0  0.932683\n",
       "macro avg       0.807566  0.732857  0.762402    115.0  0.931872\n",
       "weighted avg    0.826823  0.756522  0.784763    115.0       NaN\n",
       "samples avg     0.828571  0.785714  0.800000    115.0       NaN"
      ]
     },
     "execution_count": 42,
     "metadata": {},
     "output_type": "execute_result"
    }
   ],
   "source": [
    "print(f'Classification report for Train dataset. F1 Average Score = {f1_score_test:.3f}')\n",
    "clf_report_test"
   ]
  },
  {
   "cell_type": "markdown",
   "id": "cdc2815e",
   "metadata": {},
   "source": [
    "# Conclusions"
   ]
  },
  {
   "cell_type": "markdown",
   "id": "20fb8c0f",
   "metadata": {},
   "source": [
    "In this last model, despite having the highest score for the test dataset(74.29%) and cross validation(73%), the almost perfect train score(98.32%) indicates a overfitting case.  "
   ]
  }
 ],
 "metadata": {
  "kernelspec": {
   "display_name": "Python 3.9.12 ('base')",
   "language": "python",
   "name": "python3"
  },
  "language_info": {
   "codemirror_mode": {
    "name": "ipython",
    "version": 3
   },
   "file_extension": ".py",
   "mimetype": "text/x-python",
   "name": "python",
   "nbconvert_exporter": "python",
   "pygments_lexer": "ipython3",
   "version": "3.9.12"
  },
  "toc": {
   "base_numbering": 1,
   "nav_menu": {},
   "number_sections": true,
   "sideBar": true,
   "skip_h1_title": false,
   "title_cell": "Table of Contents",
   "title_sidebar": "Contents",
   "toc_cell": false,
   "toc_position": {},
   "toc_section_display": true,
   "toc_window_display": false
  },
  "vscode": {
   "interpreter": {
    "hash": "4cc37c5bde6f2c4a9abbb0f88e1ba241d8320ce9d430498035b829e5a00e7fb9"
   }
  }
 },
 "nbformat": 4,
 "nbformat_minor": 5
}
